{
 "cells": [
  {
   "cell_type": "code",
   "execution_count": 40,
   "metadata": {},
   "outputs": [],
   "source": [
    "# import required libraries for dataframe and visualization\n",
    "import numpy as np\n",
    "import pandas as pd\n",
    "import matplotlib.pyplot as plt\n",
    "import seaborn as sns\n",
    "import datetime as dt\n",
    "\n",
    "# import required libraries for clustering\n",
    "import sklearn\n",
    "from sklearn.preprocessing import StandardScaler\n",
    "from sklearn.cluster import KMeans\n",
    "from collections import Counter\n",
    "from sklearn.metrics import silhouette_score\n",
    "from scipy.cluster.hierarchy import linkage\n",
    "from scipy.cluster.hierarchy import dendrogram\n",
    "from scipy.cluster.hierarchy import cut_tree\n",
    "\n",
    "import warnings \n",
    "warnings.filterwarnings('ignore')"
   ]
  },
  {
   "cell_type": "code",
   "execution_count": 6,
   "metadata": {},
   "outputs": [
    {
     "name": "stderr",
     "output_type": "stream",
     "text": [
      "/opt/anaconda3/lib/python3.9/site-packages/IPython/core/interactiveshell.py:3444: DtypeWarning: Columns (0) have mixed types.Specify dtype option on import or set low_memory=False.\n",
      "  exec(code_obj, self.user_global_ns, self.user_ns)\n"
     ]
    }
   ],
   "source": [
    "merged_table = pd.read_csv('merged_table', parse_dates=['invoice_datetime'])"
   ]
  },
  {
   "cell_type": "code",
   "execution_count": 14,
   "metadata": {},
   "outputs": [],
   "source": [
    "# Convert string 'Null' into null value\n",
    "merged_table = merged_table.replace({'Null':None})"
   ]
  },
  {
   "cell_type": "code",
   "execution_count": 15,
   "metadata": {},
   "outputs": [
    {
     "name": "stdout",
     "output_type": "stream",
     "text": [
      "<class 'pandas.core.frame.DataFrame'>\n",
      "RangeIndex: 554417 entries, 0 to 554416\n",
      "Data columns (total 19 columns):\n",
      " #   Column            Non-Null Count   Dtype         \n",
      "---  ------            --------------   -----         \n",
      " 0   invoice_no        554417 non-null  object        \n",
      " 1   product_id        546019 non-null  object        \n",
      " 2   quantity          554417 non-null  int64         \n",
      " 3   unit_price        554417 non-null  float64       \n",
      " 4   total_sale        554417 non-null  float64       \n",
      " 5   customer_id       415102 non-null  object        \n",
      " 6   rating            554417 non-null  float64       \n",
      " 7   review_count      554417 non-null  int64         \n",
      " 8   country           554417 non-null  object        \n",
      " 9   product_name      554417 non-null  object        \n",
      " 10  product_type      554417 non-null  object        \n",
      " 11  stock_code        554417 non-null  object        \n",
      " 12  invoice_datetime  554417 non-null  datetime64[ns]\n",
      " 13  day_of_week       554417 non-null  int64         \n",
      " 14  month             554417 non-null  int64         \n",
      " 15  hour              554417 non-null  int64         \n",
      " 16  year              554417 non-null  int64         \n",
      " 17  quarter           554417 non-null  int64         \n",
      " 18  invoice_date      554417 non-null  object        \n",
      "dtypes: datetime64[ns](1), float64(3), int64(7), object(8)\n",
      "memory usage: 80.4+ MB\n"
     ]
    }
   ],
   "source": [
    "merged_table.info()"
   ]
  },
  {
   "cell_type": "code",
   "execution_count": 17,
   "metadata": {},
   "outputs": [
    {
     "data": {
      "text/plain": [
       "invoice_no               0\n",
       "product_id            8398\n",
       "quantity                 0\n",
       "unit_price               0\n",
       "total_sale               0\n",
       "customer_id         139315\n",
       "rating                   0\n",
       "review_count             0\n",
       "country                  0\n",
       "product_name             0\n",
       "product_type             0\n",
       "stock_code               0\n",
       "invoice_datetime         0\n",
       "day_of_week              0\n",
       "month                    0\n",
       "hour                     0\n",
       "year                     0\n",
       "quarter                  0\n",
       "invoice_date             0\n",
       "dtype: int64"
      ]
     },
     "execution_count": 17,
     "metadata": {},
     "output_type": "execute_result"
    }
   ],
   "source": [
    "# Count number of null values in each column\n",
    "merged_table.isnull().sum()"
   ]
  },
  {
   "cell_type": "code",
   "execution_count": 18,
   "metadata": {},
   "outputs": [
    {
     "data": {
      "text/plain": [
       "(409035, 19)"
      ]
     },
     "execution_count": 18,
     "metadata": {},
     "output_type": "execute_result"
    }
   ],
   "source": [
    "# Dropping rows having missing values\n",
    "retail = merged_table.dropna()\n",
    "retail.shape"
   ]
  },
  {
   "cell_type": "code",
   "execution_count": 20,
   "metadata": {},
   "outputs": [
    {
     "data": {
      "text/html": [
       "<div>\n",
       "<style scoped>\n",
       "    .dataframe tbody tr th:only-of-type {\n",
       "        vertical-align: middle;\n",
       "    }\n",
       "\n",
       "    .dataframe tbody tr th {\n",
       "        vertical-align: top;\n",
       "    }\n",
       "\n",
       "    .dataframe thead th {\n",
       "        text-align: right;\n",
       "    }\n",
       "</style>\n",
       "<table border=\"1\" class=\"dataframe\">\n",
       "  <thead>\n",
       "    <tr style=\"text-align: right;\">\n",
       "      <th></th>\n",
       "      <th>invoice_no</th>\n",
       "      <th>product_id</th>\n",
       "      <th>quantity</th>\n",
       "      <th>unit_price</th>\n",
       "      <th>total_sale</th>\n",
       "      <th>customer_id</th>\n",
       "      <th>rating</th>\n",
       "      <th>review_count</th>\n",
       "      <th>country</th>\n",
       "      <th>product_name</th>\n",
       "      <th>product_type</th>\n",
       "      <th>stock_code</th>\n",
       "      <th>invoice_datetime</th>\n",
       "      <th>day_of_week</th>\n",
       "      <th>month</th>\n",
       "      <th>hour</th>\n",
       "      <th>year</th>\n",
       "      <th>quarter</th>\n",
       "      <th>invoice_date</th>\n",
       "    </tr>\n",
       "  </thead>\n",
       "  <tbody>\n",
       "    <tr>\n",
       "      <th>0</th>\n",
       "      <td>78536597</td>\n",
       "      <td>B07GWKDLGT</td>\n",
       "      <td>4</td>\n",
       "      <td>496.95</td>\n",
       "      <td>1987.80</td>\n",
       "      <td>18011</td>\n",
       "      <td>4.6</td>\n",
       "      <td>1399</td>\n",
       "      <td>Germany</td>\n",
       "      <td>Nikon D3500 W/ AF-P DX NIKKOR 18-55mm f/3.5-5....</td>\n",
       "      <td>dslr camera</td>\n",
       "      <td>21703</td>\n",
       "      <td>2018-12-01 17:00:00</td>\n",
       "      <td>5</td>\n",
       "      <td>12</td>\n",
       "      <td>17</td>\n",
       "      <td>2018</td>\n",
       "      <td>4</td>\n",
       "      <td>2018-12-01</td>\n",
       "    </tr>\n",
       "    <tr>\n",
       "      <th>1</th>\n",
       "      <td>78536597</td>\n",
       "      <td>B01MTLH408</td>\n",
       "      <td>4</td>\n",
       "      <td>39.99</td>\n",
       "      <td>159.96</td>\n",
       "      <td>18011</td>\n",
       "      <td>4.6</td>\n",
       "      <td>289</td>\n",
       "      <td>Germany</td>\n",
       "      <td>Manfrotto Element Aluminum 5-Section Monopod, ...</td>\n",
       "      <td>dslr camera</td>\n",
       "      <td>40001</td>\n",
       "      <td>2018-12-01 17:00:00</td>\n",
       "      <td>5</td>\n",
       "      <td>12</td>\n",
       "      <td>17</td>\n",
       "      <td>2018</td>\n",
       "      <td>4</td>\n",
       "      <td>2018-12-01</td>\n",
       "    </tr>\n",
       "  </tbody>\n",
       "</table>\n",
       "</div>"
      ],
      "text/plain": [
       "  invoice_no  product_id  quantity  unit_price  total_sale customer_id  \\\n",
       "0   78536597  B07GWKDLGT         4      496.95     1987.80       18011   \n",
       "1   78536597  B01MTLH408         4       39.99      159.96       18011   \n",
       "\n",
       "   rating  review_count  country  \\\n",
       "0     4.6          1399  Germany   \n",
       "1     4.6           289  Germany   \n",
       "\n",
       "                                        product_name product_type stock_code  \\\n",
       "0  Nikon D3500 W/ AF-P DX NIKKOR 18-55mm f/3.5-5....  dslr camera      21703   \n",
       "1  Manfrotto Element Aluminum 5-Section Monopod, ...  dslr camera      40001   \n",
       "\n",
       "     invoice_datetime  day_of_week  month  hour  year  quarter invoice_date  \n",
       "0 2018-12-01 17:00:00            5     12    17  2018        4   2018-12-01  \n",
       "1 2018-12-01 17:00:00            5     12    17  2018        4   2018-12-01  "
      ]
     },
     "execution_count": 20,
     "metadata": {},
     "output_type": "execute_result"
    }
   ],
   "source": [
    "retail.head(2)"
   ]
  },
  {
   "cell_type": "code",
   "execution_count": 41,
   "metadata": {},
   "outputs": [],
   "source": [
    "retail['max_date'] = max(retail['invoice_datetime'])\n",
    "retail['max_date'] = pd.to_datetime(retail['max_date'])\n",
    "retail['recency'] = (retail['max_date'] - retail ['invoice_datetime']).dt.days"
   ]
  },
  {
   "cell_type": "markdown",
   "metadata": {},
   "source": [
    "<h5> We want to use three features for k-means clustering: </h5>"
   ]
  },
  {
   "cell_type": "markdown",
   "metadata": {},
   "source": [
    "- monetary: 'total_revenue' (per customer_id)\n",
    "- frequency: number of orders \n",
    "- recency: days since last purchase"
   ]
  },
  {
   "cell_type": "code",
   "execution_count": 45,
   "metadata": {},
   "outputs": [
    {
     "data": {
      "text/html": [
       "<div>\n",
       "<style scoped>\n",
       "    .dataframe tbody tr th:only-of-type {\n",
       "        vertical-align: middle;\n",
       "    }\n",
       "\n",
       "    .dataframe tbody tr th {\n",
       "        vertical-align: top;\n",
       "    }\n",
       "\n",
       "    .dataframe thead th {\n",
       "        text-align: right;\n",
       "    }\n",
       "</style>\n",
       "<table border=\"1\" class=\"dataframe\">\n",
       "  <thead>\n",
       "    <tr style=\"text-align: right;\">\n",
       "      <th></th>\n",
       "      <th>customer_id</th>\n",
       "      <th>frequency</th>\n",
       "      <th>total_rev</th>\n",
       "      <th>recency</th>\n",
       "    </tr>\n",
       "  </thead>\n",
       "  <tbody>\n",
       "    <tr>\n",
       "      <th>0</th>\n",
       "      <td>12346</td>\n",
       "      <td>1</td>\n",
       "      <td>4433604.10</td>\n",
       "      <td>325</td>\n",
       "    </tr>\n",
       "    <tr>\n",
       "      <th>1</th>\n",
       "      <td>12347</td>\n",
       "      <td>7</td>\n",
       "      <td>210263.69</td>\n",
       "      <td>1</td>\n",
       "    </tr>\n",
       "    <tr>\n",
       "      <th>2</th>\n",
       "      <td>12348</td>\n",
       "      <td>4</td>\n",
       "      <td>174939.60</td>\n",
       "      <td>74</td>\n",
       "    </tr>\n",
       "    <tr>\n",
       "      <th>3</th>\n",
       "      <td>12349</td>\n",
       "      <td>1</td>\n",
       "      <td>42183.30</td>\n",
       "      <td>18</td>\n",
       "    </tr>\n",
       "    <tr>\n",
       "      <th>4</th>\n",
       "      <td>12350</td>\n",
       "      <td>1</td>\n",
       "      <td>17937.80</td>\n",
       "      <td>309</td>\n",
       "    </tr>\n",
       "    <tr>\n",
       "      <th>...</th>\n",
       "      <td>...</td>\n",
       "      <td>...</td>\n",
       "      <td>...</td>\n",
       "      <td>...</td>\n",
       "    </tr>\n",
       "    <tr>\n",
       "      <th>4334</th>\n",
       "      <td>18280</td>\n",
       "      <td>1</td>\n",
       "      <td>6720.42</td>\n",
       "      <td>277</td>\n",
       "    </tr>\n",
       "    <tr>\n",
       "      <th>4335</th>\n",
       "      <td>18281</td>\n",
       "      <td>1</td>\n",
       "      <td>2713.22</td>\n",
       "      <td>180</td>\n",
       "    </tr>\n",
       "    <tr>\n",
       "      <th>4336</th>\n",
       "      <td>18282</td>\n",
       "      <td>2</td>\n",
       "      <td>3304.10</td>\n",
       "      <td>7</td>\n",
       "    </tr>\n",
       "    <tr>\n",
       "      <th>4337</th>\n",
       "      <td>18283</td>\n",
       "      <td>16</td>\n",
       "      <td>112986.22</td>\n",
       "      <td>3</td>\n",
       "    </tr>\n",
       "    <tr>\n",
       "      <th>4338</th>\n",
       "      <td>18287</td>\n",
       "      <td>3</td>\n",
       "      <td>119838.50</td>\n",
       "      <td>42</td>\n",
       "    </tr>\n",
       "  </tbody>\n",
       "</table>\n",
       "<p>4339 rows × 4 columns</p>\n",
       "</div>"
      ],
      "text/plain": [
       "     customer_id  frequency   total_rev  recency\n",
       "0          12346          1  4433604.10      325\n",
       "1          12347          7   210263.69        1\n",
       "2          12348          4   174939.60       74\n",
       "3          12349          1    42183.30       18\n",
       "4          12350          1    17937.80      309\n",
       "...          ...        ...         ...      ...\n",
       "4334       18280          1     6720.42      277\n",
       "4335       18281          1     2713.22      180\n",
       "4336       18282          2     3304.10        7\n",
       "4337       18283         16   112986.22        3\n",
       "4338       18287          3   119838.50       42\n",
       "\n",
       "[4339 rows x 4 columns]"
      ]
     },
     "execution_count": 45,
     "metadata": {},
     "output_type": "execute_result"
    }
   ],
   "source": [
    "rfm = retail.groupby('customer_id').agg({'invoice_no': 'nunique', 'total_sale':'sum', 'recency': 'min'}).reset_index().rename(columns = {'invoice_no': 'frequency', 'total_sale':'total_rev'})\n",
    "rfm"
   ]
  },
  {
   "cell_type": "code",
   "execution_count": null,
   "metadata": {},
   "outputs": [],
   "source": []
  }
 ],
 "metadata": {
  "kernelspec": {
   "display_name": "Python 3.9.7 ('base')",
   "language": "python",
   "name": "python3"
  },
  "language_info": {
   "codemirror_mode": {
    "name": "ipython",
    "version": 3
   },
   "file_extension": ".py",
   "mimetype": "text/x-python",
   "name": "python",
   "nbconvert_exporter": "python",
   "pygments_lexer": "ipython3",
   "version": "3.9.7"
  },
  "orig_nbformat": 4,
  "vscode": {
   "interpreter": {
    "hash": "40d3a090f54c6569ab1632332b64b2c03c39dcf918b08424e98f38b5ae0af88f"
   }
  }
 },
 "nbformat": 4,
 "nbformat_minor": 2
}
