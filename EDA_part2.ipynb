{
 "cells": [
  {
   "cell_type": "code",
   "execution_count": 212,
   "metadata": {},
   "outputs": [],
   "source": [
    "import numpy as np \n",
    "import pandas as pd \n",
    "import matplotlib.pyplot as plt\n",
    "import seaborn as sns\n",
    "#from datetime import datetime\n",
    "import datetime\n",
    "import statistics\n"
   ]
  },
  {
   "cell_type": "code",
   "execution_count": 213,
   "metadata": {},
   "outputs": [
    {
     "name": "stderr",
     "output_type": "stream",
     "text": [
      "/opt/anaconda3/lib/python3.9/site-packages/IPython/core/interactiveshell.py:3444: DtypeWarning: Columns (0) have mixed types.Specify dtype option on import or set low_memory=False.\n",
      "  exec(code_obj, self.user_global_ns, self.user_ns)\n"
     ]
    }
   ],
   "source": [
    "merged_table = pd.read_csv('merged_table', parse_dates = ['invoice_datetime'])"
   ]
  },
  {
   "cell_type": "markdown",
   "metadata": {},
   "source": [
    "<h3> 1) Returning customer rate </h3>\n",
    "<h4> Function </h4>"
   ]
  },
  {
   "cell_type": "code",
   "execution_count": 172,
   "metadata": {},
   "outputs": [],
   "source": [
    "def returning_customer_rate(measure_date):\n",
    "    \"\"\"\n",
    "    Compute returning customer rate (number of existing customers making more than 1 order)\n",
    "    This ignores \"Null\" customer_id values\n",
    "\n",
    "    Arguments:\n",
    "    date of measurement \n",
    "\n",
    "    Returns:\n",
    "    (# customers making more than one order, total # customers, ratio between the two)\n",
    "    \"\"\"\n",
    "    \n",
    "    # slice dataframe within time_period\n",
    "    df_slice = merged_table[(merged_table['invoice_date']< measure_date)]\n",
    "    \n",
    "    # for each customer_id, count number of unique orders (invoice_no)\n",
    "    df_slice_agg = df_slice.groupby('customer_id')['invoice_no'].nunique().reset_index().rename(columns = {'invoice_no': 'num_orders'})\n",
    "    \n",
    "    # Count number of customers with more than one order, and at least one order, respectively\n",
    "    more_than_one = df_slice_agg[df_slice_agg['num_orders'] > 1]['customer_id'].nunique()\n",
    "    at_least_one = df_slice_agg[df_slice_agg['num_orders'] >= 1]['customer_id'].nunique()\n",
    "\n",
    "    return more_than_one, at_least_one, round(100*more_than_one/at_least_one,2)\n",
    "    "
   ]
  },
  {
   "cell_type": "code",
   "execution_count": 183,
   "metadata": {},
   "outputs": [],
   "source": [
    "# compute returning_customer_rate for each month: \n",
    "measure_dates= ['2019-01-01', '2019-02-01','2019-03-01','2019-04-01','2019-05-01','2019-06-01','2019-07-01','2019-08-01',\n",
    "                '2019-09-01','2019-10-01','2019-11-01','2019-12-01']\n",
    "\n",
    "return_customers = []\n",
    "total_num_customers = []\n",
    "return_rates = []\n",
    "for date in measure_dates:\n",
    "    return_customers.append((returning_customer_rate(date))[0])\n",
    "    total_num_customers.append((returning_customer_rate(date))[1])\n",
    "    return_rates.append((returning_customer_rate(date))[2])"
   ]
  },
  {
   "cell_type": "code",
   "execution_count": 184,
   "metadata": {},
   "outputs": [
    {
     "name": "stdout",
     "output_type": "stream",
     "text": [
      "[264, 488, 662, 887, 1106, 1385, 1603, 1796, 1952, 2176, 2439, 2758]\n"
     ]
    }
   ],
   "source": [
    "print(return_customers)"
   ]
  },
  {
   "cell_type": "code",
   "execution_count": 185,
   "metadata": {},
   "outputs": [
    {
     "name": "stdout",
     "output_type": "stream",
     "text": [
      "[886, 1303, 1683, 2135, 2435, 2719, 2961, 3149, 3318, 3617, 3975, 4299]\n"
     ]
    }
   ],
   "source": [
    "print(total_num_customers)"
   ]
  },
  {
   "cell_type": "code",
   "execution_count": 186,
   "metadata": {},
   "outputs": [
    {
     "name": "stdout",
     "output_type": "stream",
     "text": [
      "[29.8, 37.45, 39.33, 41.55, 45.42, 50.94, 54.14, 57.03, 58.83, 60.16, 61.36, 64.15]\n"
     ]
    }
   ],
   "source": [
    "print(return_rates)"
   ]
  },
  {
   "cell_type": "markdown",
   "metadata": {},
   "source": [
    "- Smaller percentage in the early months, because customers have had less time to make more than one purchase  <br> \n",
    "- Towards the end, return rate reaches around 65%. By the end, around 65% of customers have made more than 1 purchase.\n",
    "- Check this stat"
   ]
  },
  {
   "cell_type": "markdown",
   "metadata": {},
   "source": [
    "<h4> Plot </h4>"
   ]
  },
  {
   "cell_type": "code",
   "execution_count": 188,
   "metadata": {},
   "outputs": [
    {
     "data": {
      "text/plain": [
       "Text(0.5, 1.0, 'Returning customer rate')"
      ]
     },
     "execution_count": 188,
     "metadata": {},
     "output_type": "execute_result"
    },
    {
     "data": {
      "image/png": "[encoded data removed]",
      "text/plain": [
       "<Figure size 504x504 with 1 Axes>"
      ]
     },
     "metadata": {
      "needs_background": "light"
     },
     "output_type": "display_data"
    }
   ],
   "source": [
    "fig, ax = plt.subplots(1,1, figsize = (7,7))\n",
    "ax.plot(measure_dates, return_rates, label = 'return rate', marker = 'o')\n",
    "ax.set_xlabel('year-month')\n",
    "ax.set_xticks(ticks = measure_dates)\n",
    "ax.set_xticklabels(labels = measure_dates, rotation = 45)\n",
    "ax.set(ylim = (25,70))\n",
    "ax.set_ylabel('per cent')\n",
    "ax.hlines(y=65, xmin = 0, xmax = 11, color='m', linestyle='--')\n",
    "ax.legend()\n",
    "ax.set_title('Returning customer rate')"
   ]
  },
  {
   "cell_type": "markdown",
   "metadata": {},
   "source": [
    "<h3> 2) Number of new customers </h3>\n",
    "<h4> Function </h4>"
   ]
  },
  {
   "cell_type": "code",
   "execution_count": 38,
   "metadata": {},
   "outputs": [],
   "source": [
    "def num_new_customers(time_period):\n",
    "    \"\"\"\n",
    "    Compute number of new customers within time_period\n",
    "\n",
    "    Arguments:\n",
    "    time_period -- (start_date, end_date)\n",
    "\n",
    "    Returns:\n",
    "    num_new_customers, num_all_customers\n",
    "    \"\"\"\n",
    "    start_date, end_date = time_period\n",
    "    \n",
    "    # All customers by end of time period\n",
    "    num_all_customers = merged_table[merged_table['invoice_date']<= end_date]['customer_id'].nunique()\n",
    "\n",
    "    # existing customers before start_date:\n",
    "    existing = merged_table[merged_table['invoice_date'] < start_date]['customer_id'].unique().tolist()\n",
    "\n",
    "    # customers within time period\n",
    "    df_slice = merged_table[(merged_table['invoice_date']>=start_date) & (merged_table['invoice_date']<=end_date)]['customer_id'].unique().tolist()\n",
    "\n",
    "\n",
    "\n",
    "    new_customers = set(df_slice) - set(existing)\n",
    "    num_new_customers = len(new_customers)\n",
    "\n",
    "    return num_new_customers, num_all_customers"
   ]
  },
  {
   "cell_type": "markdown",
   "metadata": {},
   "source": [
    "<h4> Plot </h4>"
   ]
  },
  {
   "cell_type": "code",
   "execution_count": 39,
   "metadata": {},
   "outputs": [],
   "source": [
    "# compute number of new customers for each month: \n",
    "time_periods= [\n",
    "                ('2018-12-01', '2018-12-31'), ('2019-01-01', '2019-01-31'), ('2019-02-01', '2019-02-31'), ('2019-03-01', '2019-03-31'),\n",
    "                ('2019-04-01', '2019-04-31'), ('2019-05-01', '2019-05-31'), ('2019-06-01', '2019-06-31'), ('2019-07-01', '2019-07-31'),\n",
    "                ('2019-08-01', '2019-08-31'), ('2019-09-01', '2019-09-31'), ('2019-10-01', '2019-10-31'), ('2019-11-01', '2019-11-31'),\n",
    "                ('2019-12-01', '2019-12-31') ]\n",
    "\n",
    "months = ['2018-12','2019-01','2019-02','2019-03','2019-04','2019-05','2019-06','2019-07','2019-08','2019-09','2019-10','2019-11','2019-12']\n",
    "\n",
    "all_customers = []\n",
    "new_customer_counts = []\n",
    "\n",
    "for time_period in time_periods:\n",
    "    new_customer_counts.append(num_new_customers(time_period)[0])\n",
    "    all_customers.append(num_new_customers(time_period)[1])\n",
    "\n"
   ]
  },
  {
   "cell_type": "code",
   "execution_count": 114,
   "metadata": {},
   "outputs": [
    {
     "data": {
      "image/png": "[encoded data removed]",
      "text/plain": [
       "<Figure size 504x504 with 1 Axes>"
      ]
     },
     "metadata": {
      "needs_background": "light"
     },
     "output_type": "display_data"
    }
   ],
   "source": [
    "fig, ax = plt.subplots(1,1, figsize = (7,7))\n",
    "ax.plot(months, new_customer_counts, color = 'r', label = 'new_customers', marker = 'o')\n",
    "ax.plot(months, all_customers, color = 'b', label = 'all_customers', marker = 'o')\n",
    "ax.axvline(x = 11.1, color = 'black', linestyle = '--', label = 'complete data ends here')\n",
    "ax.set_xlabel('year-month')\n",
    "ax.set_xticks(ticks = months)\n",
    "ax.set_xticklabels(labels = months, rotation = 45)\n",
    "ax.legend()\n",
    "ax.set_title('Number of new customers')\n",
    "\n",
    "plt.show()"
   ]
  },
  {
   "cell_type": "markdown",
   "metadata": {},
   "source": [
    "<h3> 3) Idle customer rate </h3>\n",
    "<h4> Functions </h4>"
   ]
  },
  {
   "cell_type": "code",
   "execution_count": 131,
   "metadata": {},
   "outputs": [],
   "source": [
    "def idle_customers_1(time_period):\n",
    "    \"\"\"\n",
    "    Compute number of idle customers within time_period\n",
    "    In this version, we will also count the new customers during time period.\n",
    "\n",
    "    Arguments:\n",
    "    time_period -- (start_date, end_date)\n",
    "\n",
    "    Returns:\n",
    "    num_idle_customers, num_all_customers, num_idle_customers/num_all_customers\n",
    "    \n",
    "    \"\"\"\n",
    "    start_date, end_date = time_period\n",
    "\n",
    "    # Customers who made a purchase within time_period\n",
    "    purchasers = merged_table[(merged_table['invoice_date'] >= start_date) & (merged_table['invoice_date'] <= end_date)]['customer_id'].unique().tolist()\n",
    "\n",
    "    # All existing customers within time_period\n",
    "    existing = merged_table[(merged_table['invoice_date'] < end_date)]['customer_id'].unique().tolist()\n",
    "\n",
    "    idle_customers = set(existing) - set(purchasers)\n",
    "\n",
    "    num_idle_customers = len(idle_customers)\n",
    "    num_all_customers = len(existing)\n",
    "\n",
    "    return num_idle_customers, num_all_customers, round (100 * num_idle_customers / num_all_customers, 2)\n"
   ]
  },
  {
   "cell_type": "code",
   "execution_count": 132,
   "metadata": {},
   "outputs": [],
   "source": [
    "def idle_customers_2(time_period):\n",
    "    \"\"\"\n",
    "    Compute number of idle customers within time_period\n",
    "    In this version, we will not count the new customers during the time period.\n",
    "    Select all customers who existed in the system BEFORE the start date, and see how many of them made a purchase during the time period.\n",
    "\n",
    "    Arguments:\n",
    "    time_period -- (start_date, end_date)\n",
    "\n",
    "    Returns:\n",
    "    num_idle_customers, num_all_customers, num_idle_customers/num_all_customers\n",
    "    \n",
    "    \"\"\"\n",
    "    start_date, end_date = time_period\n",
    "\n",
    "    # Customers who made a purchase within time_period\n",
    "    purchasers = merged_table[(merged_table['invoice_date'] >= start_date) & (merged_table['invoice_date'] <= end_date)]['customer_id'].unique().tolist()\n",
    "\n",
    "    # All existing customers within time_period\n",
    "    existing = merged_table[(merged_table['invoice_date'] < start_date)]['customer_id'].unique().tolist()\n",
    "\n",
    "    idle_customers = set(existing) - set(purchasers)\n",
    "\n",
    "    num_idle_customers = len(idle_customers)\n",
    "    num_all_customers = len(existing)\n",
    "\n",
    "    return num_idle_customers, num_all_customers, round (100 * num_idle_customers / num_all_customers, 2)\n",
    "\n"
   ]
  },
  {
   "cell_type": "markdown",
   "metadata": {},
   "source": [
    "<h4> Plot </h4>"
   ]
  },
  {
   "cell_type": "code",
   "execution_count": 133,
   "metadata": {},
   "outputs": [],
   "source": [
    "time_periods= [\n",
    "                ('2019-01-01', '2019-01-31'), ('2019-02-01', '2019-02-31'),\n",
    "                ('2019-03-01', '2019-03-31'), ('2019-04-01', '2019-04-31'), ('2019-05-01', '2019-05-31'),\n",
    "                ('2019-06-01', '2019-06-31'), ('2019-07-01', '2019-07-31'), ('2019-08-01', '2019-08-31'),\n",
    "                ('2019-09-01', '2019-09-31'), ('2019-10-01', '2019-10-31'),('2019-11-01', '2019-11-31'),\n",
    "                ('2019-12-01', '2019-12-31')\n",
    "                ]\n",
    "\n",
    "idle_customer_rates_1 = []\n",
    "idle_customer_rates_2 = []\n",
    "for time_period in time_periods:\n",
    "    idle_customer_rates_1.append(idle_customers_1(time_period)[2])\n",
    "    idle_customer_rates_2.append(idle_customers_2(time_period)[2])\n",
    "\n"
   ]
  },
  {
   "cell_type": "code",
   "execution_count": 249,
   "metadata": {},
   "outputs": [
    {
     "data": {
      "image/png": "[encoded data removed]",
      "text/plain": [
       "<Figure size 864x360 with 1 Axes>"
      ]
     },
     "metadata": {
      "needs_background": "light"
     },
     "output_type": "display_data"
    }
   ],
   "source": [
    "months = ['2019-01','2019-02','2019-03','2019-04','2019-05','2019-06','2019-07','2019-08','2019-09','2019-10','2019-11','2019-12']\n",
    "\n",
    "fig, ax = plt.subplots(1,1, figsize = (12,5))\n",
    "ax.plot(months, idle_customer_rates_1, marker = 'o', color = 'r', label = 'including new customers')\n",
    "ax.plot(months, idle_customer_rates_2, marker = 'o', color = 'b', label = 'only existing customers')\n",
    "ax.axvline(x = 10.1, color = 'black', linestyle = '--', label = 'complete data ends here')\n",
    "ax.hlines(y=70, xmin = 0, xmax = 11, color='m', linestyle='--', label = '70%')\n",
    "\n",
    "ax.set_xticks(ticks = months)\n",
    "ax.set_xticklabels(labels = months, rotation = 45)\n",
    "ax.set_title('idle customer rate per month')\n",
    "ax.set_ylabel('per cent')\n",
    "\n",
    "ax.set(ylim = (30,100))\n",
    "\n",
    "ax.legend()\n",
    "plt.tight_layout\n",
    "plt.show()"
   ]
  },
  {
   "cell_type": "markdown",
   "metadata": {},
   "source": [
    "- Graph shows percentage of existing customers that DID NOT make a purchase in each month. <br>\n",
    "- In most 30-day periods, around 70% of existing customers did not make a purchase\n",
    "- Bear in mind that the data only goes up to 9 Dec 2019. So the unusually high idle customer rate in 2019–12 is misrepresentative. <br>\n",
    "- The data begins in 2018–12, so idle customer rate is lower in the first month (2019-01), since we're dividing by a smaller number.\n"
   ]
  },
  {
   "cell_type": "markdown",
   "metadata": {},
   "source": [
    "<h3> 4) Purchase rate (# orders per day within time period) </h3>\n",
    "<h4> Function </h4>"
   ]
  },
  {
   "cell_type": "code",
   "execution_count": 216,
   "metadata": {},
   "outputs": [],
   "source": [
    "def purchase_rate(time_period):\n",
    "\n",
    "    \"\"\"\n",
    "    Compute average number of orders per day\n",
    "\n",
    "    Arguments:\n",
    "    time_period -- (start_date, end_date)\n",
    "\n",
    "    Returns:\n",
    "    purchase_rate (num_orders / num_days)\n",
    "    \"\"\"\n",
    "\n",
    "    start_date, end_date = time_period\n",
    "\n",
    "    temp_df = merged_table[(merged_table['invoice_date']>= start_date) & (merged_table['invoice_date']<= end_date) & (merged_table['customer_id']!= 'Null')]\n",
    "    num_invoices = len(temp_df['invoice_no'].unique())\n",
    "    num_days = (datetime.datetime.strptime(end_date,'%Y-%m-%d') - datetime.datetime.strptime(start_date,'%Y-%m-%d')).days\n",
    "    num_days\n",
    "    purchase_rate = num_invoices/num_days\n",
    "    return round(purchase_rate,2)\n",
    "    "
   ]
  },
  {
   "cell_type": "markdown",
   "metadata": {},
   "source": [
    "<h4> Plot </h4>"
   ]
  },
  {
   "cell_type": "code",
   "execution_count": 217,
   "metadata": {},
   "outputs": [],
   "source": [
    "time_periods= [\n",
    "                ('2018-12-01', '2018-12-31'), ('2019-01-01', '2019-01-31'), ('2019-02-01', '2019-02-28'),\n",
    "                ('2019-03-01', '2019-03-31'), ('2019-04-01', '2019-04-30'), ('2019-05-01', '2019-05-31'),\n",
    "                ('2019-06-01', '2019-06-30'), ('2019-07-01', '2019-07-31'), ('2019-08-01', '2019-08-31'),\n",
    "                ('2019-09-01', '2019-09-30'), ('2019-10-01', '2019-10-31'), ('2019-11-01', '2019-11-30'),\n",
    "                ('2019-12-01', '2019-12-31')\n",
    "                ]\n",
    "\n",
    "purchase_rates = []\n",
    "for time_period in time_periods:\n",
    "    purchase_rates.append(purchase_rate(time_period))"
   ]
  },
  {
   "cell_type": "code",
   "execution_count": 218,
   "metadata": {},
   "outputs": [
    {
     "data": {
      "image/png": "[encoded data removed]",
      "text/plain": [
       "<Figure size 432x288 with 1 Axes>"
      ]
     },
     "metadata": {
      "needs_background": "light"
     },
     "output_type": "display_data"
    }
   ],
   "source": [
    "months = ['2018-12','2019-01','2019-02','2019-03','2019-04','2019-05','2019-06','2019-07','2019-08','2019-09','2019-10','2019-11','2019-12']\n",
    "\n",
    "fig, ax = plt.subplots(1,1)\n",
    "ax.plot(months,  purchase_rates, marker = 'o')\n",
    "ax.axvline(x = 11.1, color = 'black', linestyle = '--', label = 'complete data ends here')\n",
    "ax.legend()\n",
    "ax.set_xticks(ticks = months)\n",
    "ax.set_xticklabels(labels = months, rotation = 45)\n",
    "ax.set_title('average purchase rate (number of orders per day) per month')\n",
    "plt.show()"
   ]
  },
  {
   "cell_type": "markdown",
   "metadata": {},
   "source": [
    "Again, data for 2019–12 is incomplete. So the purchase rate appears lower for that month."
   ]
  },
  {
   "cell_type": "markdown",
   "metadata": {},
   "source": [
    "Let's now compute purchase rate for new vs existing customers. <br>"
   ]
  },
  {
   "cell_type": "code",
   "execution_count": 246,
   "metadata": {},
   "outputs": [],
   "source": [
    "def purchase_rate_existing_vs_new(time_period):\n",
    "\n",
    "    \"\"\"\n",
    "    Compute average number of orders per day\n",
    "\n",
    "    Arguments:\n",
    "    time_period -- (start_date, end_date)\n",
    "\n",
    "    Returns:\n",
    "    purchase_rate (num_orders / num_days)\n",
    "    \"\"\"\n",
    "\n",
    "    start_date, end_date = time_period\n",
    "\n",
    "    # all customers existing until BEFORE time period starts: \n",
    "    existing_customers = merged_table[(merged_table['invoice_date']<start_date) & (merged_table['customer_id']!= 'Null')]['customer_id'].unique().tolist()\n",
    "\n",
    "    # all new customers during time period: \n",
    "    new_customers = merged_table[~(merged_table['customer_id'].isin(existing_customers)) & (merged_table['customer_id'] != 'Null')]['customer_id'].unique().tolist()\n",
    "\n",
    "    # Slice dataframe for time period\n",
    "    temp_df = merged_table[(merged_table['invoice_date']>= start_date) & (merged_table['invoice_date']<= end_date)]\n",
    "\n",
    "    # Orders during time period by existing customers:\n",
    "    existing_df = temp_df[temp_df['customer_id'].isin(existing_customers)]\n",
    "\n",
    "    # Number of orders by existing customers:\n",
    "    num_orders_existing = existing_df['invoice_no'].nunique()\n",
    "\n",
    "    # Orders during time period by new customers:\n",
    "    new_df = temp_df[temp_df['customer_id'].isin(new_customers)]\n",
    "\n",
    "    # Number of orders by new customers:\n",
    "    num_orders_new = new_df['invoice_no'].nunique()\n",
    "\n",
    "    num_days = (datetime.datetime.strptime(end_date,'%Y-%m-%d') - datetime.datetime.strptime(start_date,'%Y-%m-%d')).days\n",
    "    purchase_rate_existing = round (num_orders_existing/num_days , 2)\n",
    "    purchase_rate_new = round (num_orders_new/num_days, 2)\n",
    "    purchase_rate_total = purchase_rate_existing + purchase_rate_new\n",
    "    return purchase_rate_existing, purchase_rate_new, purchase_rate_total"
   ]
  },
  {
   "cell_type": "code",
   "execution_count": 250,
   "metadata": {},
   "outputs": [
    {
     "data": {
      "image/png": "[encoded data removed]",
      "text/plain": [
       "<Figure size 432x288 with 1 Axes>"
      ]
     },
     "metadata": {
      "needs_background": "light"
     },
     "output_type": "display_data"
    }
   ],
   "source": [
    "time_periods= [\n",
    "                ('2018-12-01', '2018-12-31'), ('2019-01-01', '2019-01-31'), ('2019-02-01', '2019-02-28'),\n",
    "                ('2019-03-01', '2019-03-31'), ('2019-04-01', '2019-04-30'), ('2019-05-01', '2019-05-31'),\n",
    "                ('2019-06-01', '2019-06-30'), ('2019-07-01', '2019-07-31'), ('2019-08-01', '2019-08-31'),\n",
    "                ('2019-09-01', '2019-09-30'), ('2019-10-01', '2019-10-31'), ('2019-11-01', '2019-11-30'),\n",
    "                ('2019-12-01', '2019-12-31')\n",
    "                ]\n",
    "\n",
    "purchase_rates_existing = []\n",
    "purchase_rates_new = []\n",
    "purchase_rates_total = []\n",
    "for time_period in time_periods:\n",
    "    purchase_rates_existing.append(purchase_rate_existing_vs_new(time_period)[0])\n",
    "    purchase_rates_new.append(purchase_rate_existing_vs_new(time_period)[1])\n",
    "    purchase_rates_total.append(purchase_rate_existing_vs_new(time_period)[2])\n",
    "months = ['2018-12','2019-01','2019-02','2019-03','2019-04','2019-05','2019-06','2019-07','2019-08','2019-09','2019-10','2019-11','2019-12']\n",
    "\n",
    "fig, ax = plt.subplots(1,1)\n",
    "ax.plot(months,  purchase_rates_existing, marker = 'o', color = 'blue', label = 'existing customers')\n",
    "ax.plot(months,  purchase_rates_new, marker = 'o', color = 'red', label = 'new customers')\n",
    "ax.plot(months,  purchase_rates_total, marker = 'o', color = 'orange', label = 'all customers')\n",
    "ax.axvline(x = 11.1, color = 'black', linestyle = '--', label = 'complete data ends here')\n",
    "\n",
    "ax.set_xticks(ticks = months)\n",
    "ax.set_xticklabels(labels = months, rotation = 45)\n",
    "ax.set_yticks(ticks = [0, 10, 20, 30, 40, 50, 60, 70, 80, 90, 100, 110])\n",
    "ax.set_title('Average number of daily orders per month')\n",
    "ax.legend()\n",
    "plt.show()"
   ]
  },
  {
   "cell_type": "markdown",
   "metadata": {},
   "source": [
    "- As the number of existing customers in the system grows, we see an increasing number of orders coming from existing customers. <br>\n",
    "- Number of orders from new customers decreases\n",
    "- This shows the importance of existing / repeat customers\n",
    "- Also, we see that the number of customers grows over the course of the year, and this is NOT to be attributed to the increase in customer base through new customers!\n",
    "- Currently only have one year's worth of data. So it's difficult to say what part of the general increase is seasonal <br>\n",
    "(more purchases) towards second half of the year vs trend (as the platform establishes itself, it continuously sees more orders month on month)\n",
    "\n",
    "- Regarding KPI: How we define it depends on whether the growth does or does not have seasonality to it. \n",
    "- If there's no seasonality, then we presume the same rate of month-on-month growth.\n",
    "- If there is seasonality, we would have to set our target based on the entire subsequent year"
   ]
  },
  {
   "cell_type": "markdown",
   "metadata": {},
   "source": [
    "<h3> 5) Average revenue per day (revenue per day within time period) </h3>\n",
    "<h4> Function </h4>"
   ]
  },
  {
   "cell_type": "code",
   "execution_count": 280,
   "metadata": {},
   "outputs": [],
   "source": [
    "def average_revenue(time_period):\n",
    "\n",
    "    \"\"\"\n",
    "    Compute average daily revenue within time_period by existing, new, and all customers.\n",
    "    Existing customers are defined as customers who were in system before the start date.\n",
    "\n",
    "    Arguments:\n",
    "    time_period -- (start_date, end_date)\n",
    "\n",
    "    Returns:\n",
    "    avg_revenue_existing, avg_revenue_new, avg_revenue_both\n",
    "    \"\"\"\n",
    "\n",
    "    start_date, end_date = time_period\n",
    "\n",
    "    existing_customers = merged_table[(merged_table['invoice_date']<start_date) & (merged_table['customer_id']!= 'Null')]['customer_id'].unique().tolist()\n",
    "    new_customers = merged_table[(~merged_table['customer_id'].isin(existing_customers)) & (merged_table['customer_id']!= 'Null')]['customer_id'].unique().tolist()\n",
    "\n",
    "    df_temp = merged_table[(merged_table['invoice_date']>= start_date) & (merged_table['invoice_date']<= end_date)]\n",
    "\n",
    "    total_revenue_existing = df_temp[df_temp['customer_id'].isin(existing_customers)]['total_sale'].sum()\n",
    "    total_revenue_new = df_temp[df_temp['customer_id'].isin(new_customers)]['total_sale'].sum()\n",
    "\n",
    "    num_days = (datetime.datetime.strptime(end_date,'%Y-%m-%d') - datetime.datetime.strptime(start_date,'%Y-%m-%d')).days\n",
    "\n",
    "    avg_revenue_existing = total_revenue_existing / num_days\n",
    "    avg_revenue_new = total_revenue_new / num_days\n",
    "    avg_revenue_both = avg_revenue_existing + avg_revenue_new\n",
    "    \n",
    "    return avg_revenue_existing, avg_revenue_new, avg_revenue_both\n",
    "    "
   ]
  },
  {
   "cell_type": "code",
   "execution_count": 281,
   "metadata": {},
   "outputs": [],
   "source": [
    "time_periods= [\n",
    "                ('2018-12-01', '2018-12-31'), ('2019-01-01', '2019-01-31'), ('2019-02-01', '2019-02-28'),\n",
    "                ('2019-03-01', '2019-03-31'), ('2019-04-01', '2019-04-30'), ('2019-05-01', '2019-05-31'),\n",
    "                ('2019-06-01', '2019-06-30'), ('2019-07-01', '2019-07-31'), ('2019-08-01', '2019-08-31'),\n",
    "                ('2019-09-01', '2019-09-30'), ('2019-10-01', '2019-10-31'), ('2019-11-01', '2019-11-30'),\n",
    "                ('2019-12-01', '2019-12-31')\n",
    "                ]\n",
    "\n",
    "average_revenues_existing = []\n",
    "average_revenues_new = []\n",
    "average_revenues_both = []\n",
    "for time_period in time_periods:\n",
    "    average_revenues_existing.append(average_revenue(time_period)[0])\n",
    "    average_revenues_new.append(average_revenue(time_period)[1])\n",
    "    average_revenues_both.append(average_revenue(time_period)[2])\n",
    "\n",
    "months = ['2018-12','2019-01','2019-02','2019-03','2019-04','2019-05','2019-06','2019-07','2019-08','2019-09','2019-10','2019-11','2019-12']\n",
    "\n",
    "\n"
   ]
  },
  {
   "cell_type": "code",
   "execution_count": 272,
   "metadata": {},
   "outputs": [],
   "source": [
    "time_periods= [\n",
    "                ('2018-12-01', '2018-12-31'), ('2019-01-01', '2019-01-31'), ('2019-02-01', '2019-02-28'),\n",
    "                ('2019-03-01', '2019-03-31'), ('2019-04-01', '2019-04-30'), ('2019-05-01', '2019-05-31'),\n",
    "                ('2019-06-01', '2019-06-30'), ('2019-07-01', '2019-07-31'), ('2019-08-01', '2019-08-31'),\n",
    "                ('2019-09-01', '2019-09-30'), ('2019-10-01', '2019-10-31'), ('2019-11-01', '2019-11-30'),\n",
    "                ('2019-12-01', '2019-12-31')\n",
    "                ]\n",
    "\n",
    "purchase_rates_existing = []\n",
    "purchase_rates_new = []\n",
    "purchase_rates_total = []\n",
    "for time_period in time_periods:\n",
    "    purchase_rates_existing.append(purchase_rate_existing_vs_new(time_period)[0])\n",
    "    purchase_rates_new.append(purchase_rate_existing_vs_new(time_period)[1])\n",
    "    purchase_rates_total.append(purchase_rate_existing_vs_new(time_period)[2])\n",
    "months = ['2018-12','2019-01','2019-02','2019-03','2019-04','2019-05','2019-06','2019-07','2019-08','2019-09','2019-10','2019-11','2019-12']\n"
   ]
  },
  {
   "cell_type": "code",
   "execution_count": 664,
   "metadata": {},
   "outputs": [
    {
     "data": {
      "image/png": "[encoded data removed]",
      "text/plain": [
       "<Figure size 504x504 with 2 Axes>"
      ]
     },
     "metadata": {
      "needs_background": "light"
     },
     "output_type": "display_data"
    }
   ],
   "source": [
    "fig, ax = plt.subplots(2,1, figsize = (7,7))\n",
    "\n",
    "ax[0].plot(months,  purchase_rates_existing, marker = 'o', color = 'blue', label = 'existing customers')\n",
    "ax[0].plot(months,  purchase_rates_new, marker = 'o', color = 'red', label = 'new customers')\n",
    "ax[0].plot(months,  purchase_rates_total, marker = 'o', color = 'green', label = 'all customers')\n",
    "ax[0].axvline(x = 11.1, color = 'black', linestyle = '--', label = 'complete data ends here')\n",
    "\n",
    "ax[0].set_xticks(ticks = months)\n",
    "ax[0].set_xticklabels(labels = months, rotation = 45)\n",
    "ax[0].set_yticks(ticks = [0, 10, 20, 30, 40, 50, 60, 70, 80, 90, 100, 110])\n",
    "ax[0].set_title('Average number of daily orders per month')\n",
    "ax[0].legend()\n",
    "\n",
    "ax[1].plot(months, average_revenues_existing, marker = 'o', color = 'blue', label = 'existing customers')\n",
    "ax[1].plot(months, average_revenues_new, marker = 'o', color = 'red', label = 'new customers')\n",
    "ax[1].plot(months, average_revenues_both, marker = 'o', color = 'green', label = 'all customers')\n",
    "ax[1].axvline(x = 11.1, color = 'black', linestyle = '--', label = 'complete data ends here')\n",
    "\n",
    "ax[1].set_title ('average revenue per day per month')\n",
    "ax[1].set_xticks(ticks = months)\n",
    "ax[1].set_xticklabels(labels = months, rotation = 45)\n",
    "ax[1].legend()\n",
    "plt.tight_layout()\n",
    "plt.show()\n",
    "\n"
   ]
  },
  {
   "cell_type": "markdown",
   "metadata": {},
   "source": [
    "- The above two graphs show us just how much money each order is worth.\n",
    "- At most you have 100 orders per day. Yet the minimum revenue per day is 1 million.\n",
    "- This means on average, each order is worth at least 10,000 euros. <br> <br>\n",
    "\n",
    "- Regarding KPI: same as earlier, depends on whether or not there is seasonality to the graph. "
   ]
  },
  {
   "cell_type": "markdown",
   "metadata": {},
   "source": [
    "<h3> 6) Purchase Details Per Customer </h3>"
   ]
  },
  {
   "cell_type": "code",
   "execution_count": 348,
   "metadata": {},
   "outputs": [],
   "source": [
    "customer_info = merged_table.groupby('customer_id').agg({'invoice_no':'nunique', 'total_sale':'sum', 'product_id':'nunique'}).reset_index().rename(\n",
    "                                        columns = {'total_sale':'total_revenue', 'invoice_no': 'num_orders', 'product_id':'num_products'}\n",
    "                                                    ).sort_values(by = 'total_revenue', ascending = False)\n",
    "customer_info['revenue_per_order'] = customer_info['total_revenue'] / customer_info['num_orders']\n",
    "customer_info[customer_info['num_orders']==1]\n",
    "\n",
    "customer_country = merged_table[['customer_id','country']].drop_duplicates()\n",
    "customer_info = pd.merge(customer_info, customer_country, how = 'left', on = 'customer_id')\n",
    "customer_info = customer_info[customer_info['customer_id']!= 'Null']"
   ]
  },
  {
   "cell_type": "code",
   "execution_count": 344,
   "metadata": {},
   "outputs": [
    {
     "name": "stdout",
     "output_type": "stream",
     "text": [
      "one-time buyers: 39.99977793 M euros \n",
      " repeat customers: 514.00084769 M euros \n",
      " anon buyers: 62.32124982 M euros\n"
     ]
    }
   ],
   "source": [
    "one_time = customer_info[customer_info['num_orders']==1]['total_revenue'].sum()\n",
    "repeat = customer_info[(customer_info['num_orders']>1) & (customer_info['customer_id']!= 'Null')]['total_revenue'].sum()\n",
    "anon = customer_info[customer_info['customer_id'] == 'Null']['total_revenue'].sum()\n",
    "print(f'one-time buyers: {one_time/1000000} M euros \\n repeat customers: {repeat/1000000} M euros \\n anon buyers: {anon/1000000} M euros')"
   ]
  },
  {
   "cell_type": "code",
   "execution_count": 362,
   "metadata": {},
   "outputs": [
    {
     "data": {
      "text/html": [
       "<div>\n",
       "<style scoped>\n",
       "    .dataframe tbody tr th:only-of-type {\n",
       "        vertical-align: middle;\n",
       "    }\n",
       "\n",
       "    .dataframe tbody tr th {\n",
       "        vertical-align: top;\n",
       "    }\n",
       "\n",
       "    .dataframe thead th {\n",
       "        text-align: right;\n",
       "    }\n",
       "</style>\n",
       "<table border=\"1\" class=\"dataframe\">\n",
       "  <thead>\n",
       "    <tr style=\"text-align: right;\">\n",
       "      <th></th>\n",
       "      <th>customer_id</th>\n",
       "      <th>num_orders</th>\n",
       "      <th>total_revenue</th>\n",
       "      <th>num_products</th>\n",
       "      <th>revenue_per_order</th>\n",
       "      <th>country</th>\n",
       "    </tr>\n",
       "  </thead>\n",
       "  <tbody>\n",
       "    <tr>\n",
       "      <th>9</th>\n",
       "      <td>14646</td>\n",
       "      <td>73</td>\n",
       "      <td>21664738.30</td>\n",
       "      <td>707</td>\n",
       "      <td>296777.236986</td>\n",
       "      <td>Netherlands</td>\n",
       "    </tr>\n",
       "    <tr>\n",
       "      <th>10</th>\n",
       "      <td>14911</td>\n",
       "      <td>201</td>\n",
       "      <td>9340224.33</td>\n",
       "      <td>1790</td>\n",
       "      <td>46468.777761</td>\n",
       "      <td>Ireland</td>\n",
       "    </tr>\n",
       "    <tr>\n",
       "      <th>11</th>\n",
       "      <td>12415</td>\n",
       "      <td>20</td>\n",
       "      <td>9244349.18</td>\n",
       "      <td>442</td>\n",
       "      <td>462217.459000</td>\n",
       "      <td>Australia</td>\n",
       "    </tr>\n",
       "    <tr>\n",
       "      <th>12</th>\n",
       "      <td>17450</td>\n",
       "      <td>46</td>\n",
       "      <td>9061246.11</td>\n",
       "      <td>123</td>\n",
       "      <td>196983.611087</td>\n",
       "      <td>Germany</td>\n",
       "    </tr>\n",
       "    <tr>\n",
       "      <th>13</th>\n",
       "      <td>18102</td>\n",
       "      <td>60</td>\n",
       "      <td>8114485.22</td>\n",
       "      <td>162</td>\n",
       "      <td>135241.420333</td>\n",
       "      <td>Germany</td>\n",
       "    </tr>\n",
       "    <tr>\n",
       "      <th>...</th>\n",
       "      <td>...</td>\n",
       "      <td>...</td>\n",
       "      <td>...</td>\n",
       "      <td>...</td>\n",
       "      <td>...</td>\n",
       "      <td>...</td>\n",
       "    </tr>\n",
       "    <tr>\n",
       "      <th>4351</th>\n",
       "      <td>12789</td>\n",
       "      <td>1</td>\n",
       "      <td>35.97</td>\n",
       "      <td>3</td>\n",
       "      <td>35.970000</td>\n",
       "      <td>Netherlands</td>\n",
       "    </tr>\n",
       "    <tr>\n",
       "      <th>4352</th>\n",
       "      <td>15940</td>\n",
       "      <td>1</td>\n",
       "      <td>31.96</td>\n",
       "      <td>1</td>\n",
       "      <td>31.960000</td>\n",
       "      <td>Germany</td>\n",
       "    </tr>\n",
       "    <tr>\n",
       "      <th>4353</th>\n",
       "      <td>18268</td>\n",
       "      <td>1</td>\n",
       "      <td>23.98</td>\n",
       "      <td>1</td>\n",
       "      <td>23.980000</td>\n",
       "      <td>Germany</td>\n",
       "    </tr>\n",
       "    <tr>\n",
       "      <th>4354</th>\n",
       "      <td>16257</td>\n",
       "      <td>1</td>\n",
       "      <td>22.98</td>\n",
       "      <td>2</td>\n",
       "      <td>22.980000</td>\n",
       "      <td>Germany</td>\n",
       "    </tr>\n",
       "    <tr>\n",
       "      <th>4355</th>\n",
       "      <td>13452</td>\n",
       "      <td>2</td>\n",
       "      <td>13.98</td>\n",
       "      <td>1</td>\n",
       "      <td>6.990000</td>\n",
       "      <td>Germany</td>\n",
       "    </tr>\n",
       "  </tbody>\n",
       "</table>\n",
       "<p>4347 rows × 6 columns</p>\n",
       "</div>"
      ],
      "text/plain": [
       "     customer_id  num_orders  total_revenue  num_products  revenue_per_order  \\\n",
       "9          14646          73    21664738.30           707      296777.236986   \n",
       "10         14911         201     9340224.33          1790       46468.777761   \n",
       "11         12415          20     9244349.18           442      462217.459000   \n",
       "12         17450          46     9061246.11           123      196983.611087   \n",
       "13         18102          60     8114485.22           162      135241.420333   \n",
       "...          ...         ...            ...           ...                ...   \n",
       "4351       12789           1          35.97             3          35.970000   \n",
       "4352       15940           1          31.96             1          31.960000   \n",
       "4353       18268           1          23.98             1          23.980000   \n",
       "4354       16257           1          22.98             2          22.980000   \n",
       "4355       13452           2          13.98             1           6.990000   \n",
       "\n",
       "          country  \n",
       "9     Netherlands  \n",
       "10        Ireland  \n",
       "11      Australia  \n",
       "12        Germany  \n",
       "13        Germany  \n",
       "...           ...  \n",
       "4351  Netherlands  \n",
       "4352      Germany  \n",
       "4353      Germany  \n",
       "4354      Germany  \n",
       "4355      Germany  \n",
       "\n",
       "[4347 rows x 6 columns]"
      ]
     },
     "execution_count": 362,
     "metadata": {},
     "output_type": "execute_result"
    }
   ],
   "source": [
    "customer_info"
   ]
  },
  {
   "cell_type": "markdown",
   "metadata": {},
   "source": [
    "<h3> 7) Purchase Details per Country </h3>"
   ]
  },
  {
   "cell_type": "code",
   "execution_count": 314,
   "metadata": {},
   "outputs": [
    {
     "data": {
      "text/html": [
       "<div>\n",
       "<style scoped>\n",
       "    .dataframe tbody tr th:only-of-type {\n",
       "        vertical-align: middle;\n",
       "    }\n",
       "\n",
       "    .dataframe tbody tr th {\n",
       "        vertical-align: top;\n",
       "    }\n",
       "\n",
       "    .dataframe thead th {\n",
       "        text-align: right;\n",
       "    }\n",
       "</style>\n",
       "<table border=\"1\" class=\"dataframe\">\n",
       "  <thead>\n",
       "    <tr style=\"text-align: right;\">\n",
       "      <th></th>\n",
       "      <th>country</th>\n",
       "      <th>total_revenue</th>\n",
       "    </tr>\n",
       "  </thead>\n",
       "  <tbody>\n",
       "    <tr>\n",
       "      <th>12</th>\n",
       "      <td>Germany</td>\n",
       "      <td>5.177474e+08</td>\n",
       "    </tr>\n",
       "    <tr>\n",
       "      <th>23</th>\n",
       "      <td>Netherlands</td>\n",
       "      <td>2.200264e+07</td>\n",
       "    </tr>\n",
       "    <tr>\n",
       "      <th>16</th>\n",
       "      <td>Ireland</td>\n",
       "      <td>1.588787e+07</td>\n",
       "    </tr>\n",
       "    <tr>\n",
       "      <th>34</th>\n",
       "      <td>United Kingdom</td>\n",
       "      <td>1.238764e+07</td>\n",
       "    </tr>\n",
       "    <tr>\n",
       "      <th>11</th>\n",
       "      <td>France</td>\n",
       "      <td>1.155420e+07</td>\n",
       "    </tr>\n",
       "    <tr>\n",
       "      <th>0</th>\n",
       "      <td>Australia</td>\n",
       "      <td>9.848729e+06</td>\n",
       "    </tr>\n",
       "    <tr>\n",
       "      <th>31</th>\n",
       "      <td>Sweden</td>\n",
       "      <td>4.373181e+06</td>\n",
       "    </tr>\n",
       "    <tr>\n",
       "      <th>19</th>\n",
       "      <td>Japan</td>\n",
       "      <td>3.078620e+06</td>\n",
       "    </tr>\n",
       "    <tr>\n",
       "      <th>32</th>\n",
       "      <td>Switzerland</td>\n",
       "      <td>2.782129e+06</td>\n",
       "    </tr>\n",
       "    <tr>\n",
       "      <th>30</th>\n",
       "      <td>Spain</td>\n",
       "      <td>2.754244e+06</td>\n",
       "    </tr>\n",
       "    <tr>\n",
       "      <th>3</th>\n",
       "      <td>Belgium</td>\n",
       "      <td>2.474314e+06</td>\n",
       "    </tr>\n",
       "    <tr>\n",
       "      <th>24</th>\n",
       "      <td>Norway</td>\n",
       "      <td>1.755610e+06</td>\n",
       "    </tr>\n",
       "    <tr>\n",
       "      <th>26</th>\n",
       "      <td>Portugal</td>\n",
       "      <td>1.714644e+06</td>\n",
       "    </tr>\n",
       "    <tr>\n",
       "      <th>10</th>\n",
       "      <td>Finland</td>\n",
       "      <td>1.108042e+06</td>\n",
       "    </tr>\n",
       "  </tbody>\n",
       "</table>\n",
       "</div>"
      ],
      "text/plain": [
       "           country  total_revenue\n",
       "12         Germany   5.177474e+08\n",
       "23     Netherlands   2.200264e+07\n",
       "16         Ireland   1.588787e+07\n",
       "34  United Kingdom   1.238764e+07\n",
       "11          France   1.155420e+07\n",
       "0        Australia   9.848729e+06\n",
       "31          Sweden   4.373181e+06\n",
       "19           Japan   3.078620e+06\n",
       "32     Switzerland   2.782129e+06\n",
       "30           Spain   2.754244e+06\n",
       "3          Belgium   2.474314e+06\n",
       "24          Norway   1.755610e+06\n",
       "26        Portugal   1.714644e+06\n",
       "10         Finland   1.108042e+06"
      ]
     },
     "execution_count": 314,
     "metadata": {},
     "output_type": "execute_result"
    }
   ],
   "source": [
    "by_country = merged_table.groupby('country')['total_sale'].sum().reset_index().sort_values(by = 'total_sale', ascending = False).rename(columns = {'total_sale':'total_revenue'})\n",
    "by_country[by_country['total_revenue']>1000000]"
   ]
  },
  {
   "cell_type": "code",
   "execution_count": 320,
   "metadata": {},
   "outputs": [
    {
     "name": "stdout",
     "output_type": "stream",
     "text": [
      "Germany: 517.75 M euros\n",
      " Rest of world: 98.57 M euros\n"
     ]
    }
   ],
   "source": [
    "revenue_germany = by_country[by_country['country']=='Germany']['total_revenue'].sum()\n",
    "revenue_row = by_country[by_country['country']!='Germany']['total_revenue'].sum()\n",
    "print(f'Germany: {round(revenue_germany/1000000,2)} M euros\\n Rest of world: {round(revenue_row/1000000,2)} M euros')"
   ]
  },
  {
   "cell_type": "markdown",
   "metadata": {},
   "source": [
    "<h3> 8) More Details on Customer and Country </h3>"
   ]
  },
  {
   "cell_type": "code",
   "execution_count": 502,
   "metadata": {},
   "outputs": [
    {
     "data": {
      "text/html": [
       "<div>\n",
       "<style scoped>\n",
       "    .dataframe tbody tr th:only-of-type {\n",
       "        vertical-align: middle;\n",
       "    }\n",
       "\n",
       "    .dataframe tbody tr th {\n",
       "        vertical-align: top;\n",
       "    }\n",
       "\n",
       "    .dataframe thead th {\n",
       "        text-align: right;\n",
       "    }\n",
       "</style>\n",
       "<table border=\"1\" class=\"dataframe\">\n",
       "  <thead>\n",
       "    <tr style=\"text-align: right;\">\n",
       "      <th></th>\n",
       "      <th>country</th>\n",
       "      <th>num_customers</th>\n",
       "      <th>avg_orders_per_customer</th>\n",
       "      <th>avg_revenue_per_customer</th>\n",
       "      <th>total_revenue_country</th>\n",
       "      <th>avg_revenue_per_order</th>\n",
       "    </tr>\n",
       "  </thead>\n",
       "  <tbody>\n",
       "    <tr>\n",
       "      <th>12</th>\n",
       "      <td>Germany</td>\n",
       "      <td>3921</td>\n",
       "      <td>4.26</td>\n",
       "      <td>116490.81</td>\n",
       "      <td>4.567605e+08</td>\n",
       "      <td>24754.38</td>\n",
       "    </tr>\n",
       "    <tr>\n",
       "      <th>22</th>\n",
       "      <td>Netherlands</td>\n",
       "      <td>9</td>\n",
       "      <td>10.44</td>\n",
       "      <td>2444737.95</td>\n",
       "      <td>2.200264e+07</td>\n",
       "      <td>44677.06</td>\n",
       "    </tr>\n",
       "    <tr>\n",
       "      <th>15</th>\n",
       "      <td>Ireland</td>\n",
       "      <td>3</td>\n",
       "      <td>86.67</td>\n",
       "      <td>5101179.97</td>\n",
       "      <td>1.530354e+07</td>\n",
       "      <td>69986.00</td>\n",
       "    </tr>\n",
       "    <tr>\n",
       "      <th>33</th>\n",
       "      <td>United Kingdom</td>\n",
       "      <td>103</td>\n",
       "      <td>4.64</td>\n",
       "      <td>120268.34</td>\n",
       "      <td>1.238764e+07</td>\n",
       "      <td>32462.88</td>\n",
       "    </tr>\n",
       "    <tr>\n",
       "      <th>11</th>\n",
       "      <td>France</td>\n",
       "      <td>87</td>\n",
       "      <td>4.44</td>\n",
       "      <td>132080.92</td>\n",
       "      <td>1.149104e+07</td>\n",
       "      <td>26132.96</td>\n",
       "    </tr>\n",
       "  </tbody>\n",
       "</table>\n",
       "</div>"
      ],
      "text/plain": [
       "           country  num_customers  avg_orders_per_customer  \\\n",
       "12         Germany           3921                     4.26   \n",
       "22     Netherlands              9                    10.44   \n",
       "15         Ireland              3                    86.67   \n",
       "33  United Kingdom            103                     4.64   \n",
       "11          France             87                     4.44   \n",
       "\n",
       "    avg_revenue_per_customer  total_revenue_country  avg_revenue_per_order  \n",
       "12                 116490.81           4.567605e+08               24754.38  \n",
       "22                2444737.95           2.200264e+07               44677.06  \n",
       "15                5101179.97           1.530354e+07               69986.00  \n",
       "33                 120268.34           1.238764e+07               32462.88  \n",
       "11                 132080.92           1.149104e+07               26132.96  "
      ]
     },
     "execution_count": 502,
     "metadata": {},
     "output_type": "execute_result"
    }
   ],
   "source": [
    "summary = customer_info.groupby('country').agg({'customer_id': 'count', 'num_orders':'mean', 'total_revenue':['mean', 'sum'], 'revenue_per_order':'mean'}).reset_index()\n",
    "summary.columns = ['country', 'num_customers', 'avg_orders_per_customer', 'avg_revenue_per_customer', 'total_revenue_country', 'avg_revenue_per_order']\n",
    "\n",
    "summary['avg_orders_per_customer'] = round(summary['avg_orders_per_customer'],2)\n",
    "summary['avg_revenue_per_customer'] = round(summary['avg_revenue_per_customer'],2)\n",
    "summary['avg_revenue_per_order'] = round(summary['avg_revenue_per_order'],2)\n",
    "summary = summary.sort_values(by = 'total_revenue_country', ascending = False)\n",
    "# Select only countries with a total revenue of over 1 million euros\n",
    "summary_top = summary[summary['total_revenue_country']>1000000]\n",
    "summary_top.head()\n",
    "\n"
   ]
  },
  {
   "cell_type": "markdown",
   "metadata": {},
   "source": [
    "<h4> a) Total revenue per country (excluding Germany) </h4>"
   ]
  },
  {
   "cell_type": "code",
   "execution_count": 503,
   "metadata": {},
   "outputs": [
    {
     "data": {
      "text/html": [
       "<div>\n",
       "<style scoped>\n",
       "    .dataframe tbody tr th:only-of-type {\n",
       "        vertical-align: middle;\n",
       "    }\n",
       "\n",
       "    .dataframe tbody tr th {\n",
       "        vertical-align: top;\n",
       "    }\n",
       "\n",
       "    .dataframe thead th {\n",
       "        text-align: right;\n",
       "    }\n",
       "</style>\n",
       "<table border=\"1\" class=\"dataframe\">\n",
       "  <thead>\n",
       "    <tr style=\"text-align: right;\">\n",
       "      <th></th>\n",
       "      <th>country</th>\n",
       "      <th>num_customers</th>\n",
       "      <th>avg_orders_per_customer</th>\n",
       "      <th>avg_revenue_per_customer</th>\n",
       "      <th>total_revenue_country</th>\n",
       "      <th>avg_revenue_per_order</th>\n",
       "    </tr>\n",
       "  </thead>\n",
       "  <tbody>\n",
       "    <tr>\n",
       "      <th>12</th>\n",
       "      <td>Germany</td>\n",
       "      <td>3921</td>\n",
       "      <td>4.26</td>\n",
       "      <td>116490.81</td>\n",
       "      <td>4.567605e+08</td>\n",
       "      <td>24754.38</td>\n",
       "    </tr>\n",
       "    <tr>\n",
       "      <th>22</th>\n",
       "      <td>Netherlands</td>\n",
       "      <td>9</td>\n",
       "      <td>10.44</td>\n",
       "      <td>2444737.95</td>\n",
       "      <td>2.200264e+07</td>\n",
       "      <td>44677.06</td>\n",
       "    </tr>\n",
       "    <tr>\n",
       "      <th>15</th>\n",
       "      <td>Ireland</td>\n",
       "      <td>3</td>\n",
       "      <td>86.67</td>\n",
       "      <td>5101179.97</td>\n",
       "      <td>1.530354e+07</td>\n",
       "      <td>69986.00</td>\n",
       "    </tr>\n",
       "    <tr>\n",
       "      <th>33</th>\n",
       "      <td>United Kingdom</td>\n",
       "      <td>103</td>\n",
       "      <td>4.64</td>\n",
       "      <td>120268.34</td>\n",
       "      <td>1.238764e+07</td>\n",
       "      <td>32462.88</td>\n",
       "    </tr>\n",
       "    <tr>\n",
       "      <th>11</th>\n",
       "      <td>France</td>\n",
       "      <td>87</td>\n",
       "      <td>4.44</td>\n",
       "      <td>132080.92</td>\n",
       "      <td>1.149104e+07</td>\n",
       "      <td>26132.96</td>\n",
       "    </tr>\n",
       "    <tr>\n",
       "      <th>0</th>\n",
       "      <td>Australia</td>\n",
       "      <td>9</td>\n",
       "      <td>6.56</td>\n",
       "      <td>1100177.43</td>\n",
       "      <td>9.901597e+06</td>\n",
       "      <td>67341.92</td>\n",
       "    </tr>\n",
       "    <tr>\n",
       "      <th>30</th>\n",
       "      <td>Sweden</td>\n",
       "      <td>8</td>\n",
       "      <td>4.25</td>\n",
       "      <td>546647.64</td>\n",
       "      <td>4.373181e+06</td>\n",
       "      <td>58494.74</td>\n",
       "    </tr>\n",
       "    <tr>\n",
       "      <th>18</th>\n",
       "      <td>Japan</td>\n",
       "      <td>8</td>\n",
       "      <td>2.38</td>\n",
       "      <td>384827.53</td>\n",
       "      <td>3.078620e+06</td>\n",
       "      <td>109558.97</td>\n",
       "    </tr>\n",
       "    <tr>\n",
       "      <th>29</th>\n",
       "      <td>Spain</td>\n",
       "      <td>30</td>\n",
       "      <td>3.27</td>\n",
       "      <td>102439.78</td>\n",
       "      <td>3.073193e+06</td>\n",
       "      <td>30933.70</td>\n",
       "    </tr>\n",
       "    <tr>\n",
       "      <th>31</th>\n",
       "      <td>Switzerland</td>\n",
       "      <td>21</td>\n",
       "      <td>2.43</td>\n",
       "      <td>130515.36</td>\n",
       "      <td>2.740823e+06</td>\n",
       "      <td>68917.48</td>\n",
       "    </tr>\n",
       "    <tr>\n",
       "      <th>3</th>\n",
       "      <td>Belgium</td>\n",
       "      <td>25</td>\n",
       "      <td>4.56</td>\n",
       "      <td>108148.82</td>\n",
       "      <td>2.703721e+06</td>\n",
       "      <td>28407.19</td>\n",
       "    </tr>\n",
       "    <tr>\n",
       "      <th>23</th>\n",
       "      <td>Norway</td>\n",
       "      <td>10</td>\n",
       "      <td>3.30</td>\n",
       "      <td>175561.00</td>\n",
       "      <td>1.755610e+06</td>\n",
       "      <td>59696.92</td>\n",
       "    </tr>\n",
       "    <tr>\n",
       "      <th>25</th>\n",
       "      <td>Portugal</td>\n",
       "      <td>19</td>\n",
       "      <td>2.89</td>\n",
       "      <td>89891.35</td>\n",
       "      <td>1.707936e+06</td>\n",
       "      <td>32973.01</td>\n",
       "    </tr>\n",
       "    <tr>\n",
       "      <th>10</th>\n",
       "      <td>Finland</td>\n",
       "      <td>12</td>\n",
       "      <td>3.42</td>\n",
       "      <td>92336.81</td>\n",
       "      <td>1.108042e+06</td>\n",
       "      <td>27850.37</td>\n",
       "    </tr>\n",
       "    <tr>\n",
       "      <th>6</th>\n",
       "      <td>Cyprus</td>\n",
       "      <td>8</td>\n",
       "      <td>3.00</td>\n",
       "      <td>130463.74</td>\n",
       "      <td>1.043710e+06</td>\n",
       "      <td>36217.78</td>\n",
       "    </tr>\n",
       "    <tr>\n",
       "      <th>1</th>\n",
       "      <td>Austria</td>\n",
       "      <td>11</td>\n",
       "      <td>2.09</td>\n",
       "      <td>93034.23</td>\n",
       "      <td>1.023377e+06</td>\n",
       "      <td>36101.97</td>\n",
       "    </tr>\n",
       "  </tbody>\n",
       "</table>\n",
       "</div>"
      ],
      "text/plain": [
       "           country  num_customers  avg_orders_per_customer  \\\n",
       "12         Germany           3921                     4.26   \n",
       "22     Netherlands              9                    10.44   \n",
       "15         Ireland              3                    86.67   \n",
       "33  United Kingdom            103                     4.64   \n",
       "11          France             87                     4.44   \n",
       "0        Australia              9                     6.56   \n",
       "30          Sweden              8                     4.25   \n",
       "18           Japan              8                     2.38   \n",
       "29           Spain             30                     3.27   \n",
       "31     Switzerland             21                     2.43   \n",
       "3          Belgium             25                     4.56   \n",
       "23          Norway             10                     3.30   \n",
       "25        Portugal             19                     2.89   \n",
       "10         Finland             12                     3.42   \n",
       "6           Cyprus              8                     3.00   \n",
       "1          Austria             11                     2.09   \n",
       "\n",
       "    avg_revenue_per_customer  total_revenue_country  avg_revenue_per_order  \n",
       "12                 116490.81           4.567605e+08               24754.38  \n",
       "22                2444737.95           2.200264e+07               44677.06  \n",
       "15                5101179.97           1.530354e+07               69986.00  \n",
       "33                 120268.34           1.238764e+07               32462.88  \n",
       "11                 132080.92           1.149104e+07               26132.96  \n",
       "0                 1100177.43           9.901597e+06               67341.92  \n",
       "30                 546647.64           4.373181e+06               58494.74  \n",
       "18                 384827.53           3.078620e+06              109558.97  \n",
       "29                 102439.78           3.073193e+06               30933.70  \n",
       "31                 130515.36           2.740823e+06               68917.48  \n",
       "3                  108148.82           2.703721e+06               28407.19  \n",
       "23                 175561.00           1.755610e+06               59696.92  \n",
       "25                  89891.35           1.707936e+06               32973.01  \n",
       "10                  92336.81           1.108042e+06               27850.37  \n",
       "6                  130463.74           1.043710e+06               36217.78  \n",
       "1                   93034.23           1.023377e+06               36101.97  "
      ]
     },
     "execution_count": 503,
     "metadata": {},
     "output_type": "execute_result"
    }
   ],
   "source": [
    "summary_top"
   ]
  },
  {
   "cell_type": "code",
   "execution_count": 506,
   "metadata": {},
   "outputs": [
    {
     "data": {
      "image/png": "[encoded data removed]",
      "text/plain": [
       "<Figure size 720x360 with 1 Axes>"
      ]
     },
     "metadata": {
      "needs_background": "light"
     },
     "output_type": "display_data"
    }
   ],
   "source": [
    "from matplotlib.offsetbox import AnchoredText\n",
    "\n",
    "countries = summary_top['country'][1:]  # Select all countries except Germany\n",
    "total_revenues = (summary_top['total_revenue_country']/1000000)[1:] # revenue in millions\n",
    "countries\n",
    "countries.values[2] = 'UK'             # Abbreviate 'United Kingdom' as 'UK' for plot\n",
    "\n",
    "fig, ax = plt.subplots(1,1, figsize = (10,5))\n",
    "ax.bar(x = countries,  height = total_revenues)\n",
    "\n",
    "ax.set_xticks(ticks = countries)\n",
    "ax.set_xticklabels(labels = countries, rotation = 45)\n",
    "ax.set_title('total revenue per country (excluding Germany)')\n",
    "ax.set_yticks(ticks = list(range(0, 26,5)))\n",
    "ax.set_yticklabels(labels = ['0', '5M','10M', '15M', '20M', '25M'])\n",
    "ax.set_ylabel('euros')\n",
    "\n",
    "at = AnchoredText ('Germany: 456.76 M euros', frameon = True, loc = 'upper right')\n",
    "ax.add_artist(at)\n",
    "\n",
    "plt.show()"
   ]
  },
  {
   "cell_type": "markdown",
   "metadata": {},
   "source": [
    "<h4> b) Number of customers per country (excluding Germany) </h4>"
   ]
  },
  {
   "cell_type": "code",
   "execution_count": 417,
   "metadata": {},
   "outputs": [
    {
     "data": {
      "image/png": "[encoded data removed]",
      "text/plain": [
       "<Figure size 720x360 with 1 Axes>"
      ]
     },
     "metadata": {
      "needs_background": "light"
     },
     "output_type": "display_data"
    }
   ],
   "source": [
    "temp = summary_top.sort_values(by = 'num_customers', ascending = False).reset_index()\n",
    "countries = temp['country'][1:]        # select all countries except Germany\n",
    "\n",
    "countries.values[0] = 'UK'             # Abbreviate 'United Kingdom' as 'UK' for plot\n",
    "\n",
    "\n",
    "num_cust = temp['num_customers'][1:]    # select number of customers for all countries (except Germany)\n",
    "\n",
    "fig, ax = plt.subplots(1,1, figsize = (10,5))\n",
    "ax.bar(x = countries,  height = num_cust)\n",
    "\n",
    "ax.set_xticks(ticks = countries)\n",
    "ax.set_xticklabels(labels = countries, rotation = 45)\n",
    "ax.set_title('number of customers per country (excluding Germany)')\n",
    "#ax.set_ylabel('euros')\n",
    "\n",
    "at = AnchoredText ('Germany: 3,921 customers', frameon = True, loc = 'upper right')\n",
    "ax.add_artist(at)\n",
    "\n",
    "plt.show()"
   ]
  },
  {
   "cell_type": "markdown",
   "metadata": {},
   "source": [
    "<h4> c) Number of orders per customer by country </h4>"
   ]
  },
  {
   "cell_type": "markdown",
   "metadata": {},
   "source": [
    "<h4> d) Average revenue per customer by country </h4>"
   ]
  },
  {
   "cell_type": "code",
   "execution_count": 430,
   "metadata": {},
   "outputs": [
    {
     "data": {
      "image/png": "[encoded data removed]",
      "text/plain": [
       "<Figure size 720x360 with 1 Axes>"
      ]
     },
     "metadata": {
      "needs_background": "light"
     },
     "output_type": "display_data"
    }
   ],
   "source": [
    "temp = summary_top.sort_values(by = 'avg_revenue_per_customer', ascending = False).reset_index()\n",
    "\n",
    "countries = temp['country']  # Select all countries except Germany\n",
    "avg_rev_per_cust = (temp['avg_revenue_per_customer']) # revenue in millions\n",
    "\n",
    "\n",
    "fig, ax = plt.subplots(1,1, figsize = (10,5))\n",
    "ax.bar(x = countries,  height = avg_rev_per_cust)\n",
    "\n",
    "ax.set_xticks(ticks = countries)\n",
    "ax.set_xticklabels(labels = countries, rotation = 45)\n",
    "ax.set_title('Average revenue per customer by country')\n",
    "\n",
    "plt.show()"
   ]
  },
  {
   "cell_type": "markdown",
   "metadata": {},
   "source": [
    "- We see three outlier countries in particular: <br>\n",
    "- Ireland, UK, Australia have especially high-value customers (over 1M euros per customer in 2019)"
   ]
  },
  {
   "cell_type": "markdown",
   "metadata": {},
   "source": [
    "<h4> d) Average revenue per order by country </h4>"
   ]
  },
  {
   "cell_type": "code",
   "execution_count": 436,
   "metadata": {},
   "outputs": [
    {
     "data": {
      "image/png": "[encoded data removed]",
      "text/plain": [
       "<Figure size 720x360 with 1 Axes>"
      ]
     },
     "metadata": {
      "needs_background": "light"
     },
     "output_type": "display_data"
    }
   ],
   "source": [
    "temp = summary_top.sort_values(by = 'avg_revenue_per_order', ascending = False).reset_index()\n",
    "\n",
    "countries = temp['country']  # Select all countries except Germany\n",
    "avg_rev_per_cust = (temp['avg_revenue_per_order']/1000) # revenue in thousands\n",
    "\n",
    "\n",
    "fig, ax = plt.subplots(1,1, figsize = (10,5))\n",
    "ax.bar(x = countries,  height = avg_rev_per_cust)\n",
    "\n",
    "ax.set_xticks(ticks = countries)\n",
    "ax.set_xticklabels(labels = countries, rotation = 45)\n",
    "ax.set_title('Average revenue per order by country')\n",
    "ax.set_yticks(ticks = list(range(0, 121,20)))\n",
    "ax.set_yticklabels(labels = ['0', '20k','40k', '60k', '80k', '100k', '120k'])\n",
    "ax.set_ylabel('euros')\n",
    "\n",
    "plt.show()"
   ]
  },
  {
   "cell_type": "markdown",
   "metadata": {},
   "source": [
    "- Still staggering that on average, the top countries' customers spend at least 30k per order\n",
    "- Customers in Japan spend, on average, over 100k per order"
   ]
  },
  {
   "cell_type": "markdown",
   "metadata": {},
   "source": [
    "<h3> 9) Private vs Business customers </h3>"
   ]
  },
  {
   "cell_type": "markdown",
   "metadata": {},
   "source": [
    "In 2019, how many customers spent over 100k? Over 10k? "
   ]
  },
  {
   "cell_type": "code",
   "execution_count": 440,
   "metadata": {},
   "outputs": [
    {
     "name": "stdout",
     "output_type": "stream",
     "text": [
      " over 100k: 1062 customers\n",
      " over 10k: 3473 customers\n",
      " total: 4221 customers\n"
     ]
    }
   ],
   "source": [
    "top_revenue = merged_table[merged_table['invoice_datetime'].dt.year == 2019].groupby('customer_id')['total_sale'].sum().reset_index().rename(columns = {'total_sale':'total_revenue'})\n",
    "#top_revenue['total_revenue (in m)'] = top_revenue['total_revenue (in m)'] / 1000000\n",
    "top_revenue = top_revenue.sort_values(by = 'total_revenue', ascending = False)\n",
    "top_revenue = top_revenue[top_revenue['customer_id']!= 'Null']\n",
    "\n",
    "# Check how many customers spent more than 100,000:\n",
    "customers_100k = top_revenue[top_revenue['total_revenue']>100000]        # 1062 rows\n",
    "\n",
    "# Check how many customers spent more than 10,000:\n",
    "customers_10k = top_revenue[top_revenue['total_revenue']>10000]       # 3473 rows\n",
    "\n",
    "all_customers_2019 = merged_table[merged_table['invoice_datetime'].dt.year == 2019]['customer_id'].nunique()\n",
    "\n",
    "print (f' over 100k: {len(customers_100k)} customers\\n over 10k: {len (customers_10k)} customers\\n total: {all_customers_2019} customers')"
   ]
  },
  {
   "cell_type": "markdown",
   "metadata": {},
   "source": [
    "Wow. Okay, so around 75% of all customers spent over 10k in 2019 alone. This means a huge number of customers are business customers."
   ]
  },
  {
   "cell_type": "code",
   "execution_count": 327,
   "metadata": {},
   "outputs": [
    {
     "data": {
      "image/png": "[encoded data removed]",
      "text/plain": [
       "<Figure size 504x720 with 4 Axes>"
      ]
     },
     "metadata": {
      "needs_background": "light"
     },
     "output_type": "display_data"
    }
   ],
   "source": [
    "# Provisional division lines: \n",
    "# 0 – 10k\n",
    "# 10k – 100k\n",
    "# 100k or above\n",
    "\n",
    "fig, ax = plt.subplots(4,1, figsize = (7,10), sharey = True)\n",
    "# 0 – 10k\n",
    "sns.histplot(ax = ax[0], x = top_revenue [top_revenue['total_revenue']< 10000]['total_revenue'])\n",
    "ax[0].set_title('total revenue 0 – 10k')\n",
    "# 10k – 100k\n",
    "sns.histplot(ax = ax[1], x = top_revenue [(top_revenue['total_revenue']>= 10000) & (top_revenue['total_revenue']< 100000)]['total_revenue'])\n",
    "ax[1].set_title('total revenue 10k – 100k')\n",
    "\n",
    "# 100k–1m\n",
    "sns.histplot(ax = ax[2], x = top_revenue [(top_revenue['total_revenue']>= 100000) &(top_revenue['total_revenue']< 1000000)]['total_revenue'])\n",
    "ax[2].set_title('total revenue 100k – 1 m')\n",
    "\n",
    "# 1m or above\n",
    "sns.histplot(ax = ax[3], x = top_revenue [(top_revenue['total_revenue']>= 1000000)]['total_revenue'])\n",
    "ax[3].set_title('total revenue 1m or above')\n",
    "\n",
    "plt.tight_layout()\n",
    "plt.show()"
   ]
  },
  {
   "cell_type": "code",
   "execution_count": 447,
   "metadata": {},
   "outputs": [
    {
     "data": {
      "text/html": [
       "<div>\n",
       "<style scoped>\n",
       "    .dataframe tbody tr th:only-of-type {\n",
       "        vertical-align: middle;\n",
       "    }\n",
       "\n",
       "    .dataframe tbody tr th {\n",
       "        vertical-align: top;\n",
       "    }\n",
       "\n",
       "    .dataframe thead th {\n",
       "        text-align: right;\n",
       "    }\n",
       "</style>\n",
       "<table border=\"1\" class=\"dataframe\">\n",
       "  <thead>\n",
       "    <tr style=\"text-align: right;\">\n",
       "      <th></th>\n",
       "      <th>revenue</th>\n",
       "      <th>num_customers</th>\n",
       "    </tr>\n",
       "  </thead>\n",
       "  <tbody>\n",
       "    <tr>\n",
       "      <th>0</th>\n",
       "      <td>0–10k</td>\n",
       "      <td>747</td>\n",
       "    </tr>\n",
       "    <tr>\n",
       "      <th>1</th>\n",
       "      <td>10k–100k</td>\n",
       "      <td>2411</td>\n",
       "    </tr>\n",
       "    <tr>\n",
       "      <th>2</th>\n",
       "      <td>100k–1m</td>\n",
       "      <td>1007</td>\n",
       "    </tr>\n",
       "    <tr>\n",
       "      <th>3</th>\n",
       "      <td>&gt; 1m</td>\n",
       "      <td>55</td>\n",
       "    </tr>\n",
       "  </tbody>\n",
       "</table>\n",
       "</div>"
      ],
      "text/plain": [
       "    revenue  num_customers\n",
       "0     0–10k            747\n",
       "1  10k–100k           2411\n",
       "2   100k–1m           1007\n",
       "3      > 1m             55"
      ]
     },
     "execution_count": 447,
     "metadata": {},
     "output_type": "execute_result"
    }
   ],
   "source": [
    "# 0 – 10k -- private customers\n",
    "\n",
    "customers_0_10k = len(top_revenue[(top_revenue['total_revenue']>0)&(top_revenue['total_revenue']<10000)])\n",
    "\n",
    "# 10k – 100k -- small business customers\n",
    "customers_10k_100k = len(top_revenue[(top_revenue['total_revenue']>=10000)&(top_revenue['total_revenue']<100000)])\n",
    "\n",
    "# 100k–1m -- medium business customers\n",
    "customers_100k_1m = len(top_revenue[(top_revenue['total_revenue']>=100000)&(top_revenue['total_revenue']<1000000)])\n",
    "\n",
    "# 1m or above -- big business customers\n",
    "customers_1m_or_above = len(top_revenue[(top_revenue['total_revenue']>=1000000)])\n",
    "\n",
    "private_vs_business = pd.DataFrame({'revenue': ['0–10k', '10k–100k', '100k–1m',  '> 1m'], \n",
    "                                    'num_customers': [customers_0_10k, customers_10k_100k, customers_100k_1m, customers_1m_or_above]})\n",
    "\n",
    "private_vs_business"
   ]
  },
  {
   "cell_type": "code",
   "execution_count": 507,
   "metadata": {},
   "outputs": [
    {
     "data": {
      "image/png": "[encoded data removed]",
      "text/plain": [
       "<Figure size 432x288 with 1 Axes>"
      ]
     },
     "metadata": {
      "needs_background": "light"
     },
     "output_type": "display_data"
    }
   ],
   "source": [
    "fig, ax = plt.subplots(1,1)\n",
    "\n",
    "ax.bar(private_vs_business['revenue'],private_vs_business['num_customers'])\n",
    "ax.set_xticks(ticks = [0,1,2,3])\n",
    "ax.set_xticklabels(labels = ['private', 'small bus.', 'med. bus.', 'big bus.'])\n",
    "ax.set_title('Number of customers per category')\n",
    "ax.set_ylabel('number of customers')\n",
    "\n",
    "at = AnchoredText ('private: < €10k \\nsmall:  < €100k  \\nmed:    < €1 M \\nbig:      > € 1 M ', frameon = True, loc = 'upper right')\n",
    "ax.add_artist(at)\n",
    "\n",
    "plt.show()"
   ]
  },
  {
   "cell_type": "markdown",
   "metadata": {},
   "source": [
    "Ok this is interesting: <br>\n",
    "\n",
    "- A rather small number of customers (747 out of 4220) are private users\n",
    "- The majority of customers are business customers, which we have (quit arbitrarily) divided into three classes: small, medium, big\n",
    "- This means we want to cater to the non-private customers as a priority\n",
    "- Find out if there is a difference in the kinds of products private vs business customers tend to buy"
   ]
  },
  {
   "cell_type": "markdown",
   "metadata": {},
   "source": [
    "<h3> 10) Days since last purchase </h3>"
   ]
  },
  {
   "cell_type": "code",
   "execution_count": 508,
   "metadata": {},
   "outputs": [],
   "source": [
    "def most_recent_order (measure_date):\n",
    "    \"\"\"\n",
    "    Return average number of days since last order for all existing customers\n",
    "\n",
    "    Arguments:\n",
    "    measure_date -- single date, in format 'yyyy-mm-dd'\n",
    "\n",
    "    Returns:\n",
    "    Average number of days since last order\n",
    "    \n",
    "    \"\"\"\n",
    "    \n",
    "    dummy = merged_table.copy(deep = True)\n",
    "    # Select only rows where invoice date is BEFORE measure date\n",
    "    dummy['before_measure_date'] = dummy['invoice_datetime'] < measure_date \n",
    "    dummy = dummy[dummy['before_measure_date'] == True]\n",
    "    # Create new df showing most recent order date before measure date\n",
    "    dummy = dummy.groupby('customer_id')['invoice_date'].max().reset_index().rename(columns = {'invoice_date': 'last_order'})\n",
    "    dummy['measure_date'] = measure_date\n",
    "    dummy['last_order'] = pd.to_datetime(dummy['last_order'])\n",
    "    dummy['measure_date'] = pd.to_datetime(dummy['measure_date'])\n",
    "    dummy['days_since_last_order'] =  (dummy['measure_date'] - dummy['last_order']).dt.days\n",
    "    return round (dummy['days_since_last_order'].mean(),2)"
   ]
  },
  {
   "cell_type": "code",
   "execution_count": 509,
   "metadata": {},
   "outputs": [],
   "source": [
    "measure_dates = ['2019-01-01','2019-02-01','2019-03-01','2019-04-01','2019-05-01','2019-06-01','2019-07-01',\n",
    "                '2019-08-01','2019-09-01','2019-10-01','2019-11-01','2019-12-01', ]\n",
    "days_since_last_order = []\n",
    "for date in measure_dates:\n",
    "    days_since_last_order.append(most_recent_order(date))\n"
   ]
  },
  {
   "cell_type": "code",
   "execution_count": 511,
   "metadata": {},
   "outputs": [
    {
     "data": {
      "image/png": "[encoded data removed]",
      "text/plain": [
       "<Figure size 720x360 with 1 Axes>"
      ]
     },
     "metadata": {
      "needs_background": "light"
     },
     "output_type": "display_data"
    }
   ],
   "source": [
    "fig, ax = plt.subplots(1,1, figsize = (10,5))\n",
    "ax.plot(measure_dates, days_since_last_order, marker = 'o')\n",
    "ax.set_title('Average number of days since last order')\n",
    "ax.set_xticks(measure_dates)\n",
    "ax.set_xticklabels(measure_dates, rotation = 45)\n",
    "ax.set_ylabel('number of days')\n",
    "plt.show()"
   ]
  },
  {
   "cell_type": "markdown",
   "metadata": {},
   "source": [
    "- Seems to plateau at around 90 days. \n",
    "- Given available data, have to assume this trend continues.\n",
    "- On average, customers make a purchase once every 90 days"
   ]
  },
  {
   "cell_type": "code",
   "execution_count": 154,
   "metadata": {},
   "outputs": [],
   "source": [
    "start_date = datetime.date(2019, 1, 1)\n",
    "number_of_days = 365\n",
    "date_list = [(start_date + datetime.timedelta(days = day)).isoformat() for day in range(0, number_of_days, 15)] # Date every 15 days\n",
    "\n",
    "\n",
    "days_since_last_order = []\n",
    "for date in date_list:\n",
    "    days_since_last_order.append(most_recent_order(date))\n"
   ]
  },
  {
   "cell_type": "code",
   "execution_count": 155,
   "metadata": {},
   "outputs": [
    {
     "data": {
      "image/png": "[encoded data removed]",
      "text/plain": [
       "<Figure size 720x360 with 1 Axes>"
      ]
     },
     "metadata": {
      "needs_background": "light"
     },
     "output_type": "display_data"
    }
   ],
   "source": [
    "fig, ax = plt.subplots(1,1, figsize = (10,5))\n",
    "ax.plot(date_list, days_since_last_order, marker = 'o')\n",
    "ax.set_title('Average number of days since last order')\n",
    "ax.set_xticks(date_list)\n",
    "ax.set_xticklabels(date_list, rotation = 45)\n",
    "plt.show()"
   ]
  },
  {
   "cell_type": "markdown",
   "metadata": {},
   "source": [
    "<h3> 11) Top and bottom selling products </h3>"
   ]
  },
  {
   "cell_type": "code",
   "execution_count": 516,
   "metadata": {},
   "outputs": [
    {
     "data": {
      "text/html": [
       "<div>\n",
       "<style scoped>\n",
       "    .dataframe tbody tr th:only-of-type {\n",
       "        vertical-align: middle;\n",
       "    }\n",
       "\n",
       "    .dataframe tbody tr th {\n",
       "        vertical-align: top;\n",
       "    }\n",
       "\n",
       "    .dataframe thead th {\n",
       "        text-align: right;\n",
       "    }\n",
       "</style>\n",
       "<table border=\"1\" class=\"dataframe\">\n",
       "  <thead>\n",
       "    <tr style=\"text-align: right;\">\n",
       "      <th></th>\n",
       "      <th>invoice_no</th>\n",
       "      <th>product_id</th>\n",
       "      <th>quantity</th>\n",
       "      <th>unit_price</th>\n",
       "      <th>total_sale</th>\n",
       "      <th>customer_id</th>\n",
       "      <th>rating</th>\n",
       "      <th>review_count</th>\n",
       "      <th>country</th>\n",
       "      <th>product_name</th>\n",
       "      <th>product_type</th>\n",
       "      <th>stock_code</th>\n",
       "      <th>invoice_datetime</th>\n",
       "      <th>day_of_week</th>\n",
       "      <th>month</th>\n",
       "      <th>hour</th>\n",
       "      <th>year</th>\n",
       "      <th>quarter</th>\n",
       "      <th>invoice_date</th>\n",
       "    </tr>\n",
       "  </thead>\n",
       "  <tbody>\n",
       "    <tr>\n",
       "      <th>0</th>\n",
       "      <td>78536597</td>\n",
       "      <td>B07GWKDLGT</td>\n",
       "      <td>4</td>\n",
       "      <td>496.95</td>\n",
       "      <td>1987.80</td>\n",
       "      <td>18011</td>\n",
       "      <td>4.6</td>\n",
       "      <td>1399</td>\n",
       "      <td>Germany</td>\n",
       "      <td>Nikon D3500 W/ AF-P DX NIKKOR 18-55mm f/3.5-5....</td>\n",
       "      <td>dslr camera</td>\n",
       "      <td>21703</td>\n",
       "      <td>2018-12-01 17:00:00</td>\n",
       "      <td>5</td>\n",
       "      <td>12</td>\n",
       "      <td>17</td>\n",
       "      <td>2018</td>\n",
       "      <td>4</td>\n",
       "      <td>2018-12-01</td>\n",
       "    </tr>\n",
       "    <tr>\n",
       "      <th>1</th>\n",
       "      <td>78536597</td>\n",
       "      <td>B01MTLH408</td>\n",
       "      <td>4</td>\n",
       "      <td>39.99</td>\n",
       "      <td>159.96</td>\n",
       "      <td>18011</td>\n",
       "      <td>4.6</td>\n",
       "      <td>289</td>\n",
       "      <td>Germany</td>\n",
       "      <td>Manfrotto Element Aluminum 5-Section Monopod, ...</td>\n",
       "      <td>dslr camera</td>\n",
       "      <td>40001</td>\n",
       "      <td>2018-12-01 17:00:00</td>\n",
       "      <td>5</td>\n",
       "      <td>12</td>\n",
       "      <td>17</td>\n",
       "      <td>2018</td>\n",
       "      <td>4</td>\n",
       "      <td>2018-12-01</td>\n",
       "    </tr>\n",
       "  </tbody>\n",
       "</table>\n",
       "</div>"
      ],
      "text/plain": [
       "  invoice_no  product_id  quantity  unit_price  total_sale customer_id  \\\n",
       "0   78536597  B07GWKDLGT         4      496.95     1987.80       18011   \n",
       "1   78536597  B01MTLH408         4       39.99      159.96       18011   \n",
       "\n",
       "   rating  review_count  country  \\\n",
       "0     4.6          1399  Germany   \n",
       "1     4.6           289  Germany   \n",
       "\n",
       "                                        product_name product_type stock_code  \\\n",
       "0  Nikon D3500 W/ AF-P DX NIKKOR 18-55mm f/3.5-5....  dslr camera      21703   \n",
       "1  Manfrotto Element Aluminum 5-Section Monopod, ...  dslr camera      40001   \n",
       "\n",
       "     invoice_datetime  day_of_week  month  hour  year  quarter invoice_date  \n",
       "0 2018-12-01 17:00:00            5     12    17  2018        4   2018-12-01  \n",
       "1 2018-12-01 17:00:00            5     12    17  2018        4   2018-12-01  "
      ]
     },
     "execution_count": 516,
     "metadata": {},
     "output_type": "execute_result"
    }
   ],
   "source": [
    "merged_table.head(2)"
   ]
  },
  {
   "cell_type": "code",
   "execution_count": 594,
   "metadata": {},
   "outputs": [
    {
     "data": {
      "text/plain": [
       "array(['dslr camera', 'keyboard', 'monitor', 'mouse', 'processor',\n",
       "       'smartphone'], dtype=object)"
      ]
     },
     "execution_count": 594,
     "metadata": {},
     "output_type": "execute_result"
    }
   ],
   "source": [
    "products = merged_table[['product_id', 'unit_price', 'rating', 'review_count', 'product_name', 'product_type']]\n",
    "products = products.drop_duplicates()\n",
    "products['product_type'].unique()\n",
    "\n"
   ]
  },
  {
   "cell_type": "markdown",
   "metadata": {},
   "source": [
    "- 6 product_types: dslr camera, keyboard, monitor, mouse, processor, smartphone"
   ]
  },
  {
   "cell_type": "code",
   "execution_count": 622,
   "metadata": {},
   "outputs": [],
   "source": [
    "product_sales = merged_table.groupby(['product_type', 'product_id'])[['quantity', 'total_sale']].sum().reset_index().sort_values(by = ['product_type','total_sale'], ascending = False)\n",
    "product_sales.rename(columns = {'total_sale':'total_revenue'}, inplace = True)\n",
    "product_sales = pd.merge(product_sales, products, how = 'left', on = 'product_id').drop('product_type_y', axis =1).rename(columns = {'product_type_x':'product_type'})\n",
    "\n",
    "# Number of unique customers per product\n",
    "product_num_customers = merged_table.groupby('product_id')[['customer_id']].nunique().reset_index().rename(columns = {'customer_id':'num_customers'}).sort_values(by = 'num_customers', ascending=False)\n",
    "product_num_customers[product_num_customers['product_id']!= 'Null']\n",
    "product_sales = pd.merge(product_sales, product_num_customers, how = 'left', on = 'product_id')\n",
    "product_sales = product_sales[product_sales['product_id']!= 'Null']\n",
    "\n",
    "top_camera = product_sales[product_sales['product_type'] == 'dslr camera']\n",
    "top_keyboard = product_sales[product_sales['product_type'] == 'keyboard']\n",
    "top_monitor = product_sales[product_sales['product_type'] == 'monitor']\n",
    "top_mouse = product_sales[product_sales['product_type'] == 'mouse']\n",
    "top_processor = product_sales[product_sales['product_type'] == 'processor']\n",
    "top_smartphone = product_sales[product_sales['product_type'] == 'smartphone']\n",
    "\n"
   ]
  },
  {
   "cell_type": "code",
   "execution_count": 623,
   "metadata": {},
   "outputs": [
    {
     "data": {
      "image/png": "[encoded data removed]",
      "text/plain": [
       "<Figure size 504x504 with 1 Axes>"
      ]
     },
     "metadata": {
      "needs_background": "light"
     },
     "output_type": "display_data"
    }
   ],
   "source": [
    "fig, ax = plt.subplots(1,1, figsize = (7,7))\n",
    "ax.plot(list(range(10)), top_camera['total_revenue'][:10]/1000000, marker = 'o', label = 'top cameras')\n",
    "ax.plot(list(range(10)), top_keyboard['total_revenue'][:10]/1000000, marker = 'o', label = 'top keyboards')\n",
    "ax.plot(list(range(10)), top_monitor['total_revenue'][:10]/1000000, marker = 'o', label = 'top monitors')\n",
    "ax.plot(list(range(10)), top_mouse['total_revenue'][:10]/1000000, marker = 'o', label = 'top mouses')\n",
    "ax.plot(list(range(10)), top_processor['total_revenue'][:10]/1000000, marker = 'o', label = 'top processors')\n",
    "ax.plot(list(range(10)), top_smartphone['total_revenue'][:10]/1000000, marker = 'o', label = 'top smartphones')\n",
    "\n",
    "ax.set_title('top products by revenue, sorted by product type')\n",
    "\n",
    "ax.set_ylim(0,30)\n",
    "ax.set_xticks(ticks = list(range(10)))\n",
    "ax.set_xticklabels (labels = list(range(1,11)))\n",
    "ax.set_yticks(ticks = list(range(0,31,5)))\n",
    "ax.set_yticklabels(labels = ['0', '5 M', '10 M', '15 M', '20 M', '25 M', '30 M'])\n",
    "ax.set_ylabel('euros')\n",
    "ax.set_xlabel('ranking within product type')\n",
    "\n",
    "ax.legend()\n",
    "plt.show()"
   ]
  },
  {
   "cell_type": "code",
   "execution_count": 624,
   "metadata": {},
   "outputs": [
    {
     "data": {
      "image/png": "[encoded data removed]",
      "text/plain": [
       "<Figure size 504x504 with 1 Axes>"
      ]
     },
     "metadata": {
      "needs_background": "light"
     },
     "output_type": "display_data"
    }
   ],
   "source": [
    "fig, ax = plt.subplots(1,1, figsize = (7,7))\n",
    "ax.plot(list(range(10)), top_camera.sort_values(by = 'quantity', ascending = False)['quantity'][:10]/1000, marker = 'o', label = 'top cameras')\n",
    "ax.plot(list(range(10)), top_keyboard.sort_values(by = 'quantity', ascending = False)['quantity'][:10]/1000, marker = 'o', label = 'top keyboards')\n",
    "ax.plot(list(range(10)), top_monitor.sort_values(by = 'quantity', ascending = False)['quantity'][:10]/1000, marker = 'o', label = 'top monitors')\n",
    "ax.plot(list(range(10)), top_mouse.sort_values(by = 'quantity', ascending = False)['quantity'][:10]/1000, marker = 'o', label = 'top mouses')\n",
    "ax.plot(list(range(10)), top_processor.sort_values(by = 'quantity', ascending = False)['quantity'][:10]/1000, marker = 'o', label = 'top processors')\n",
    "ax.plot(list(range(10)), top_smartphone.sort_values(by = 'quantity', ascending = False)['quantity'][:10]/1000, marker = 'o', label = 'top smartphones')\n",
    "\n",
    "ax.set_title('top products by units sold, sorted by product type')\n",
    "\n",
    "ax.set_ylim(0,85)\n",
    "ax.set_xticks(ticks = list(range(10)))\n",
    "ax.set_xticklabels (labels = list(range(1,11)))\n",
    "ax.set_yticks(ticks = list(range(0,81,10)))\n",
    "ax.set_yticklabels(labels = ['0', '10k', '20k', '30k', '40k', '50k', '60k','70k','80k'])\n",
    "ax.set_ylabel('units sold')\n",
    "ax.set_xlabel('ranking within product type')\n",
    "\n",
    "ax.legend()\n",
    "plt.show()"
   ]
  },
  {
   "cell_type": "code",
   "execution_count": 625,
   "metadata": {},
   "outputs": [
    {
     "data": {
      "text/html": [
       "<div>\n",
       "<style scoped>\n",
       "    .dataframe tbody tr th:only-of-type {\n",
       "        vertical-align: middle;\n",
       "    }\n",
       "\n",
       "    .dataframe tbody tr th {\n",
       "        vertical-align: top;\n",
       "    }\n",
       "\n",
       "    .dataframe thead th {\n",
       "        text-align: right;\n",
       "    }\n",
       "</style>\n",
       "<table border=\"1\" class=\"dataframe\">\n",
       "  <thead>\n",
       "    <tr style=\"text-align: right;\">\n",
       "      <th></th>\n",
       "      <th>quantity</th>\n",
       "      <th>total_revenue</th>\n",
       "      <th>unit_price</th>\n",
       "      <th>rating</th>\n",
       "      <th>review_count</th>\n",
       "      <th>num_customers</th>\n",
       "    </tr>\n",
       "  </thead>\n",
       "  <tbody>\n",
       "    <tr>\n",
       "      <th>count</th>\n",
       "      <td>4664.000000</td>\n",
       "      <td>4.664000e+03</td>\n",
       "      <td>4664.000000</td>\n",
       "      <td>4664.000000</td>\n",
       "      <td>4664.000000</td>\n",
       "      <td>4664.000000</td>\n",
       "    </tr>\n",
       "    <tr>\n",
       "      <th>mean</th>\n",
       "      <td>1375.987993</td>\n",
       "      <td>1.365279e+05</td>\n",
       "      <td>106.393808</td>\n",
       "      <td>4.263679</td>\n",
       "      <td>814.111707</td>\n",
       "      <td>65.048027</td>\n",
       "    </tr>\n",
       "    <tr>\n",
       "      <th>std</th>\n",
       "      <td>3371.508175</td>\n",
       "      <td>7.036373e+05</td>\n",
       "      <td>227.026944</td>\n",
       "      <td>0.361564</td>\n",
       "      <td>2485.257125</td>\n",
       "      <td>87.450747</td>\n",
       "    </tr>\n",
       "    <tr>\n",
       "      <th>min</th>\n",
       "      <td>1.000000</td>\n",
       "      <td>5.900000e+00</td>\n",
       "      <td>5.040000</td>\n",
       "      <td>2.300000</td>\n",
       "      <td>27.000000</td>\n",
       "      <td>1.000000</td>\n",
       "    </tr>\n",
       "    <tr>\n",
       "      <th>25%</th>\n",
       "      <td>60.000000</td>\n",
       "      <td>1.830027e+03</td>\n",
       "      <td>14.990000</td>\n",
       "      <td>4.100000</td>\n",
       "      <td>122.000000</td>\n",
       "      <td>7.000000</td>\n",
       "    </tr>\n",
       "    <tr>\n",
       "      <th>50%</th>\n",
       "      <td>350.500000</td>\n",
       "      <td>1.253850e+04</td>\n",
       "      <td>29.980000</td>\n",
       "      <td>4.300000</td>\n",
       "      <td>240.000000</td>\n",
       "      <td>31.000000</td>\n",
       "    </tr>\n",
       "    <tr>\n",
       "      <th>75%</th>\n",
       "      <td>1381.250000</td>\n",
       "      <td>6.715448e+04</td>\n",
       "      <td>88.990000</td>\n",
       "      <td>4.500000</td>\n",
       "      <td>624.250000</td>\n",
       "      <td>88.000000</td>\n",
       "    </tr>\n",
       "    <tr>\n",
       "      <th>max</th>\n",
       "      <td>80995.000000</td>\n",
       "      <td>2.732705e+07</td>\n",
       "      <td>3999.110000</td>\n",
       "      <td>4.900000</td>\n",
       "      <td>63885.000000</td>\n",
       "      <td>882.000000</td>\n",
       "    </tr>\n",
       "  </tbody>\n",
       "</table>\n",
       "</div>"
      ],
      "text/plain": [
       "           quantity  total_revenue   unit_price       rating  review_count  \\\n",
       "count   4664.000000   4.664000e+03  4664.000000  4664.000000   4664.000000   \n",
       "mean    1375.987993   1.365279e+05   106.393808     4.263679    814.111707   \n",
       "std     3371.508175   7.036373e+05   227.026944     0.361564   2485.257125   \n",
       "min        1.000000   5.900000e+00     5.040000     2.300000     27.000000   \n",
       "25%       60.000000   1.830027e+03    14.990000     4.100000    122.000000   \n",
       "50%      350.500000   1.253850e+04    29.980000     4.300000    240.000000   \n",
       "75%     1381.250000   6.715448e+04    88.990000     4.500000    624.250000   \n",
       "max    80995.000000   2.732705e+07  3999.110000     4.900000  63885.000000   \n",
       "\n",
       "       num_customers  \n",
       "count    4664.000000  \n",
       "mean       65.048027  \n",
       "std        87.450747  \n",
       "min         1.000000  \n",
       "25%         7.000000  \n",
       "50%        31.000000  \n",
       "75%        88.000000  \n",
       "max       882.000000  "
      ]
     },
     "execution_count": 625,
     "metadata": {},
     "output_type": "execute_result"
    }
   ],
   "source": [
    "product_sales.describe()"
   ]
  },
  {
   "cell_type": "markdown",
   "metadata": {},
   "source": [
    "- median for total revenue is around 12k\n",
    "- bottom quartile for total revenue is around 1.8k"
   ]
  },
  {
   "cell_type": "code",
   "execution_count": 628,
   "metadata": {},
   "outputs": [
    {
     "data": {
      "text/plain": [
       "4133"
      ]
     },
     "execution_count": 628,
     "metadata": {},
     "output_type": "execute_result"
    }
   ],
   "source": [
    "product_sales['product_id'].nunique()"
   ]
  },
  {
   "cell_type": "markdown",
   "metadata": {},
   "source": [
    "- There are 4133 unique products"
   ]
  },
  {
   "cell_type": "code",
   "execution_count": 631,
   "metadata": {},
   "outputs": [
    {
     "data": {
      "text/plain": [
       "4340"
      ]
     },
     "execution_count": 631,
     "metadata": {},
     "output_type": "execute_result"
    }
   ],
   "source": [
    "merged_table['customer_id'].nunique()"
   ]
  },
  {
   "cell_type": "markdown",
   "metadata": {},
   "source": [
    "Select all products in bottom quartile with respect to total revenue"
   ]
  },
  {
   "cell_type": "code",
   "execution_count": 632,
   "metadata": {},
   "outputs": [
    {
     "data": {
      "text/html": [
       "<div>\n",
       "<style scoped>\n",
       "    .dataframe tbody tr th:only-of-type {\n",
       "        vertical-align: middle;\n",
       "    }\n",
       "\n",
       "    .dataframe tbody tr th {\n",
       "        vertical-align: top;\n",
       "    }\n",
       "\n",
       "    .dataframe thead th {\n",
       "        text-align: right;\n",
       "    }\n",
       "</style>\n",
       "<table border=\"1\" class=\"dataframe\">\n",
       "  <thead>\n",
       "    <tr style=\"text-align: right;\">\n",
       "      <th></th>\n",
       "      <th>product_type</th>\n",
       "      <th>product_id</th>\n",
       "      <th>quantity</th>\n",
       "      <th>total_revenue</th>\n",
       "      <th>unit_price</th>\n",
       "      <th>rating</th>\n",
       "      <th>review_count</th>\n",
       "      <th>product_name</th>\n",
       "      <th>num_customers</th>\n",
       "    </tr>\n",
       "  </thead>\n",
       "  <tbody>\n",
       "    <tr>\n",
       "      <th>794</th>\n",
       "      <td>smartphone</td>\n",
       "      <td>B01IV0L342</td>\n",
       "      <td>87</td>\n",
       "      <td>1740.87</td>\n",
       "      <td>20.01</td>\n",
       "      <td>4.3</td>\n",
       "      <td>158</td>\n",
       "      <td>Speck Products CandyShell Grip Case for Moto Z...</td>\n",
       "      <td>9</td>\n",
       "    </tr>\n",
       "    <tr>\n",
       "      <th>795</th>\n",
       "      <td>smartphone</td>\n",
       "      <td>B083NJ5H59</td>\n",
       "      <td>116</td>\n",
       "      <td>1738.84</td>\n",
       "      <td>14.99</td>\n",
       "      <td>3.6</td>\n",
       "      <td>171</td>\n",
       "      <td>Car Phone Holder, Loncaster 360Â°Rotating Car ...</td>\n",
       "      <td>11</td>\n",
       "    </tr>\n",
       "    <tr>\n",
       "      <th>796</th>\n",
       "      <td>smartphone</td>\n",
       "      <td>B07YQPSVHY</td>\n",
       "      <td>57</td>\n",
       "      <td>1735.08</td>\n",
       "      <td>30.44</td>\n",
       "      <td>4.2</td>\n",
       "      <td>211</td>\n",
       "      <td>Wireless Car Charger, Hexdeer 10W/7.5W Qi Fast...</td>\n",
       "      <td>21</td>\n",
       "    </tr>\n",
       "    <tr>\n",
       "      <th>797</th>\n",
       "      <td>smartphone</td>\n",
       "      <td>B07HY22Y4N</td>\n",
       "      <td>86</td>\n",
       "      <td>1719.14</td>\n",
       "      <td>19.99</td>\n",
       "      <td>4.3</td>\n",
       "      <td>144</td>\n",
       "      <td>Rokform - Universal Twist Lock &amp; Magnetic Phon...</td>\n",
       "      <td>12</td>\n",
       "    </tr>\n",
       "    <tr>\n",
       "      <th>798</th>\n",
       "      <td>smartphone</td>\n",
       "      <td>B07NZM45LX</td>\n",
       "      <td>95</td>\n",
       "      <td>1709.05</td>\n",
       "      <td>17.99</td>\n",
       "      <td>3.7</td>\n",
       "      <td>158</td>\n",
       "      <td>Innens 3.5 MM Wired Gaming Earphone, Noise Can...</td>\n",
       "      <td>23</td>\n",
       "    </tr>\n",
       "    <tr>\n",
       "      <th>...</th>\n",
       "      <td>...</td>\n",
       "      <td>...</td>\n",
       "      <td>...</td>\n",
       "      <td>...</td>\n",
       "      <td>...</td>\n",
       "      <td>...</td>\n",
       "      <td>...</td>\n",
       "      <td>...</td>\n",
       "      <td>...</td>\n",
       "    </tr>\n",
       "    <tr>\n",
       "      <th>4979</th>\n",
       "      <td>dslr camera</td>\n",
       "      <td>B07KRYNMQZ</td>\n",
       "      <td>1</td>\n",
       "      <td>19.85</td>\n",
       "      <td>19.85</td>\n",
       "      <td>4.1</td>\n",
       "      <td>68</td>\n",
       "      <td>Dependable Lavalier Lapel Microphone, Dual Pro...</td>\n",
       "      <td>1</td>\n",
       "    </tr>\n",
       "    <tr>\n",
       "      <th>4980</th>\n",
       "      <td>dslr camera</td>\n",
       "      <td>B01FIGK6ZO</td>\n",
       "      <td>1</td>\n",
       "      <td>18.90</td>\n",
       "      <td>18.90</td>\n",
       "      <td>4.4</td>\n",
       "      <td>73</td>\n",
       "      <td>Kapaxen ACK-E10 (UL Listed) AC Power Adapter K...</td>\n",
       "      <td>1</td>\n",
       "    </tr>\n",
       "    <tr>\n",
       "      <th>4981</th>\n",
       "      <td>dslr camera</td>\n",
       "      <td>B018I844Z2</td>\n",
       "      <td>1</td>\n",
       "      <td>14.99</td>\n",
       "      <td>14.99</td>\n",
       "      <td>4.4</td>\n",
       "      <td>74</td>\n",
       "      <td>Neewer Rubber-Coated Metal Camera Lens Filter ...</td>\n",
       "      <td>1</td>\n",
       "    </tr>\n",
       "    <tr>\n",
       "      <th>4982</th>\n",
       "      <td>dslr camera</td>\n",
       "      <td>B01KPMETJK</td>\n",
       "      <td>1</td>\n",
       "      <td>11.99</td>\n",
       "      <td>11.99</td>\n",
       "      <td>4.0</td>\n",
       "      <td>75</td>\n",
       "      <td>ASOCEA 360 Degrees Rotation Suction Cup Mount+...</td>\n",
       "      <td>1</td>\n",
       "    </tr>\n",
       "    <tr>\n",
       "      <th>4983</th>\n",
       "      <td>dslr camera</td>\n",
       "      <td>B07RYMD9Y4</td>\n",
       "      <td>1</td>\n",
       "      <td>7.99</td>\n",
       "      <td>7.99</td>\n",
       "      <td>4.6</td>\n",
       "      <td>72</td>\n",
       "      <td>CBUS 5ft HDMI to Mini HDMI Cable for Nikon D35...</td>\n",
       "      <td>1</td>\n",
       "    </tr>\n",
       "  </tbody>\n",
       "</table>\n",
       "<p>1159 rows × 9 columns</p>\n",
       "</div>"
      ],
      "text/plain": [
       "     product_type  product_id  quantity  total_revenue  unit_price  rating  \\\n",
       "794    smartphone  B01IV0L342        87        1740.87       20.01     4.3   \n",
       "795    smartphone  B083NJ5H59       116        1738.84       14.99     3.6   \n",
       "796    smartphone  B07YQPSVHY        57        1735.08       30.44     4.2   \n",
       "797    smartphone  B07HY22Y4N        86        1719.14       19.99     4.3   \n",
       "798    smartphone  B07NZM45LX        95        1709.05       17.99     3.7   \n",
       "...           ...         ...       ...            ...         ...     ...   \n",
       "4979  dslr camera  B07KRYNMQZ         1          19.85       19.85     4.1   \n",
       "4980  dslr camera  B01FIGK6ZO         1          18.90       18.90     4.4   \n",
       "4981  dslr camera  B018I844Z2         1          14.99       14.99     4.4   \n",
       "4982  dslr camera  B01KPMETJK         1          11.99       11.99     4.0   \n",
       "4983  dslr camera  B07RYMD9Y4         1           7.99        7.99     4.6   \n",
       "\n",
       "      review_count                                       product_name  \\\n",
       "794            158  Speck Products CandyShell Grip Case for Moto Z...   \n",
       "795            171  Car Phone Holder, Loncaster 360Â°Rotating Car ...   \n",
       "796            211  Wireless Car Charger, Hexdeer 10W/7.5W Qi Fast...   \n",
       "797            144  Rokform - Universal Twist Lock & Magnetic Phon...   \n",
       "798            158  Innens 3.5 MM Wired Gaming Earphone, Noise Can...   \n",
       "...            ...                                                ...   \n",
       "4979            68  Dependable Lavalier Lapel Microphone, Dual Pro...   \n",
       "4980            73  Kapaxen ACK-E10 (UL Listed) AC Power Adapter K...   \n",
       "4981            74  Neewer Rubber-Coated Metal Camera Lens Filter ...   \n",
       "4982            75  ASOCEA 360 Degrees Rotation Suction Cup Mount+...   \n",
       "4983            72  CBUS 5ft HDMI to Mini HDMI Cable for Nikon D35...   \n",
       "\n",
       "      num_customers  \n",
       "794               9  \n",
       "795              11  \n",
       "796              21  \n",
       "797              12  \n",
       "798              23  \n",
       "...             ...  \n",
       "4979              1  \n",
       "4980              1  \n",
       "4981              1  \n",
       "4982              1  \n",
       "4983              1  \n",
       "\n",
       "[1159 rows x 9 columns]"
      ]
     },
     "execution_count": 632,
     "metadata": {},
     "output_type": "execute_result"
    }
   ],
   "source": [
    "product_sales[product_sales['total_revenue']<1800]"
   ]
  },
  {
   "cell_type": "markdown",
   "metadata": {},
   "source": [
    "Select all products with a total_revenue below the median value, with low diversity of customer numbers"
   ]
  },
  {
   "cell_type": "code",
   "execution_count": 630,
   "metadata": {},
   "outputs": [
    {
     "data": {
      "text/html": [
       "<div>\n",
       "<style scoped>\n",
       "    .dataframe tbody tr th:only-of-type {\n",
       "        vertical-align: middle;\n",
       "    }\n",
       "\n",
       "    .dataframe tbody tr th {\n",
       "        vertical-align: top;\n",
       "    }\n",
       "\n",
       "    .dataframe thead th {\n",
       "        text-align: right;\n",
       "    }\n",
       "</style>\n",
       "<table border=\"1\" class=\"dataframe\">\n",
       "  <thead>\n",
       "    <tr style=\"text-align: right;\">\n",
       "      <th></th>\n",
       "      <th>product_type</th>\n",
       "      <th>product_id</th>\n",
       "      <th>quantity</th>\n",
       "      <th>total_revenue</th>\n",
       "      <th>unit_price</th>\n",
       "      <th>rating</th>\n",
       "      <th>review_count</th>\n",
       "      <th>product_name</th>\n",
       "      <th>num_customers</th>\n",
       "    </tr>\n",
       "  </thead>\n",
       "  <tbody>\n",
       "    <tr>\n",
       "      <th>491</th>\n",
       "      <td>smartphone</td>\n",
       "      <td>B07HT18ML1</td>\n",
       "      <td>35</td>\n",
       "      <td>11795.00</td>\n",
       "      <td>337.00</td>\n",
       "      <td>3.7</td>\n",
       "      <td>146</td>\n",
       "      <td>2020 Bluetooth Projector WiFi Android LCD LED ...</td>\n",
       "      <td>7</td>\n",
       "    </tr>\n",
       "    <tr>\n",
       "      <th>492</th>\n",
       "      <td>smartphone</td>\n",
       "      <td>B07PS6Y8DZ</td>\n",
       "      <td>132</td>\n",
       "      <td>11748.00</td>\n",
       "      <td>89.00</td>\n",
       "      <td>4.0</td>\n",
       "      <td>155</td>\n",
       "      <td>Canon IVY CLIQ+ Instant Camera Printer, Smartp...</td>\n",
       "      <td>19</td>\n",
       "    </tr>\n",
       "    <tr>\n",
       "      <th>494</th>\n",
       "      <td>smartphone</td>\n",
       "      <td>B00HZYM2UA</td>\n",
       "      <td>366</td>\n",
       "      <td>11529.00</td>\n",
       "      <td>31.50</td>\n",
       "      <td>4.4</td>\n",
       "      <td>313</td>\n",
       "      <td>Scosche Magnetic Dash Mount for Smartphone</td>\n",
       "      <td>45</td>\n",
       "    </tr>\n",
       "    <tr>\n",
       "      <th>495</th>\n",
       "      <td>smartphone</td>\n",
       "      <td>B01LARLO5G</td>\n",
       "      <td>951</td>\n",
       "      <td>11402.49</td>\n",
       "      <td>11.99</td>\n",
       "      <td>4.1</td>\n",
       "      <td>251</td>\n",
       "      <td>Faraday Bag, Wisdompro RFID Signal Blocking Ba...</td>\n",
       "      <td>48</td>\n",
       "    </tr>\n",
       "    <tr>\n",
       "      <th>496</th>\n",
       "      <td>smartphone</td>\n",
       "      <td>B07L8LZ63T</td>\n",
       "      <td>634</td>\n",
       "      <td>11348.60</td>\n",
       "      <td>17.90</td>\n",
       "      <td>4.6</td>\n",
       "      <td>415</td>\n",
       "      <td>ZhinkArts Smartphone Necklace Case Compatible ...</td>\n",
       "      <td>46</td>\n",
       "    </tr>\n",
       "    <tr>\n",
       "      <th>...</th>\n",
       "      <td>...</td>\n",
       "      <td>...</td>\n",
       "      <td>...</td>\n",
       "      <td>...</td>\n",
       "      <td>...</td>\n",
       "      <td>...</td>\n",
       "      <td>...</td>\n",
       "      <td>...</td>\n",
       "      <td>...</td>\n",
       "    </tr>\n",
       "    <tr>\n",
       "      <th>4979</th>\n",
       "      <td>dslr camera</td>\n",
       "      <td>B07KRYNMQZ</td>\n",
       "      <td>1</td>\n",
       "      <td>19.85</td>\n",
       "      <td>19.85</td>\n",
       "      <td>4.1</td>\n",
       "      <td>68</td>\n",
       "      <td>Dependable Lavalier Lapel Microphone, Dual Pro...</td>\n",
       "      <td>1</td>\n",
       "    </tr>\n",
       "    <tr>\n",
       "      <th>4980</th>\n",
       "      <td>dslr camera</td>\n",
       "      <td>B01FIGK6ZO</td>\n",
       "      <td>1</td>\n",
       "      <td>18.90</td>\n",
       "      <td>18.90</td>\n",
       "      <td>4.4</td>\n",
       "      <td>73</td>\n",
       "      <td>Kapaxen ACK-E10 (UL Listed) AC Power Adapter K...</td>\n",
       "      <td>1</td>\n",
       "    </tr>\n",
       "    <tr>\n",
       "      <th>4981</th>\n",
       "      <td>dslr camera</td>\n",
       "      <td>B018I844Z2</td>\n",
       "      <td>1</td>\n",
       "      <td>14.99</td>\n",
       "      <td>14.99</td>\n",
       "      <td>4.4</td>\n",
       "      <td>74</td>\n",
       "      <td>Neewer Rubber-Coated Metal Camera Lens Filter ...</td>\n",
       "      <td>1</td>\n",
       "    </tr>\n",
       "    <tr>\n",
       "      <th>4982</th>\n",
       "      <td>dslr camera</td>\n",
       "      <td>B01KPMETJK</td>\n",
       "      <td>1</td>\n",
       "      <td>11.99</td>\n",
       "      <td>11.99</td>\n",
       "      <td>4.0</td>\n",
       "      <td>75</td>\n",
       "      <td>ASOCEA 360 Degrees Rotation Suction Cup Mount+...</td>\n",
       "      <td>1</td>\n",
       "    </tr>\n",
       "    <tr>\n",
       "      <th>4983</th>\n",
       "      <td>dslr camera</td>\n",
       "      <td>B07RYMD9Y4</td>\n",
       "      <td>1</td>\n",
       "      <td>7.99</td>\n",
       "      <td>7.99</td>\n",
       "      <td>4.6</td>\n",
       "      <td>72</td>\n",
       "      <td>CBUS 5ft HDMI to Mini HDMI Cable for Nikon D35...</td>\n",
       "      <td>1</td>\n",
       "    </tr>\n",
       "  </tbody>\n",
       "</table>\n",
       "<p>2042 rows × 9 columns</p>\n",
       "</div>"
      ],
      "text/plain": [
       "     product_type  product_id  quantity  total_revenue  unit_price  rating  \\\n",
       "491    smartphone  B07HT18ML1        35       11795.00      337.00     3.7   \n",
       "492    smartphone  B07PS6Y8DZ       132       11748.00       89.00     4.0   \n",
       "494    smartphone  B00HZYM2UA       366       11529.00       31.50     4.4   \n",
       "495    smartphone  B01LARLO5G       951       11402.49       11.99     4.1   \n",
       "496    smartphone  B07L8LZ63T       634       11348.60       17.90     4.6   \n",
       "...           ...         ...       ...            ...         ...     ...   \n",
       "4979  dslr camera  B07KRYNMQZ         1          19.85       19.85     4.1   \n",
       "4980  dslr camera  B01FIGK6ZO         1          18.90       18.90     4.4   \n",
       "4981  dslr camera  B018I844Z2         1          14.99       14.99     4.4   \n",
       "4982  dslr camera  B01KPMETJK         1          11.99       11.99     4.0   \n",
       "4983  dslr camera  B07RYMD9Y4         1           7.99        7.99     4.6   \n",
       "\n",
       "      review_count                                       product_name  \\\n",
       "491            146  2020 Bluetooth Projector WiFi Android LCD LED ...   \n",
       "492            155  Canon IVY CLIQ+ Instant Camera Printer, Smartp...   \n",
       "494            313         Scosche Magnetic Dash Mount for Smartphone   \n",
       "495            251  Faraday Bag, Wisdompro RFID Signal Blocking Ba...   \n",
       "496            415  ZhinkArts Smartphone Necklace Case Compatible ...   \n",
       "...            ...                                                ...   \n",
       "4979            68  Dependable Lavalier Lapel Microphone, Dual Pro...   \n",
       "4980            73  Kapaxen ACK-E10 (UL Listed) AC Power Adapter K...   \n",
       "4981            74  Neewer Rubber-Coated Metal Camera Lens Filter ...   \n",
       "4982            75  ASOCEA 360 Degrees Rotation Suction Cup Mount+...   \n",
       "4983            72  CBUS 5ft HDMI to Mini HDMI Cable for Nikon D35...   \n",
       "\n",
       "      num_customers  \n",
       "491               7  \n",
       "492              19  \n",
       "494              45  \n",
       "495              48  \n",
       "496              46  \n",
       "...             ...  \n",
       "4979              1  \n",
       "4980              1  \n",
       "4981              1  \n",
       "4982              1  \n",
       "4983              1  \n",
       "\n",
       "[2042 rows x 9 columns]"
      ]
     },
     "execution_count": 630,
     "metadata": {},
     "output_type": "execute_result"
    }
   ],
   "source": [
    "product_sales[(product_sales['total_revenue']<12000) & (product_sales['num_customers']<50)]"
   ]
  },
  {
   "cell_type": "markdown",
   "metadata": {},
   "source": [
    "<h3> 12) Unregistered customers </h3>"
   ]
  },
  {
   "cell_type": "code",
   "execution_count": 662,
   "metadata": {},
   "outputs": [
    {
     "data": {
      "image/png": "[encoded data removed]",
      "text/plain": [
       "<Figure size 576x360 with 2 Axes>"
      ]
     },
     "metadata": {},
     "output_type": "display_data"
    }
   ],
   "source": [
    "registered_customers = merged_table[merged_table['customer_id']!= 'Null']['invoice_no'].nunique()\n",
    "unregistered_customers = merged_table[merged_table['customer_id']=='Null']['invoice_no'].nunique()\n",
    "\n",
    "fig, ax = plt.subplots(1,2, figsize = (8,5))\n",
    "fig.set_facecolor('white')\n",
    "fig.suptitle('Number of orders: \\nregistered vs unregistered customers')\n",
    "ax[0].pie([registered_customers, unregistered_customers], labels = ['registered', 'unregistered'],autopct='%1.1f%%')\n",
    "ax[1].bar(x = ['registered', 'unregistered'], height = [registered_customers, unregistered_customers])\n",
    "plt.tight_layout()\n",
    "plt.show()"
   ]
  },
  {
   "cell_type": "markdown",
   "metadata": {},
   "source": [
    "- Around 10% of all orders were by unregistered customers"
   ]
  },
  {
   "cell_type": "code",
   "execution_count": 663,
   "metadata": {},
   "outputs": [
    {
     "data": {
      "image/png": "[encoded data removed]",
      "text/plain": [
       "<Figure size 576x360 with 2 Axes>"
      ]
     },
     "metadata": {},
     "output_type": "display_data"
    }
   ],
   "source": [
    "total_rev = merged_table['total_sale'].sum()/1000000\n",
    "registered_rev = merged_table[merged_table['customer_id']!= 'Null']['total_sale'].sum()/1000000\n",
    "unregistered_rev = merged_table[merged_table['customer_id']== 'Null']['total_sale'].sum()/1000000\n",
    "\n",
    "\n",
    "fig, ax = plt.subplots(1,2, figsize = (8,5))\n",
    "fig.set_facecolor('white')\n",
    "fig.suptitle('Total revenue:\\n registered vs unregistered users')\n",
    "ax[0].pie([registered_rev, unregistered_rev], labels = ['registered', 'unregistered'],autopct='%1.1f%%')\n",
    "ax[1].bar(x = ['total', 'registered', 'unregistered'], height = [total_rev, registered_rev, unregistered_rev])\n",
    "ax[1].set_yticks(ticks = list(range(0,700, 50)))\n",
    "ax[1].set_yticklabels(labels = ['0', '50M', '100M', '150M', '200M', '250M', '300M', '350M', '400M', '450 M', '500M', '550M', '600M', '650M'])\n",
    "\n",
    "plt.tight_layout()\n",
    "plt.show()\n"
   ]
  },
  {
   "cell_type": "markdown",
   "metadata": {},
   "source": [
    "- Around 10% of all revenue also from unregistered customers"
   ]
  },
  {
   "cell_type": "markdown",
   "metadata": {},
   "source": [
    "<h3> 13) Purchase frequency </h3>"
   ]
  },
  {
   "cell_type": "code",
   "execution_count": 665,
   "metadata": {},
   "outputs": [
    {
     "data": {
      "text/html": [
       "<div>\n",
       "<style scoped>\n",
       "    .dataframe tbody tr th:only-of-type {\n",
       "        vertical-align: middle;\n",
       "    }\n",
       "\n",
       "    .dataframe tbody tr th {\n",
       "        vertical-align: top;\n",
       "    }\n",
       "\n",
       "    .dataframe thead th {\n",
       "        text-align: right;\n",
       "    }\n",
       "</style>\n",
       "<table border=\"1\" class=\"dataframe\">\n",
       "  <thead>\n",
       "    <tr style=\"text-align: right;\">\n",
       "      <th></th>\n",
       "      <th>invoice_no</th>\n",
       "      <th>product_id</th>\n",
       "      <th>quantity</th>\n",
       "      <th>unit_price</th>\n",
       "      <th>total_sale</th>\n",
       "      <th>customer_id</th>\n",
       "      <th>rating</th>\n",
       "      <th>review_count</th>\n",
       "      <th>country</th>\n",
       "      <th>product_name</th>\n",
       "      <th>product_type</th>\n",
       "      <th>stock_code</th>\n",
       "      <th>invoice_datetime</th>\n",
       "      <th>day_of_week</th>\n",
       "      <th>month</th>\n",
       "      <th>hour</th>\n",
       "      <th>year</th>\n",
       "      <th>quarter</th>\n",
       "      <th>invoice_date</th>\n",
       "    </tr>\n",
       "  </thead>\n",
       "  <tbody>\n",
       "    <tr>\n",
       "      <th>0</th>\n",
       "      <td>78536597</td>\n",
       "      <td>B07GWKDLGT</td>\n",
       "      <td>4</td>\n",
       "      <td>496.95</td>\n",
       "      <td>1987.80</td>\n",
       "      <td>18011</td>\n",
       "      <td>4.6</td>\n",
       "      <td>1399</td>\n",
       "      <td>Germany</td>\n",
       "      <td>Nikon D3500 W/ AF-P DX NIKKOR 18-55mm f/3.5-5....</td>\n",
       "      <td>dslr camera</td>\n",
       "      <td>21703</td>\n",
       "      <td>2018-12-01 17:00:00</td>\n",
       "      <td>5</td>\n",
       "      <td>12</td>\n",
       "      <td>17</td>\n",
       "      <td>2018</td>\n",
       "      <td>4</td>\n",
       "      <td>2018-12-01</td>\n",
       "    </tr>\n",
       "    <tr>\n",
       "      <th>1</th>\n",
       "      <td>78536597</td>\n",
       "      <td>B01MTLH408</td>\n",
       "      <td>4</td>\n",
       "      <td>39.99</td>\n",
       "      <td>159.96</td>\n",
       "      <td>18011</td>\n",
       "      <td>4.6</td>\n",
       "      <td>289</td>\n",
       "      <td>Germany</td>\n",
       "      <td>Manfrotto Element Aluminum 5-Section Monopod, ...</td>\n",
       "      <td>dslr camera</td>\n",
       "      <td>40001</td>\n",
       "      <td>2018-12-01 17:00:00</td>\n",
       "      <td>5</td>\n",
       "      <td>12</td>\n",
       "      <td>17</td>\n",
       "      <td>2018</td>\n",
       "      <td>4</td>\n",
       "      <td>2018-12-01</td>\n",
       "    </tr>\n",
       "  </tbody>\n",
       "</table>\n",
       "</div>"
      ],
      "text/plain": [
       "  invoice_no  product_id  quantity  unit_price  total_sale customer_id  \\\n",
       "0   78536597  B07GWKDLGT         4      496.95     1987.80       18011   \n",
       "1   78536597  B01MTLH408         4       39.99      159.96       18011   \n",
       "\n",
       "   rating  review_count  country  \\\n",
       "0     4.6          1399  Germany   \n",
       "1     4.6           289  Germany   \n",
       "\n",
       "                                        product_name product_type stock_code  \\\n",
       "0  Nikon D3500 W/ AF-P DX NIKKOR 18-55mm f/3.5-5....  dslr camera      21703   \n",
       "1  Manfrotto Element Aluminum 5-Section Monopod, ...  dslr camera      40001   \n",
       "\n",
       "     invoice_datetime  day_of_week  month  hour  year  quarter invoice_date  \n",
       "0 2018-12-01 17:00:00            5     12    17  2018        4   2018-12-01  \n",
       "1 2018-12-01 17:00:00            5     12    17  2018        4   2018-12-01  "
      ]
     },
     "execution_count": 665,
     "metadata": {},
     "output_type": "execute_result"
    }
   ],
   "source": [
    "merged_table.head(2)"
   ]
  },
  {
   "cell_type": "code",
   "execution_count": 695,
   "metadata": {},
   "outputs": [],
   "source": [
    "def purchase_frequency(time_period):\n",
    "    \"\"\"\n",
    "    Computes purchase frequency (number of orders / number of customers) for input period\n",
    "\n",
    "    Arguments: time_period (start_date, end_date)\n",
    "\n",
    "    Returns: purchase frequency\n",
    "    \"\"\"\n",
    "\n",
    "    start_date, end_date = time_period\n",
    "    \n",
    "    # List of unique customers\n",
    "    all_customers = merged_table[(merged_table['invoice_datetime']<= end_date)& (merged_table['customer_id']!= 'Null')]['customer_id'].unique().tolist()\n",
    "    \n",
    "    df_slice = merged_table[(merged_table['invoice_datetime']>= start_date) & (merged_table['invoice_datetime']<= end_date)]\n",
    "\n",
    "    # df with number of invoices per customer\n",
    "    num_orders_per_customer = df_slice[df_slice['customer_id'].isin(all_customers)].groupby('customer_id')['invoice_no'].nunique().reset_index().rename(columns = {'invoice_no':'num_invoices'})\n",
    "\n",
    "    # Number of customers\n",
    "    num_customers = len(all_customers)\n",
    "\n",
    "    # Total number of orders\n",
    "    total_num_orders = num_orders_per_customer['num_invoices'].sum()\n",
    "\n",
    "    # Purchase rate\n",
    "    purchase_rate1 = total_num_orders/num_customers\n",
    "    return purchase_rate1"
   ]
  },
  {
   "cell_type": "code",
   "execution_count": 710,
   "metadata": {},
   "outputs": [
    {
     "data": {
      "image/png": "[encoded data removed]",
      "text/plain": [
       "<Figure size 504x504 with 1 Axes>"
      ]
     },
     "metadata": {
      "needs_background": "light"
     },
     "output_type": "display_data"
    }
   ],
   "source": [
    "time_periods= [\n",
    "                ('2019-01-01', '2019-01-31'), ('2019-02-01', '2019-02-28'),\n",
    "                ('2019-03-01', '2019-03-31'), ('2019-04-01', '2019-04-30'), ('2019-05-01', '2019-05-31'),\n",
    "                ('2019-06-01', '2019-06-30'), ('2019-07-01', '2019-07-31'), ('2019-08-01', '2019-08-31'),\n",
    "                ('2019-09-01', '2019-09-30'), ('2019-10-01', '2019-10-31'), ('2019-11-01', '2019-11-30'),\n",
    "                ('2019-12-01', '2019-12-31')\n",
    "                ]\n",
    "\n",
    "purchase_frequencies = []\n",
    "\n",
    "for time_period in time_periods:\n",
    "    purchase_frequencies.append(purchase_frequency(time_period))\n",
    "\n",
    "months = ['2019-01','2019-02','2019-03','2019-04','2019-05','2019-06','2019-07','2019-08','2019-09','2019-10','2019-11','2019-12']\n",
    "\n",
    "fig, ax = plt.subplots(1,1, figsize = (7,7))\n",
    "\n",
    "ax.plot(months,  purchase_frequencies, marker = 'o', color = 'blue', label = 'purchase frequency in month')\n",
    "\n",
    "#ax.axvline(x = 10.1, color = 'black', linestyle = '--', label = 'complete data ends here')\n",
    "ax.axhline(y = 3.96, color = 'magenta', linestyle = '--', label = 'for entire year: 3.96')\n",
    "ax.axhline(y = 0.52, color = 'red', linestyle = '--', label = 'average over first 11 months: 0.52')\n",
    "\n",
    "ax.set_xticks(ticks = months)\n",
    "ax.set_xticklabels(labels = months, rotation = 45)\n",
    "\n",
    "ax.legend()\n",
    "ax.set_title('purchase frequency per month')\n",
    "\n",
    "plt.tight_layout()\n",
    "plt.show()\n",
    "\n"
   ]
  },
  {
   "cell_type": "code",
   "execution_count": 707,
   "metadata": {},
   "outputs": [
    {
     "data": {
      "text/plain": [
       "(3.957593915648767, 0.5174293819344148)"
      ]
     },
     "execution_count": 707,
     "metadata": {},
     "output_type": "execute_result"
    }
   ],
   "source": [
    "purchase_frequency(('2019-01-01', '2019-12-31')), sum(purchase_frequencies[:-1])/len(purchase_frequencies[:-1])"
   ]
  },
  {
   "cell_type": "code",
   "execution_count": 712,
   "metadata": {},
   "outputs": [
    {
     "data": {
      "text/plain": [
       "(0.7246489859594384, 0.38858695652173914)"
      ]
     },
     "execution_count": 712,
     "metadata": {},
     "output_type": "execute_result"
    }
   ],
   "source": [
    "max(purchase_frequencies), min (purchase_frequencies[:-1])"
   ]
  },
  {
   "cell_type": "markdown",
   "metadata": {},
   "source": [
    "<h3> Identify worst-selling products. Phase out of stock? </h3>"
   ]
  },
  {
   "cell_type": "markdown",
   "metadata": {},
   "source": [
    "<h3> Correlation with rating of top selling products </h3>"
   ]
  },
  {
   "cell_type": "markdown",
   "metadata": {},
   "source": [
    "<h3> Number of orders per country </h3>"
   ]
  },
  {
   "cell_type": "code",
   "execution_count": null,
   "metadata": {},
   "outputs": [
    {
     "data": {
      "text/html": [
       "<div>\n",
       "<style scoped>\n",
       "    .dataframe tbody tr th:only-of-type {\n",
       "        vertical-align: middle;\n",
       "    }\n",
       "\n",
       "    .dataframe tbody tr th {\n",
       "        vertical-align: top;\n",
       "    }\n",
       "\n",
       "    .dataframe thead th {\n",
       "        text-align: right;\n",
       "    }\n",
       "</style>\n",
       "<table border=\"1\" class=\"dataframe\">\n",
       "  <thead>\n",
       "    <tr style=\"text-align: right;\">\n",
       "      <th></th>\n",
       "      <th>country</th>\n",
       "      <th>invoice_no</th>\n",
       "    </tr>\n",
       "  </thead>\n",
       "  <tbody>\n",
       "    <tr>\n",
       "      <th>12</th>\n",
       "      <td>Germany</td>\n",
       "      <td>18709</td>\n",
       "    </tr>\n",
       "    <tr>\n",
       "      <th>34</th>\n",
       "      <td>United Kingdom</td>\n",
       "      <td>478</td>\n",
       "    </tr>\n",
       "    <tr>\n",
       "      <th>11</th>\n",
       "      <td>France</td>\n",
       "      <td>389</td>\n",
       "    </tr>\n",
       "    <tr>\n",
       "      <th>16</th>\n",
       "      <td>Ireland</td>\n",
       "      <td>288</td>\n",
       "    </tr>\n",
       "    <tr>\n",
       "      <th>3</th>\n",
       "      <td>Belgium</td>\n",
       "      <td>99</td>\n",
       "    </tr>\n",
       "    <tr>\n",
       "      <th>23</th>\n",
       "      <td>Netherlands</td>\n",
       "      <td>94</td>\n",
       "    </tr>\n",
       "    <tr>\n",
       "      <th>30</th>\n",
       "      <td>Spain</td>\n",
       "      <td>89</td>\n",
       "    </tr>\n",
       "    <tr>\n",
       "      <th>0</th>\n",
       "      <td>Australia</td>\n",
       "      <td>56</td>\n",
       "    </tr>\n",
       "    <tr>\n",
       "      <th>26</th>\n",
       "      <td>Portugal</td>\n",
       "      <td>56</td>\n",
       "    </tr>\n",
       "    <tr>\n",
       "      <th>32</th>\n",
       "      <td>Switzerland</td>\n",
       "      <td>50</td>\n",
       "    </tr>\n",
       "    <tr>\n",
       "      <th>10</th>\n",
       "      <td>Finland</td>\n",
       "      <td>41</td>\n",
       "    </tr>\n",
       "    <tr>\n",
       "      <th>18</th>\n",
       "      <td>Italy</td>\n",
       "      <td>35</td>\n",
       "    </tr>\n",
       "    <tr>\n",
       "      <th>31</th>\n",
       "      <td>Sweden</td>\n",
       "      <td>34</td>\n",
       "    </tr>\n",
       "    <tr>\n",
       "      <th>24</th>\n",
       "      <td>Norway</td>\n",
       "      <td>33</td>\n",
       "    </tr>\n",
       "    <tr>\n",
       "      <th>25</th>\n",
       "      <td>Poland</td>\n",
       "      <td>20</td>\n",
       "    </tr>\n",
       "    <tr>\n",
       "      <th>19</th>\n",
       "      <td>Japan</td>\n",
       "      <td>19</td>\n",
       "    </tr>\n",
       "    <tr>\n",
       "      <th>8</th>\n",
       "      <td>Denmark</td>\n",
       "      <td>18</td>\n",
       "    </tr>\n",
       "    <tr>\n",
       "      <th>1</th>\n",
       "      <td>Austria</td>\n",
       "      <td>17</td>\n",
       "    </tr>\n",
       "    <tr>\n",
       "      <th>6</th>\n",
       "      <td>Cyprus</td>\n",
       "      <td>15</td>\n",
       "    </tr>\n",
       "    <tr>\n",
       "      <th>36</th>\n",
       "      <td>Unknown</td>\n",
       "      <td>13</td>\n",
       "    </tr>\n",
       "    <tr>\n",
       "      <th>14</th>\n",
       "      <td>Hong Kong</td>\n",
       "      <td>10</td>\n",
       "    </tr>\n",
       "    <tr>\n",
       "      <th>17</th>\n",
       "      <td>Israel</td>\n",
       "      <td>8</td>\n",
       "    </tr>\n",
       "    <tr>\n",
       "      <th>28</th>\n",
       "      <td>Singapore</td>\n",
       "      <td>7</td>\n",
       "    </tr>\n",
       "    <tr>\n",
       "      <th>15</th>\n",
       "      <td>Iceland</td>\n",
       "      <td>7</td>\n",
       "    </tr>\n",
       "    <tr>\n",
       "      <th>5</th>\n",
       "      <td>Canada</td>\n",
       "      <td>5</td>\n",
       "    </tr>\n",
       "    <tr>\n",
       "      <th>22</th>\n",
       "      <td>Malta</td>\n",
       "      <td>5</td>\n",
       "    </tr>\n",
       "    <tr>\n",
       "      <th>35</th>\n",
       "      <td>United States</td>\n",
       "      <td>5</td>\n",
       "    </tr>\n",
       "    <tr>\n",
       "      <th>13</th>\n",
       "      <td>Greece</td>\n",
       "      <td>5</td>\n",
       "    </tr>\n",
       "    <tr>\n",
       "      <th>21</th>\n",
       "      <td>Lithuania</td>\n",
       "      <td>4</td>\n",
       "    </tr>\n",
       "    <tr>\n",
       "      <th>2</th>\n",
       "      <td>Bahrain</td>\n",
       "      <td>3</td>\n",
       "    </tr>\n",
       "    <tr>\n",
       "      <th>9</th>\n",
       "      <td>European Community</td>\n",
       "      <td>3</td>\n",
       "    </tr>\n",
       "    <tr>\n",
       "      <th>33</th>\n",
       "      <td>United Arab Emirates</td>\n",
       "      <td>2</td>\n",
       "    </tr>\n",
       "    <tr>\n",
       "      <th>7</th>\n",
       "      <td>Czech Republic</td>\n",
       "      <td>2</td>\n",
       "    </tr>\n",
       "    <tr>\n",
       "      <th>29</th>\n",
       "      <td>South Africa</td>\n",
       "      <td>1</td>\n",
       "    </tr>\n",
       "    <tr>\n",
       "      <th>4</th>\n",
       "      <td>Brazil</td>\n",
       "      <td>1</td>\n",
       "    </tr>\n",
       "    <tr>\n",
       "      <th>27</th>\n",
       "      <td>Saudi Arabia</td>\n",
       "      <td>1</td>\n",
       "    </tr>\n",
       "    <tr>\n",
       "      <th>20</th>\n",
       "      <td>Lebanon</td>\n",
       "      <td>1</td>\n",
       "    </tr>\n",
       "  </tbody>\n",
       "</table>\n",
       "</div>"
      ],
      "text/plain": [
       "                 country  invoice_no\n",
       "12               Germany       18709\n",
       "34        United Kingdom         478\n",
       "11                France         389\n",
       "16               Ireland         288\n",
       "3                Belgium          99\n",
       "23           Netherlands          94\n",
       "30                 Spain          89\n",
       "0              Australia          56\n",
       "26              Portugal          56\n",
       "32           Switzerland          50\n",
       "10               Finland          41\n",
       "18                 Italy          35\n",
       "31                Sweden          34\n",
       "24                Norway          33\n",
       "25                Poland          20\n",
       "19                 Japan          19\n",
       "8                Denmark          18\n",
       "1                Austria          17\n",
       "6                 Cyprus          15\n",
       "36               Unknown          13\n",
       "14             Hong Kong          10\n",
       "17                Israel           8\n",
       "28             Singapore           7\n",
       "15               Iceland           7\n",
       "5                 Canada           5\n",
       "22                 Malta           5\n",
       "35         United States           5\n",
       "13                Greece           5\n",
       "21             Lithuania           4\n",
       "2                Bahrain           3\n",
       "9     European Community           3\n",
       "33  United Arab Emirates           2\n",
       "7         Czech Republic           2\n",
       "29          South Africa           1\n",
       "4                 Brazil           1\n",
       "27          Saudi Arabia           1\n",
       "20               Lebanon           1"
      ]
     },
     "execution_count": 21,
     "metadata": {},
     "output_type": "execute_result"
    }
   ],
   "source": [
    "merged_table.groupby('country')['invoice_no'].nunique().reset_index().sort_values(by = 'invoice_no', ascending = False)"
   ]
  },
  {
   "cell_type": "code",
   "execution_count": null,
   "metadata": {},
   "outputs": [],
   "source": []
  }
 ],
 "metadata": {
  "kernelspec": {
   "display_name": "Python 3.9.7 ('base')",
   "language": "python",
   "name": "python3"
  },
  "language_info": {
   "codemirror_mode": {
    "name": "ipython",
    "version": 3
   },
   "file_extension": ".py",
   "mimetype": "text/x-python",
   "name": "python",
   "nbconvert_exporter": "python",
   "pygments_lexer": "ipython3",
   "version": "3.9.7"
  },
  "orig_nbformat": 4,
  "vscode": {
   "interpreter": {
    "hash": "40d3a090f54c6569ab1632332b64b2c03c39dcf918b08424e98f38b5ae0af88f"
   }
  }
 },
 "nbformat": 4,
 "nbformat_minor": 2
}
