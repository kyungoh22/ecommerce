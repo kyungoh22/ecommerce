{
 "cells": [
  {
   "cell_type": "code",
   "execution_count": 108,
   "metadata": {},
   "outputs": [],
   "source": [
    "import numpy as np \n",
    "import pandas as pd \n",
    "import matplotlib.pyplot as plt\n",
    "import seaborn as sns\n",
    "from datetime import datetime"
   ]
  },
  {
   "cell_type": "code",
   "execution_count": 2,
   "metadata": {},
   "outputs": [
    {
     "name": "stderr",
     "output_type": "stream",
     "text": [
      "/opt/anaconda3/lib/python3.9/site-packages/IPython/core/interactiveshell.py:3444: DtypeWarning: Columns (0) have mixed types.Specify dtype option on import or set low_memory=False.\n",
      "  exec(code_obj, self.user_global_ns, self.user_ns)\n"
     ]
    }
   ],
   "source": [
    "merged_table = pd.read_csv('merged_table', parse_dates = ['invoice_datetime'])"
   ]
  },
  {
   "cell_type": "code",
   "execution_count": 5,
   "metadata": {},
   "outputs": [
    {
     "name": "stdout",
     "output_type": "stream",
     "text": [
      "<class 'pandas.core.frame.DataFrame'>\n",
      "RangeIndex: 554417 entries, 0 to 554416\n",
      "Data columns (total 19 columns):\n",
      " #   Column            Non-Null Count   Dtype         \n",
      "---  ------            --------------   -----         \n",
      " 0   invoice_no        554417 non-null  object        \n",
      " 1   product_id        554417 non-null  object        \n",
      " 2   quantity          554417 non-null  int64         \n",
      " 3   unit_price        554417 non-null  float64       \n",
      " 4   total_sale        554417 non-null  float64       \n",
      " 5   customer_id       554417 non-null  object        \n",
      " 6   rating            554417 non-null  float64       \n",
      " 7   review_count      554417 non-null  int64         \n",
      " 8   country           554417 non-null  object        \n",
      " 9   product_name      554417 non-null  object        \n",
      " 10  product_type      554417 non-null  object        \n",
      " 11  stock_code        554417 non-null  object        \n",
      " 12  invoice_datetime  554417 non-null  datetime64[ns]\n",
      " 13  day_of_week       554417 non-null  int64         \n",
      " 14  month             554417 non-null  int64         \n",
      " 15  hour              554417 non-null  int64         \n",
      " 16  year              554417 non-null  int64         \n",
      " 17  quarter           554417 non-null  int64         \n",
      " 18  invoice_date      554417 non-null  object        \n",
      "dtypes: datetime64[ns](1), float64(3), int64(7), object(8)\n",
      "memory usage: 80.4+ MB\n"
     ]
    }
   ],
   "source": [
    "merged_table.info()"
   ]
  },
  {
   "cell_type": "code",
   "execution_count": 4,
   "metadata": {},
   "outputs": [
    {
     "data": {
      "text/html": [
       "<div>\n",
       "<style scoped>\n",
       "    .dataframe tbody tr th:only-of-type {\n",
       "        vertical-align: middle;\n",
       "    }\n",
       "\n",
       "    .dataframe tbody tr th {\n",
       "        vertical-align: top;\n",
       "    }\n",
       "\n",
       "    .dataframe thead th {\n",
       "        text-align: right;\n",
       "    }\n",
       "</style>\n",
       "<table border=\"1\" class=\"dataframe\">\n",
       "  <thead>\n",
       "    <tr style=\"text-align: right;\">\n",
       "      <th></th>\n",
       "      <th>invoice_no</th>\n",
       "      <th>product_id</th>\n",
       "      <th>quantity</th>\n",
       "      <th>unit_price</th>\n",
       "      <th>total_sale</th>\n",
       "      <th>customer_id</th>\n",
       "      <th>rating</th>\n",
       "      <th>review_count</th>\n",
       "      <th>country</th>\n",
       "      <th>product_name</th>\n",
       "      <th>product_type</th>\n",
       "      <th>stock_code</th>\n",
       "      <th>invoice_datetime</th>\n",
       "      <th>day_of_week</th>\n",
       "      <th>month</th>\n",
       "      <th>hour</th>\n",
       "      <th>year</th>\n",
       "      <th>quarter</th>\n",
       "      <th>invoice_date</th>\n",
       "    </tr>\n",
       "  </thead>\n",
       "  <tbody>\n",
       "    <tr>\n",
       "      <th>0</th>\n",
       "      <td>78536597</td>\n",
       "      <td>B07GWKDLGT</td>\n",
       "      <td>4</td>\n",
       "      <td>496.95</td>\n",
       "      <td>1987.80</td>\n",
       "      <td>18011</td>\n",
       "      <td>4.6</td>\n",
       "      <td>1399</td>\n",
       "      <td>Germany</td>\n",
       "      <td>Nikon D3500 W/ AF-P DX NIKKOR 18-55mm f/3.5-5....</td>\n",
       "      <td>dslr camera</td>\n",
       "      <td>21703</td>\n",
       "      <td>2018-12-01 17:00:00</td>\n",
       "      <td>5</td>\n",
       "      <td>12</td>\n",
       "      <td>17</td>\n",
       "      <td>2018</td>\n",
       "      <td>4</td>\n",
       "      <td>2018-12-01</td>\n",
       "    </tr>\n",
       "    <tr>\n",
       "      <th>1</th>\n",
       "      <td>78536597</td>\n",
       "      <td>B01MTLH408</td>\n",
       "      <td>4</td>\n",
       "      <td>39.99</td>\n",
       "      <td>159.96</td>\n",
       "      <td>18011</td>\n",
       "      <td>4.6</td>\n",
       "      <td>289</td>\n",
       "      <td>Germany</td>\n",
       "      <td>Manfrotto Element Aluminum 5-Section Monopod, ...</td>\n",
       "      <td>dslr camera</td>\n",
       "      <td>40001</td>\n",
       "      <td>2018-12-01 17:00:00</td>\n",
       "      <td>5</td>\n",
       "      <td>12</td>\n",
       "      <td>17</td>\n",
       "      <td>2018</td>\n",
       "      <td>4</td>\n",
       "      <td>2018-12-01</td>\n",
       "    </tr>\n",
       "  </tbody>\n",
       "</table>\n",
       "</div>"
      ],
      "text/plain": [
       "  invoice_no  product_id  quantity  unit_price  total_sale customer_id  \\\n",
       "0   78536597  B07GWKDLGT         4      496.95     1987.80       18011   \n",
       "1   78536597  B01MTLH408         4       39.99      159.96       18011   \n",
       "\n",
       "   rating  review_count  country  \\\n",
       "0     4.6          1399  Germany   \n",
       "1     4.6           289  Germany   \n",
       "\n",
       "                                        product_name product_type stock_code  \\\n",
       "0  Nikon D3500 W/ AF-P DX NIKKOR 18-55mm f/3.5-5....  dslr camera      21703   \n",
       "1  Manfrotto Element Aluminum 5-Section Monopod, ...  dslr camera      40001   \n",
       "\n",
       "     invoice_datetime  day_of_week  month  hour  year  quarter invoice_date  \n",
       "0 2018-12-01 17:00:00            5     12    17  2018        4   2018-12-01  \n",
       "1 2018-12-01 17:00:00            5     12    17  2018        4   2018-12-01  "
      ]
     },
     "execution_count": 4,
     "metadata": {},
     "output_type": "execute_result"
    }
   ],
   "source": [
    "merged_table.head(2)"
   ]
  },
  {
   "cell_type": "markdown",
   "metadata": {},
   "source": [
    "<h3> Function for computing returning customer rate </h3>"
   ]
  },
  {
   "cell_type": "code",
   "execution_count": 22,
   "metadata": {},
   "outputs": [],
   "source": [
    "def returning_customer_rate(time_period):\n",
    "    \"\"\"\n",
    "    Compute returning customer rate\n",
    "\n",
    "    Arguments:\n",
    "    \n",
    "    time_period -- (start_date ('yyyy-mm-dd'), end_date('yyyy-mm-dd'))\n",
    "\n",
    "    Returns:\n",
    "\n",
    "    more_than_one, at_least_one, more_than_one/at_least_one \n",
    "    (# customers making more than one order, # customers making at least one order, ratio between the two)\n",
    "\n",
    "    \n",
    "    \"\"\"\n",
    "\n",
    "    start_date, end_date = time_period\n",
    "    \n",
    "    # slice dataframe within time_period\n",
    "    df_slice = merged_table[(merged_table['invoice_date']>=start_date) & (merged_table['invoice_date']<=end_date)]\n",
    "    \n",
    "    # for each customer_id, count number of unique orders (invoice_no)\n",
    "    df_slice_agg = df_slice.groupby('customer_id')['invoice_no'].count().reset_index().rename(columns = {'invoice_no': 'num_orders'})\n",
    "    \n",
    "    # Count number of customers with more than one order, and at least one order, respectively\n",
    "    more_than_one = df_slice_agg[df_slice_agg['num_orders'] > 1]['customer_id'].count()\n",
    "    at_least_one = df_slice_agg[df_slice_agg['num_orders'] >= 1]['customer_id'].count()\n",
    "\n",
    "    return more_than_one, at_least_one, (more_than_one/at_least_one).round(2)\n",
    "    "
   ]
  },
  {
   "cell_type": "code",
   "execution_count": 30,
   "metadata": {},
   "outputs": [],
   "source": [
    "# compute returning_customer_rate for each month: \n",
    "time_periods= [('2018-12', '2019-01-31'),\n",
    "                ('2018-12', '2019-02-31'),\n",
    "                ('2018-12', '2019-03-31'),\n",
    "                ('2018-12', '2019-04-31'),\n",
    "                ('2018-12', '2019-05-31'),\n",
    "                ('2018-12', '2019-06-31'),\n",
    "                ('2018-12', '2019-07-31'),\n",
    "                ('2018-12', '2019-08-31'),\n",
    "                ('2018-12', '2019-09-31'),\n",
    "                ('2018-12', '2019-10-31'),\n",
    "                ('2018-12', '2019-11-31'),\n",
    "                ('2018-12', '2019-12-31')\n",
    "                ]\n",
    "\n",
    "return_rates = []\n",
    "for time_period in time_periods:\n",
    "    return_rates.append((returning_customer_rate(time_period))[2])"
   ]
  },
  {
   "cell_type": "code",
   "execution_count": 26,
   "metadata": {},
   "outputs": [
    {
     "name": "stdout",
     "output_type": "stream",
     "text": [
      "[0.97, 0.96, 0.97, 0.97, 0.97, 0.97, 0.97, 0.97, 0.98, 0.98, 0.98, 0.97]\n"
     ]
    }
   ],
   "source": [
    "print(return_rates)"
   ]
  },
  {
   "cell_type": "markdown",
   "metadata": {},
   "source": [
    "Right. So the returning_customer_rate stays super high for all months. It appears almost all customers are repeat customers."
   ]
  },
  {
   "cell_type": "markdown",
   "metadata": {},
   "source": [
    "<h3> Function for computing number of new customers </h3>"
   ]
  },
  {
   "cell_type": "code",
   "execution_count": 61,
   "metadata": {},
   "outputs": [],
   "source": [
    "def num_new_customers(time_period):\n",
    "    \"\"\"\n",
    "    Compute number of new customers within time_period\n",
    "\n",
    "    Arguments:\n",
    "    \n",
    "    time_period -- (start_date ('yyyy-mm-dd'), end_date('yyyy-mm-dd'))\n",
    "\n",
    "    Returns:\n",
    "\n",
    "    num_new_customers\n",
    "    \n",
    "    \"\"\"\n",
    "    start_date, end_date = time_period\n",
    "    \n",
    "    # existing customers before start_date:\n",
    "    existing = merged_table[merged_table['invoice_date'] < start_date]['customer_id'].unique().tolist()\n",
    "\n",
    "    # customers within time period\n",
    "    df_slice = merged_table[(merged_table['invoice_date']>=start_date) & (merged_table['invoice_date']<=end_date)]['customer_id'].unique().tolist()\n",
    "\n",
    "    new_customers = set(df_slice) - set(existing)\n",
    "    len(new_customers)\n",
    "\n",
    "    return len(new_customers)\n",
    "\n",
    "    "
   ]
  },
  {
   "cell_type": "code",
   "execution_count": 65,
   "metadata": {},
   "outputs": [
    {
     "data": {
      "text/plain": [
       "[886, 417, 380, 452, 300, 284, 242, 188, 169, 299, 358, 324, 41]"
      ]
     },
     "execution_count": 65,
     "metadata": {},
     "output_type": "execute_result"
    }
   ],
   "source": [
    "# compute number of new customers for each month: \n",
    "time_periods= [\n",
    "                ('2018-12-01', '2018-12-31'),\n",
    "                ('2019-01-01', '2019-01-31'),\n",
    "                ('2019-02-01', '2019-02-31'),\n",
    "                ('2019-03-01', '2019-03-31'),\n",
    "                ('2019-04-01', '2019-04-31'),\n",
    "                ('2019-05-01', '2019-05-31'),\n",
    "                ('2019-06-01', '2019-06-31'),\n",
    "                ('2019-07-01', '2019-07-31'),\n",
    "                ('2019-08-01', '2019-08-31'),\n",
    "                ('2019-09-01', '2019-09-31'),\n",
    "                ('2019-10-01', '2019-10-31'),\n",
    "                ('2019-11-01', '2019-11-31'),\n",
    "                ('2019-12-01', '2019-12-31')\n",
    "                ]\n",
    "\n",
    "months = ['2018-12','2019-01','2019-02','2019-03','2019-04','2019-05','2019-06','2019-07','2019-08','2019-09','2019-10','2019-11','2019-12']\n",
    "\n",
    "\n",
    "new_customer_counts = []\n",
    "for time_period in time_periods:\n",
    "    new_customer_counts.append(num_new_customers(time_period))\n",
    "\n",
    "new_customer_counts\n"
   ]
  },
  {
   "cell_type": "code",
   "execution_count": 70,
   "metadata": {},
   "outputs": [
    {
     "data": {
      "image/png": "[encoded data removed]",
      "text/plain": [
       "<Figure size 432x288 with 1 Axes>"
      ]
     },
     "metadata": {
      "needs_background": "light"
     },
     "output_type": "display_data"
    }
   ],
   "source": [
    "plt.bar(months, new_customer_counts)\n",
    "plt.xticks(rotation = 90)\n",
    "plt.title('Number of new customers per month')\n",
    "plt.show()"
   ]
  },
  {
   "cell_type": "markdown",
   "metadata": {},
   "source": [
    "<h3> Function for computing number of idle customers </h3>"
   ]
  },
  {
   "cell_type": "code",
   "execution_count": 83,
   "metadata": {},
   "outputs": [],
   "source": [
    "def idle_customers(time_period):\n",
    "    \"\"\"\n",
    "    Compute number of idle customers within time_period\n",
    "\n",
    "    Arguments:\n",
    "    \n",
    "    time_period -- (start_date ('yyyy-mm-dd'), end_date('yyyy-mm-dd'))\n",
    "\n",
    "    Returns:\n",
    "\n",
    "    num_idle_customers, num_all_customers, num_idle_customers/num_all_customers\n",
    "    \n",
    "    \"\"\"\n",
    "    start_date, end_date = time_period\n",
    "\n",
    "    # Customers who made a purchase within time_period\n",
    "    purchasers = merged_table[(merged_table['invoice_date'] >= start_date) & (merged_table['invoice_date'] <= end_date)]['customer_id'].unique().tolist()\n",
    "\n",
    "    # All existing customers within time_period\n",
    "    existing = merged_table[(merged_table['invoice_date'] < end_date)]['customer_id'].unique().tolist()\n",
    "\n",
    "    num_idle_customers = len(set(existing)) - len (set(purchasers))\n",
    "    num_all_customers = len(set(existing))\n",
    "\n",
    "    return num_idle_customers, num_all_customers, num_idle_customers / num_all_customers\n"
   ]
  },
  {
   "cell_type": "code",
   "execution_count": 92,
   "metadata": {},
   "outputs": [
    {
     "data": {
      "image/png": "[encoded data removed]",
      "text/plain": [
       "<Figure size 432x288 with 1 Axes>"
      ]
     },
     "metadata": {
      "needs_background": "light"
     },
     "output_type": "display_data"
    }
   ],
   "source": [
    "time_periods= [\n",
    "                ('2018-12-01', '2018-12-31'),\n",
    "                ('2019-01-01', '2019-01-31'),\n",
    "                ('2019-02-01', '2019-02-31'),\n",
    "                ('2019-03-01', '2019-03-31'),\n",
    "                ('2019-04-01', '2019-04-31'),\n",
    "                ('2019-05-01', '2019-05-31'),\n",
    "                ('2019-06-01', '2019-06-31'),\n",
    "                ('2019-07-01', '2019-07-31'),\n",
    "                ('2019-08-01', '2019-08-31'),\n",
    "                ('2019-09-01', '2019-09-31'),\n",
    "                ('2019-10-01', '2019-10-31'),\n",
    "                ('2019-11-01', '2019-11-31'),\n",
    "                ('2019-12-01', '2019-12-31')\n",
    "                ]\n",
    "\n",
    "idle_customer_rates = []\n",
    "for time_period in time_periods:\n",
    "    idle_customer_rates.append(idle_customers(time_period)[2])\n",
    "\n",
    "months = ['2018-12','2019-01','2019-02','2019-03','2019-04','2019-05','2019-06','2019-07','2019-08','2019-09','2019-10','2019-11','2019-12']\n",
    "\n",
    "plt.bar(x = months, height = idle_customer_rates)\n",
    "plt.xticks(rotation = 90)\n",
    "plt.title('idle customer rate per month')\n",
    "plt.show()"
   ]
  },
  {
   "cell_type": "markdown",
   "metadata": {},
   "source": [
    "<h3> Function for computing purchase rate (# orders per day within time period) </h3>"
   ]
  },
  {
   "cell_type": "code",
   "execution_count": 117,
   "metadata": {},
   "outputs": [],
   "source": [
    "def purchase_rate(time_period):\n",
    "\n",
    "    \"\"\"\n",
    "    Compute number of idle customers within time_period\n",
    "\n",
    "    Arguments:\n",
    "    \n",
    "    time_period -- (start_date ('yyyy-mm-dd'), end_date('yyyy-mm-dd'))\n",
    "\n",
    "    Returns:\n",
    "\n",
    "    purchase_rate (num_orders / num_days)\n",
    "    \n",
    "    \"\"\"\n",
    "\n",
    "    start_date, end_date = time_period\n",
    "\n",
    "    temp_df = merged_table[(merged_table['invoice_date']>= start_date) & (merged_table['invoice_date']<= end_date)]\n",
    "    num_invoices = len(temp_df['invoice_no'].unique())\n",
    "    num_days = (datetime.strptime(end_date,'%Y-%m-%d') - datetime.strptime(start_date,'%Y-%m-%d')).days\n",
    "    num_days\n",
    "    purchase_rate = num_invoices/num_days\n",
    "    return round(purchase_rate,2)\n",
    "    "
   ]
  },
  {
   "cell_type": "code",
   "execution_count": 119,
   "metadata": {},
   "outputs": [
    {
     "data": {
      "image/png": "[encoded data removed]",
      "text/plain": [
       "<Figure size 432x288 with 1 Axes>"
      ]
     },
     "metadata": {
      "needs_background": "light"
     },
     "output_type": "display_data"
    }
   ],
   "source": [
    "time_periods= [\n",
    "                ('2018-12-01', '2018-12-31'),\n",
    "                ('2019-01-01', '2019-01-31'),\n",
    "                ('2019-02-01', '2019-02-28'),\n",
    "                ('2019-03-01', '2019-03-31'),\n",
    "                ('2019-04-01', '2019-04-30'),\n",
    "                ('2019-05-01', '2019-05-31'),\n",
    "                ('2019-06-01', '2019-06-30'),\n",
    "                ('2019-07-01', '2019-07-31'),\n",
    "                ('2019-08-01', '2019-08-31'),\n",
    "                ('2019-09-01', '2019-09-30'),\n",
    "                ('2019-10-01', '2019-10-31'),\n",
    "                ('2019-11-01', '2019-11-30'),\n",
    "                ('2019-12-01', '2019-12-31')\n",
    "                ]\n",
    "\n",
    "purchase_rates = []\n",
    "for time_period in time_periods:\n",
    "    purchase_rates.append(purchase_rate(time_period))\n",
    "\n",
    "months = ['2018-12','2019-01','2019-02','2019-03','2019-04','2019-05','2019-06','2019-07','2019-08','2019-09','2019-10','2019-11','2019-12']\n",
    "\n",
    "plt.bar(x = months, height = purchase_rates)\n",
    "plt.xticks(rotation = 90)\n",
    "plt.title('average purchase rate (number of orders per day) per month')\n",
    "plt.show()"
   ]
  },
  {
   "cell_type": "markdown",
   "metadata": {},
   "source": [
    "<h3> Average revenue per day (revenue per day within time period) </h3>"
   ]
  },
  {
   "cell_type": "code",
   "execution_count": 128,
   "metadata": {},
   "outputs": [],
   "source": [
    "def average_revenue(time_period):\n",
    "\n",
    "    \"\"\"\n",
    "    Compute average revenue per day within time_period\n",
    "\n",
    "    Arguments:\n",
    "    \n",
    "    time_period -- (start_date ('yyyy-mm-dd'), end_date('yyyy-mm-dd'))\n",
    "\n",
    "    Returns:\n",
    "\n",
    "    average_revenue\n",
    "    \n",
    "    \"\"\"\n",
    "\n",
    "    start_date, end_date = time_period\n",
    "\n",
    "    total_revenue = merged_table [(merged_table['invoice_date']>= start_date) & (merged_table['invoice_date']<= end_date)]['total_sale'].sum()\n",
    "    num_days = (datetime.strptime(end_date,'%Y-%m-%d') - datetime.strptime(start_date,'%Y-%m-%d')).days\n",
    "    average_revenue = total_revenue/num_days\n",
    "    return average_revenue\n",
    "    "
   ]
  },
  {
   "cell_type": "code",
   "execution_count": 131,
   "metadata": {},
   "outputs": [
    {
     "data": {
      "image/png": "[encoded data removed]",
      "text/plain": [
       "<Figure size 432x288 with 1 Axes>"
      ]
     },
     "metadata": {
      "needs_background": "light"
     },
     "output_type": "display_data"
    }
   ],
   "source": [
    "time_periods= [\n",
    "                ('2018-12-01', '2018-12-31'),\n",
    "                ('2019-01-01', '2019-01-31'),\n",
    "                ('2019-02-01', '2019-02-28'),\n",
    "                ('2019-03-01', '2019-03-31'),\n",
    "                ('2019-04-01', '2019-04-30'),\n",
    "                ('2019-05-01', '2019-05-31'),\n",
    "                ('2019-06-01', '2019-06-30'),\n",
    "                ('2019-07-01', '2019-07-31'),\n",
    "                ('2019-08-01', '2019-08-31'),\n",
    "                ('2019-09-01', '2019-09-30'),\n",
    "                ('2019-10-01', '2019-10-31'),\n",
    "                ('2019-11-01', '2019-11-30'),\n",
    "                ('2019-12-01', '2019-12-31')\n",
    "                ]\n",
    "\n",
    "average_revenues = []\n",
    "for time_period in time_periods:\n",
    "    average_revenues.append(average_revenue(time_period))\n",
    "\n",
    "months = ['2018-12','2019-01','2019-02','2019-03','2019-04','2019-05','2019-06','2019-07','2019-08','2019-09','2019-10','2019-11','2019-12']\n",
    "\n",
    "plt.bar(x = months, height = average_revenues)\n",
    "plt.xticks(rotation = 90)\n",
    "plt.title('average revenue per day per month')\n",
    "plt.show()\n"
   ]
  },
  {
   "cell_type": "code",
   "execution_count": null,
   "metadata": {},
   "outputs": [],
   "source": []
  }
 ],
 "metadata": {
  "kernelspec": {
   "display_name": "Python 3.9.7 ('base')",
   "language": "python",
   "name": "python3"
  },
  "language_info": {
   "codemirror_mode": {
    "name": "ipython",
    "version": 3
   },
   "file_extension": ".py",
   "mimetype": "text/x-python",
   "name": "python",
   "nbconvert_exporter": "python",
   "pygments_lexer": "ipython3",
   "version": "3.9.7"
  },
  "orig_nbformat": 4,
  "vscode": {
   "interpreter": {
    "hash": "40d3a090f54c6569ab1632332b64b2c03c39dcf918b08424e98f38b5ae0af88f"
   }
  }
 },
 "nbformat": 4,
 "nbformat_minor": 2
}
