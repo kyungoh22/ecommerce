{
 "cells": [
  {
   "cell_type": "code",
   "execution_count": 315,
   "metadata": {},
   "outputs": [],
   "source": [
    "import numpy as np \n",
    "import pandas as pd \n",
    "import matplotlib.pyplot as plt\n",
    "import seaborn as sns\n",
    "from datetime import datetime"
   ]
  },
  {
   "cell_type": "code",
   "execution_count": 2,
   "metadata": {},
   "outputs": [
    {
     "name": "stderr",
     "output_type": "stream",
     "text": [
      "/opt/anaconda3/lib/python3.9/site-packages/IPython/core/interactiveshell.py:3444: DtypeWarning: Columns (0) have mixed types.Specify dtype option on import or set low_memory=False.\n",
      "  exec(code_obj, self.user_global_ns, self.user_ns)\n"
     ]
    }
   ],
   "source": [
    "merged_table = pd.read_csv('merged_table', parse_dates = ['invoice_datetime'])"
   ]
  },
  {
   "cell_type": "code",
   "execution_count": 3,
   "metadata": {},
   "outputs": [
    {
     "name": "stdout",
     "output_type": "stream",
     "text": [
      "<class 'pandas.core.frame.DataFrame'>\n",
      "RangeIndex: 554417 entries, 0 to 554416\n",
      "Data columns (total 19 columns):\n",
      " #   Column            Non-Null Count   Dtype         \n",
      "---  ------            --------------   -----         \n",
      " 0   invoice_no        554417 non-null  object        \n",
      " 1   product_id        554417 non-null  object        \n",
      " 2   quantity          554417 non-null  int64         \n",
      " 3   unit_price        554417 non-null  float64       \n",
      " 4   total_sale        554417 non-null  float64       \n",
      " 5   customer_id       554417 non-null  object        \n",
      " 6   rating            554417 non-null  float64       \n",
      " 7   review_count      554417 non-null  int64         \n",
      " 8   country           554417 non-null  object        \n",
      " 9   product_name      554417 non-null  object        \n",
      " 10  product_type      554417 non-null  object        \n",
      " 11  stock_code        554417 non-null  object        \n",
      " 12  invoice_datetime  554417 non-null  datetime64[ns]\n",
      " 13  day_of_week       554417 non-null  int64         \n",
      " 14  month             554417 non-null  int64         \n",
      " 15  hour              554417 non-null  int64         \n",
      " 16  year              554417 non-null  int64         \n",
      " 17  quarter           554417 non-null  int64         \n",
      " 18  invoice_date      554417 non-null  object        \n",
      "dtypes: datetime64[ns](1), float64(3), int64(7), object(8)\n",
      "memory usage: 80.4+ MB\n"
     ]
    }
   ],
   "source": [
    "merged_table.info()"
   ]
  },
  {
   "cell_type": "code",
   "execution_count": 4,
   "metadata": {},
   "outputs": [
    {
     "data": {
      "text/html": [
       "<div>\n",
       "<style scoped>\n",
       "    .dataframe tbody tr th:only-of-type {\n",
       "        vertical-align: middle;\n",
       "    }\n",
       "\n",
       "    .dataframe tbody tr th {\n",
       "        vertical-align: top;\n",
       "    }\n",
       "\n",
       "    .dataframe thead th {\n",
       "        text-align: right;\n",
       "    }\n",
       "</style>\n",
       "<table border=\"1\" class=\"dataframe\">\n",
       "  <thead>\n",
       "    <tr style=\"text-align: right;\">\n",
       "      <th></th>\n",
       "      <th>invoice_no</th>\n",
       "      <th>product_id</th>\n",
       "      <th>quantity</th>\n",
       "      <th>unit_price</th>\n",
       "      <th>total_sale</th>\n",
       "      <th>customer_id</th>\n",
       "      <th>rating</th>\n",
       "      <th>review_count</th>\n",
       "      <th>country</th>\n",
       "      <th>product_name</th>\n",
       "      <th>product_type</th>\n",
       "      <th>stock_code</th>\n",
       "      <th>invoice_datetime</th>\n",
       "      <th>day_of_week</th>\n",
       "      <th>month</th>\n",
       "      <th>hour</th>\n",
       "      <th>year</th>\n",
       "      <th>quarter</th>\n",
       "      <th>invoice_date</th>\n",
       "    </tr>\n",
       "  </thead>\n",
       "  <tbody>\n",
       "    <tr>\n",
       "      <th>0</th>\n",
       "      <td>78536597</td>\n",
       "      <td>B07GWKDLGT</td>\n",
       "      <td>4</td>\n",
       "      <td>496.95</td>\n",
       "      <td>1987.80</td>\n",
       "      <td>18011</td>\n",
       "      <td>4.6</td>\n",
       "      <td>1399</td>\n",
       "      <td>Germany</td>\n",
       "      <td>Nikon D3500 W/ AF-P DX NIKKOR 18-55mm f/3.5-5....</td>\n",
       "      <td>dslr camera</td>\n",
       "      <td>21703</td>\n",
       "      <td>2018-12-01 17:00:00</td>\n",
       "      <td>5</td>\n",
       "      <td>12</td>\n",
       "      <td>17</td>\n",
       "      <td>2018</td>\n",
       "      <td>4</td>\n",
       "      <td>2018-12-01</td>\n",
       "    </tr>\n",
       "    <tr>\n",
       "      <th>1</th>\n",
       "      <td>78536597</td>\n",
       "      <td>B01MTLH408</td>\n",
       "      <td>4</td>\n",
       "      <td>39.99</td>\n",
       "      <td>159.96</td>\n",
       "      <td>18011</td>\n",
       "      <td>4.6</td>\n",
       "      <td>289</td>\n",
       "      <td>Germany</td>\n",
       "      <td>Manfrotto Element Aluminum 5-Section Monopod, ...</td>\n",
       "      <td>dslr camera</td>\n",
       "      <td>40001</td>\n",
       "      <td>2018-12-01 17:00:00</td>\n",
       "      <td>5</td>\n",
       "      <td>12</td>\n",
       "      <td>17</td>\n",
       "      <td>2018</td>\n",
       "      <td>4</td>\n",
       "      <td>2018-12-01</td>\n",
       "    </tr>\n",
       "  </tbody>\n",
       "</table>\n",
       "</div>"
      ],
      "text/plain": [
       "  invoice_no  product_id  quantity  unit_price  total_sale customer_id  \\\n",
       "0   78536597  B07GWKDLGT         4      496.95     1987.80       18011   \n",
       "1   78536597  B01MTLH408         4       39.99      159.96       18011   \n",
       "\n",
       "   rating  review_count  country  \\\n",
       "0     4.6          1399  Germany   \n",
       "1     4.6           289  Germany   \n",
       "\n",
       "                                        product_name product_type stock_code  \\\n",
       "0  Nikon D3500 W/ AF-P DX NIKKOR 18-55mm f/3.5-5....  dslr camera      21703   \n",
       "1  Manfrotto Element Aluminum 5-Section Monopod, ...  dslr camera      40001   \n",
       "\n",
       "     invoice_datetime  day_of_week  month  hour  year  quarter invoice_date  \n",
       "0 2018-12-01 17:00:00            5     12    17  2018        4   2018-12-01  \n",
       "1 2018-12-01 17:00:00            5     12    17  2018        4   2018-12-01  "
      ]
     },
     "execution_count": 4,
     "metadata": {},
     "output_type": "execute_result"
    }
   ],
   "source": [
    "merged_table.head(2)"
   ]
  },
  {
   "cell_type": "markdown",
   "metadata": {},
   "source": [
    "<h3> Function for computing returning customer rate </h3>"
   ]
  },
  {
   "cell_type": "code",
   "execution_count": 283,
   "metadata": {},
   "outputs": [],
   "source": [
    "def returning_customer_rate(measure_date):\n",
    "    \"\"\"\n",
    "    Compute returning customer rate\n",
    "\n",
    "    Arguments:\n",
    "    date of measurement \n",
    "\n",
    "    Returns:\n",
    "    (# customers making more than one order, total # customers, ratio between the two)\n",
    "    \"\"\"\n",
    "    \n",
    "    # slice dataframe within time_period\n",
    "    df_slice = merged_table[(merged_table['invoice_date']<= measure_date)]\n",
    "    \n",
    "    # for each customer_id, count number of unique orders (invoice_no)\n",
    "    df_slice_agg = df_slice.groupby('customer_id')['invoice_no'].nunique().reset_index().rename(columns = {'invoice_no': 'num_orders'})\n",
    "    \n",
    "    # Count number of customers with more than one order, and at least one order, respectively\n",
    "    more_than_one = df_slice_agg[df_slice_agg['num_orders'] > 2]['customer_id'].nunique()\n",
    "    at_least_one = df_slice_agg[df_slice_agg['num_orders'] >= 1]['customer_id'].nunique()\n",
    "\n",
    "    return more_than_one, at_least_one, round(100*more_than_one/at_least_one,2)\n",
    "    "
   ]
  },
  {
   "cell_type": "code",
   "execution_count": 284,
   "metadata": {},
   "outputs": [],
   "source": [
    "# compute returning_customer_rate for each month: \n",
    "measure_dates= ['2019-01-01', '2019-02-01','2019-03-01','2019-04-01','2019-05-01','2019-06-01','2019-07-01','2019-08-01',\n",
    "                '2019-09-01','2019-10-01','2019-11-01','2019-12-01']\n",
    "\n",
    "return_customers = []\n",
    "total_num_customers = []\n",
    "return_rates = []\n",
    "for date in measure_dates:\n",
    "    return_customers.append((returning_customer_rate(date))[0])\n",
    "    total_num_customers.append((returning_customer_rate(date))[1])\n",
    "    return_rates.append((returning_customer_rate(date))[2])"
   ]
  },
  {
   "cell_type": "code",
   "execution_count": 285,
   "metadata": {},
   "outputs": [
    {
     "name": "stdout",
     "output_type": "stream",
     "text": [
      "[94, 234, 368, 515, 629, 833, 989, 1156, 1302, 1485, 1686, 1963]\n"
     ]
    }
   ],
   "source": [
    "print(return_customers)"
   ]
  },
  {
   "cell_type": "code",
   "execution_count": 286,
   "metadata": {},
   "outputs": [
    {
     "name": "stdout",
     "output_type": "stream",
     "text": [
      "[886, 1333, 1704, 2151, 2439, 2726, 2966, 3158, 3325, 3617, 3986, 4302]\n"
     ]
    }
   ],
   "source": [
    "print(total_num_customers)"
   ]
  },
  {
   "cell_type": "code",
   "execution_count": 287,
   "metadata": {},
   "outputs": [
    {
     "name": "stdout",
     "output_type": "stream",
     "text": [
      "[10.61, 17.55, 21.6, 23.94, 25.79, 30.56, 33.34, 36.61, 39.16, 41.06, 42.3, 45.63]\n"
     ]
    }
   ],
   "source": [
    "print(return_rates)"
   ]
  },
  {
   "cell_type": "markdown",
   "metadata": {},
   "source": [
    "Tiny percentage in the early months means a large number of customers joined / made their first purchase <br> \n",
    "when they first joined in Dec 2018, and very few of them purchased again. "
   ]
  },
  {
   "cell_type": "code",
   "execution_count": 250,
   "metadata": {},
   "outputs": [
    {
     "data": {
      "text/html": [
       "<div>\n",
       "<style scoped>\n",
       "    .dataframe tbody tr th:only-of-type {\n",
       "        vertical-align: middle;\n",
       "    }\n",
       "\n",
       "    .dataframe tbody tr th {\n",
       "        vertical-align: top;\n",
       "    }\n",
       "\n",
       "    .dataframe thead th {\n",
       "        text-align: right;\n",
       "    }\n",
       "</style>\n",
       "<table border=\"1\" class=\"dataframe\">\n",
       "  <thead>\n",
       "    <tr style=\"text-align: right;\">\n",
       "      <th></th>\n",
       "      <th>num_orders</th>\n",
       "    </tr>\n",
       "  </thead>\n",
       "  <tbody>\n",
       "    <tr>\n",
       "      <th>count</th>\n",
       "      <td>4340.000000</td>\n",
       "    </tr>\n",
       "    <tr>\n",
       "      <th>mean</th>\n",
       "      <td>4.166590</td>\n",
       "    </tr>\n",
       "    <tr>\n",
       "      <th>std</th>\n",
       "      <td>16.458378</td>\n",
       "    </tr>\n",
       "    <tr>\n",
       "      <th>min</th>\n",
       "      <td>1.000000</td>\n",
       "    </tr>\n",
       "    <tr>\n",
       "      <th>25%</th>\n",
       "      <td>1.000000</td>\n",
       "    </tr>\n",
       "    <tr>\n",
       "      <th>50%</th>\n",
       "      <td>2.000000</td>\n",
       "    </tr>\n",
       "    <tr>\n",
       "      <th>75%</th>\n",
       "      <td>4.000000</td>\n",
       "    </tr>\n",
       "    <tr>\n",
       "      <th>max</th>\n",
       "      <td>997.000000</td>\n",
       "    </tr>\n",
       "  </tbody>\n",
       "</table>\n",
       "</div>"
      ],
      "text/plain": [
       "        num_orders\n",
       "count  4340.000000\n",
       "mean      4.166590\n",
       "std      16.458378\n",
       "min       1.000000\n",
       "25%       1.000000\n",
       "50%       2.000000\n",
       "75%       4.000000\n",
       "max     997.000000"
      ]
     },
     "execution_count": 250,
     "metadata": {},
     "output_type": "execute_result"
    }
   ],
   "source": [
    "# Stats on number of purchases per customer\n",
    "merged_table.groupby('customer_id')['invoice_datetime'].nunique().reset_index().rename(columns = {'invoice_datetime':'num_orders'}).describe()"
   ]
  },
  {
   "cell_type": "markdown",
   "metadata": {},
   "source": [
    "<h3> Function for computing number of new customers </h3>"
   ]
  },
  {
   "cell_type": "code",
   "execution_count": 292,
   "metadata": {},
   "outputs": [],
   "source": [
    "def num_new_customers(time_period):\n",
    "    \"\"\"\n",
    "    Compute number of new customers within time_period\n",
    "\n",
    "    Arguments:\n",
    "    time_period -- (start_date, end_date)\n",
    "\n",
    "    Returns:\n",
    "    num_new_customers, num_all_customers\n",
    "    \"\"\"\n",
    "    start_date, end_date = time_period\n",
    "    \n",
    "    # All customers by end of time period\n",
    "    num_all_customers = merged_table[merged_table['invoice_date']<= end_date]['customer_id'].nunique()\n",
    "\n",
    "    # existing customers before start_date:\n",
    "    existing = merged_table[merged_table['invoice_date'] < start_date]['customer_id'].unique().tolist()\n",
    "\n",
    "    # customers within time period\n",
    "    df_slice = merged_table[(merged_table['invoice_date']>=start_date) & (merged_table['invoice_date']<=end_date)]['customer_id'].unique().tolist()\n",
    "\n",
    "\n",
    "\n",
    "    new_customers = set(df_slice) - set(existing)\n",
    "    num_new_customers = len(new_customers)\n",
    "\n",
    "    return num_new_customers, num_all_customers"
   ]
  },
  {
   "cell_type": "code",
   "execution_count": 296,
   "metadata": {},
   "outputs": [],
   "source": [
    "# compute number of new customers for each month: \n",
    "time_periods= [\n",
    "                ('2018-12-01', '2018-12-31'), ('2019-01-01', '2019-01-31'), ('2019-02-01', '2019-02-31'), ('2019-03-01', '2019-03-31'),\n",
    "                ('2019-04-01', '2019-04-31'), ('2019-05-01', '2019-05-31'), ('2019-06-01', '2019-06-31'), ('2019-07-01', '2019-07-31'),\n",
    "                ('2019-08-01', '2019-08-31'), ('2019-09-01', '2019-09-31'), ('2019-10-01', '2019-10-31'), ('2019-11-01', '2019-11-31'),\n",
    "                ('2019-12-01', '2019-12-31') ]\n",
    "\n",
    "months = ['2018-12','2019-01','2019-02','2019-03','2019-04','2019-05','2019-06','2019-07','2019-08','2019-09','2019-10','2019-11','2019-12']\n",
    "\n",
    "all_customers = []\n",
    "new_customer_counts = []\n",
    "\n",
    "for time_period in time_periods:\n",
    "    new_customer_counts.append(num_new_customers(time_period)[0])\n",
    "    all_customers.append(num_new_customers(time_period)[1])\n",
    "\n"
   ]
  },
  {
   "cell_type": "code",
   "execution_count": 305,
   "metadata": {},
   "outputs": [
    {
     "data": {
      "image/png": "[encoded data removed]",
      "text/plain": [
       "<Figure size 432x288 with 1 Axes>"
      ]
     },
     "metadata": {
      "needs_background": "light"
     },
     "output_type": "display_data"
    }
   ],
   "source": [
    "fig, ax = plt.subplots(1,1)\n",
    "ax.plot(months, new_customer_counts, color = 'r', label = 'new_customers', marker = 'o')\n",
    "ax.plot(months, all_customers, color = 'b', label = 'all_customers', marker = 'o')\n",
    "ax.set_xlabel('year-month')\n",
    "ax.set_xticks(ticks = months)\n",
    "ax.set_xticklabels(labels = months, rotation = 45)\n",
    "ax.legend()\n",
    "\n",
    "plt.show()"
   ]
  },
  {
   "cell_type": "markdown",
   "metadata": {},
   "source": [
    "<h3> Function for computing number of idle customers </h3>"
   ]
  },
  {
   "cell_type": "code",
   "execution_count": 57,
   "metadata": {},
   "outputs": [],
   "source": [
    "def idle_customers(time_period):\n",
    "    \"\"\"\n",
    "    Compute number of idle customers within time_period\n",
    "\n",
    "    Arguments:\n",
    "    time_period -- (start_date, end_date)\n",
    "\n",
    "    Returns:\n",
    "    num_idle_customers, num_all_customers, num_idle_customers/num_all_customers\n",
    "    \n",
    "    \"\"\"\n",
    "    start_date, end_date = time_period\n",
    "\n",
    "    # Customers who made a purchase within time_period\n",
    "    purchasers = merged_table[(merged_table['invoice_date'] >= start_date) & (merged_table['invoice_date'] <= end_date)]['customer_id'].unique().tolist()\n",
    "\n",
    "    # All existing customers within time_period\n",
    "    existing = merged_table[(merged_table['invoice_date'] < end_date)]['customer_id'].unique().tolist()\n",
    "\n",
    "    num_idle_customers = len(set(existing)) - len (set(purchasers))\n",
    "    num_all_customers = len(set(existing))\n",
    "\n",
    "    return num_idle_customers, num_all_customers, round (100 * num_idle_customers / num_all_customers, 2)\n"
   ]
  },
  {
   "cell_type": "code",
   "execution_count": 288,
   "metadata": {},
   "outputs": [],
   "source": [
    "time_periods= [\n",
    "                ('2018-12-01', '2018-12-31'), ('2019-01-01', '2019-01-31'), ('2019-02-01', '2019-02-31'),\n",
    "                ('2019-03-01', '2019-03-31'), ('2019-04-01', '2019-04-31'), ('2019-05-01', '2019-05-31'),\n",
    "                ('2019-06-01', '2019-06-31'), ('2019-07-01', '2019-07-31'), ('2019-08-01', '2019-08-31'),\n",
    "                ('2019-09-01', '2019-09-31'), ('2019-10-01', '2019-10-31'),('2019-11-01', '2019-11-31'),\n",
    "                ('2019-12-01', '2019-12-31')\n",
    "                ]\n",
    "\n",
    "idle_customer_rates = []\n",
    "for time_period in time_periods:\n",
    "    idle_customer_rates.append(idle_customers(time_period)[2])\n",
    "\n"
   ]
  },
  {
   "cell_type": "code",
   "execution_count": 290,
   "metadata": {},
   "outputs": [
    {
     "data": {
      "image/png": "[encoded data removed]",
      "text/plain": [
       "<Figure size 432x288 with 1 Axes>"
      ]
     },
     "metadata": {
      "needs_background": "light"
     },
     "output_type": "display_data"
    }
   ],
   "source": [
    "months = ['2018-12','2019-01','2019-02','2019-03','2019-04','2019-05','2019-06','2019-07','2019-08','2019-09','2019-10','2019-11','2019-12']\n",
    "\n",
    "fig, ax = plt.subplots(1,1)\n",
    "ax.plot(months, idle_customer_rates, marker = 'o')\n",
    "ax.set_xticks(ticks = months)\n",
    "ax.set_xticklabels(labels = months, rotation = 45)\n",
    "ax.set_title('idle customer rate per month')\n",
    "plt.show()"
   ]
  },
  {
   "cell_type": "markdown",
   "metadata": {},
   "source": [
    "- Graph shows percentage of existing customers that DID NOT make a purchase in each month. <br>\n",
    "- Bear in mind that the data only goes up to 9 Dec 2019. So the unusually high idle customer rate in 2019–12 is misrepresentative. <br>\n",
    "- Idle customer rate seems to plateau at around 60–70 percent from 2019–04 onwards. <br>\n",
    "- Also, the idle rate is 0 for 2018–12, because the data begins in Dec 2018.\n"
   ]
  },
  {
   "cell_type": "markdown",
   "metadata": {},
   "source": [
    "<h3> Function for computing purchase rate (# orders per day within time period) </h3>"
   ]
  },
  {
   "cell_type": "code",
   "execution_count": 317,
   "metadata": {},
   "outputs": [],
   "source": [
    "def purchase_rate(time_period):\n",
    "\n",
    "    \"\"\"\n",
    "    Compute number of idle customers within time_period\n",
    "\n",
    "    Arguments:\n",
    "    time_period -- (start_date, end_date)\n",
    "\n",
    "    Returns:\n",
    "    purchase_rate (num_orders / num_days)\n",
    "    \"\"\"\n",
    "\n",
    "    start_date, end_date = time_period\n",
    "\n",
    "    temp_df = merged_table[(merged_table['invoice_date']>= start_date) & (merged_table['invoice_date']<= end_date)]\n",
    "    num_invoices = len(temp_df['invoice_no'].unique())\n",
    "    num_days = (datetime.strptime(end_date,'%Y-%m-%d') - datetime.strptime(start_date,'%Y-%m-%d')).days\n",
    "    num_days\n",
    "    purchase_rate = num_invoices/num_days\n",
    "    return round(purchase_rate,2)\n",
    "    "
   ]
  },
  {
   "cell_type": "code",
   "execution_count": 321,
   "metadata": {},
   "outputs": [],
   "source": [
    "time_periods= [\n",
    "                ('2018-12-01', '2018-12-31'), ('2019-01-01', '2019-01-31'), ('2019-02-01', '2019-02-28'),\n",
    "                ('2019-03-01', '2019-03-31'), ('2019-04-01', '2019-04-30'), ('2019-05-01', '2019-05-31'),\n",
    "                ('2019-06-01', '2019-06-30'), ('2019-07-01', '2019-07-31'), ('2019-08-01', '2019-08-31'),\n",
    "                ('2019-09-01', '2019-09-30'), ('2019-10-01', '2019-10-31'), ('2019-11-01', '2019-11-30'),\n",
    "                ('2019-12-01', '2019-12-31')\n",
    "                ]\n",
    "\n",
    "purchase_rates = []\n",
    "for time_period in time_periods:\n",
    "    purchase_rates.append(purchase_rate(time_period))"
   ]
  },
  {
   "cell_type": "code",
   "execution_count": 324,
   "metadata": {},
   "outputs": [
    {
     "data": {
      "image/png": "[encoded data removed]",
      "text/plain": [
       "<Figure size 432x288 with 1 Axes>"
      ]
     },
     "metadata": {
      "needs_background": "light"
     },
     "output_type": "display_data"
    }
   ],
   "source": [
    "months = ['2018-12','2019-01','2019-02','2019-03','2019-04','2019-05','2019-06','2019-07','2019-08','2019-09','2019-10','2019-11','2019-12']\n",
    "\n",
    "fig, ax = plt.subplots(1,1)\n",
    "ax.plot(months,  purchase_rates, marker = 'o')\n",
    "ax.set_xticks(ticks = months)\n",
    "ax.set_xticklabels(labels = months, rotation = 45)\n",
    "ax.set_title('average purchase rate (number of orders per day) per month')\n",
    "plt.show()"
   ]
  },
  {
   "cell_type": "markdown",
   "metadata": {},
   "source": [
    "Again, data for 2019–12 is incomplete. So the purchase rate appears lower for that month."
   ]
  },
  {
   "cell_type": "markdown",
   "metadata": {},
   "source": [
    "<h3> Average revenue per day (revenue per day within time period) </h3>"
   ]
  },
  {
   "cell_type": "code",
   "execution_count": 311,
   "metadata": {},
   "outputs": [],
   "source": [
    "def average_revenue(time_period):\n",
    "\n",
    "    \"\"\"\n",
    "    Compute average revenue per day within time_period\n",
    "\n",
    "    Arguments:\n",
    "    time_period -- (start_date, end_date)\n",
    "\n",
    "    Returns:\n",
    "    average_revenue\n",
    "    \"\"\"\n",
    "\n",
    "    start_date, end_date = time_period\n",
    "\n",
    "    total_revenue = merged_table [(merged_table['invoice_date']>= start_date) & (merged_table['invoice_date']<= end_date)]['total_sale'].sum()\n",
    "    num_days = (datetime.strptime(end_date,'%Y-%m-%d') - datetime.strptime(start_date,'%Y-%m-%d')).days\n",
    "    average_revenue = total_revenue/num_days\n",
    "    return average_revenue\n",
    "    "
   ]
  },
  {
   "cell_type": "code",
   "execution_count": 327,
   "metadata": {},
   "outputs": [
    {
     "data": {
      "image/png": "[encoded data removed]",
      "text/plain": [
       "<Figure size 504x504 with 2 Axes>"
      ]
     },
     "metadata": {
      "needs_background": "light"
     },
     "output_type": "display_data"
    }
   ],
   "source": [
    "time_periods= [\n",
    "                ('2018-12-01', '2018-12-31'), ('2019-01-01', '2019-01-31'), ('2019-02-01', '2019-02-28'),\n",
    "                ('2019-03-01', '2019-03-31'), ('2019-04-01', '2019-04-30'), ('2019-05-01', '2019-05-31'),\n",
    "                ('2019-06-01', '2019-06-30'), ('2019-07-01', '2019-07-31'), ('2019-08-01', '2019-08-31'),\n",
    "                ('2019-09-01', '2019-09-30'), ('2019-10-01', '2019-10-31'), ('2019-11-01', '2019-11-30'),\n",
    "                ('2019-12-01', '2019-12-31')\n",
    "                ]\n",
    "\n",
    "purchase_rates = []\n",
    "for time_period in time_periods:\n",
    "    purchase_rates.append(purchase_rate(time_period))\n",
    "\n",
    "average_revenues = []\n",
    "for time_period in time_periods:\n",
    "    average_revenues.append(average_revenue(time_period))\n",
    "\n",
    "months = ['2018-12','2019-01','2019-02','2019-03','2019-04','2019-05','2019-06','2019-07','2019-08','2019-09','2019-10','2019-11','2019-12']\n",
    "\n",
    "fig, ax = plt.subplots(2,1, figsize = (7,7))\n",
    "\n",
    "ax[0].plot(months, purchase_rates, marker = 'o')\n",
    "ax[0].set_title('average purchase rate (number of orders per day) per month')\n",
    "ax[0].set_xticks(ticks = months)\n",
    "ax[0].set_xticklabels(labels = months, rotation = 45)\n",
    "\n",
    "ax[1].plot(months, average_revenues, marker = 'o')\n",
    "ax[1].set_title ('average revenue per day per month')\n",
    "ax[1].set_xticks(ticks = months)\n",
    "ax[1].set_xticklabels(labels = months, rotation = 45)\n",
    "plt.tight_layout()\n",
    "plt.show()\n"
   ]
  },
  {
   "cell_type": "markdown",
   "metadata": {},
   "source": [
    "<h3> Number of orders per customer </h3> "
   ]
  },
  {
   "cell_type": "code",
   "execution_count": 48,
   "metadata": {},
   "outputs": [
    {
     "data": {
      "text/html": [
       "<div>\n",
       "<style scoped>\n",
       "    .dataframe tbody tr th:only-of-type {\n",
       "        vertical-align: middle;\n",
       "    }\n",
       "\n",
       "    .dataframe tbody tr th {\n",
       "        vertical-align: top;\n",
       "    }\n",
       "\n",
       "    .dataframe thead th {\n",
       "        text-align: right;\n",
       "    }\n",
       "</style>\n",
       "<table border=\"1\" class=\"dataframe\">\n",
       "  <thead>\n",
       "    <tr style=\"text-align: right;\">\n",
       "      <th></th>\n",
       "      <th>customer_id</th>\n",
       "      <th>country</th>\n",
       "      <th>num_orders</th>\n",
       "    </tr>\n",
       "  </thead>\n",
       "  <tbody>\n",
       "    <tr>\n",
       "      <th>334</th>\n",
       "      <td>12748</td>\n",
       "      <td>Germany</td>\n",
       "      <td>211</td>\n",
       "    </tr>\n",
       "    <tr>\n",
       "      <th>1888</th>\n",
       "      <td>14911</td>\n",
       "      <td>Ireland</td>\n",
       "      <td>201</td>\n",
       "    </tr>\n",
       "    <tr>\n",
       "      <th>4019</th>\n",
       "      <td>17841</td>\n",
       "      <td>Germany</td>\n",
       "      <td>125</td>\n",
       "    </tr>\n",
       "    <tr>\n",
       "      <th>570</th>\n",
       "      <td>13089</td>\n",
       "      <td>Germany</td>\n",
       "      <td>98</td>\n",
       "    </tr>\n",
       "    <tr>\n",
       "      <th>1670</th>\n",
       "      <td>14606</td>\n",
       "      <td>Germany</td>\n",
       "      <td>92</td>\n",
       "    </tr>\n",
       "  </tbody>\n",
       "</table>\n",
       "</div>"
      ],
      "text/plain": [
       "     customer_id  country  num_orders\n",
       "334        12748  Germany         211\n",
       "1888       14911  Ireland         201\n",
       "4019       17841  Germany         125\n",
       "570        13089  Germany          98\n",
       "1670       14606  Germany          92"
      ]
     },
     "execution_count": 48,
     "metadata": {},
     "output_type": "execute_result"
    }
   ],
   "source": [
    "orders_per_customer = merged_table.groupby(['customer_id', 'country'])['invoice_no'].nunique().reset_index().sort_values(by = 'invoice_no', ascending = False)\n",
    "orders_per_customer.rename(columns = {'invoice_no': 'num_orders'}, inplace = True)\n",
    "orders_per_customer = orders_per_customer[orders_per_customer['customer_id'] != 'Null'] # Drop row where customer_id == Null\n",
    "orders_per_customer.head()"
   ]
  },
  {
   "cell_type": "code",
   "execution_count": 51,
   "metadata": {},
   "outputs": [
    {
     "data": {
      "text/html": [
       "<div>\n",
       "<style scoped>\n",
       "    .dataframe tbody tr th:only-of-type {\n",
       "        vertical-align: middle;\n",
       "    }\n",
       "\n",
       "    .dataframe tbody tr th {\n",
       "        vertical-align: top;\n",
       "    }\n",
       "\n",
       "    .dataframe thead th {\n",
       "        text-align: right;\n",
       "    }\n",
       "</style>\n",
       "<table border=\"1\" class=\"dataframe\">\n",
       "  <thead>\n",
       "    <tr style=\"text-align: right;\">\n",
       "      <th></th>\n",
       "      <th>customer_id</th>\n",
       "      <th>country</th>\n",
       "      <th>num_orders</th>\n",
       "    </tr>\n",
       "  </thead>\n",
       "  <tbody>\n",
       "    <tr>\n",
       "      <th>1888</th>\n",
       "      <td>14911</td>\n",
       "      <td>Ireland</td>\n",
       "      <td>201</td>\n",
       "    </tr>\n",
       "    <tr>\n",
       "      <th>1698</th>\n",
       "      <td>14646</td>\n",
       "      <td>Netherlands</td>\n",
       "      <td>73</td>\n",
       "    </tr>\n",
       "    <tr>\n",
       "      <th>1342</th>\n",
       "      <td>14156</td>\n",
       "      <td>Ireland</td>\n",
       "      <td>55</td>\n",
       "    </tr>\n",
       "    <tr>\n",
       "      <th>185</th>\n",
       "      <td>12569</td>\n",
       "      <td>United Kingdom</td>\n",
       "      <td>32</td>\n",
       "    </tr>\n",
       "    <tr>\n",
       "      <th>281</th>\n",
       "      <td>12682</td>\n",
       "      <td>France</td>\n",
       "      <td>31</td>\n",
       "    </tr>\n",
       "    <tr>\n",
       "      <th>108</th>\n",
       "      <td>12471</td>\n",
       "      <td>United Kingdom</td>\n",
       "      <td>28</td>\n",
       "    </tr>\n",
       "    <tr>\n",
       "      <th>312</th>\n",
       "      <td>12720</td>\n",
       "      <td>United Kingdom</td>\n",
       "      <td>26</td>\n",
       "    </tr>\n",
       "    <tr>\n",
       "      <th>280</th>\n",
       "      <td>12681</td>\n",
       "      <td>France</td>\n",
       "      <td>22</td>\n",
       "    </tr>\n",
       "    <tr>\n",
       "      <th>231</th>\n",
       "      <td>12621</td>\n",
       "      <td>United Kingdom</td>\n",
       "      <td>21</td>\n",
       "    </tr>\n",
       "    <tr>\n",
       "      <th>57</th>\n",
       "      <td>12415</td>\n",
       "      <td>Australia</td>\n",
       "      <td>20</td>\n",
       "    </tr>\n",
       "    <tr>\n",
       "      <th>111</th>\n",
       "      <td>12474</td>\n",
       "      <td>United Kingdom</td>\n",
       "      <td>18</td>\n",
       "    </tr>\n",
       "    <tr>\n",
       "      <th>81</th>\n",
       "      <td>12437</td>\n",
       "      <td>France</td>\n",
       "      <td>18</td>\n",
       "    </tr>\n",
       "    <tr>\n",
       "      <th>163</th>\n",
       "      <td>12540</td>\n",
       "      <td>Spain</td>\n",
       "      <td>17</td>\n",
       "    </tr>\n",
       "    <tr>\n",
       "      <th>302</th>\n",
       "      <td>12709</td>\n",
       "      <td>United Kingdom</td>\n",
       "      <td>15</td>\n",
       "    </tr>\n",
       "    <tr>\n",
       "      <th>197</th>\n",
       "      <td>12583</td>\n",
       "      <td>France</td>\n",
       "      <td>15</td>\n",
       "    </tr>\n",
       "    <tr>\n",
       "      <th>282</th>\n",
       "      <td>12683</td>\n",
       "      <td>France</td>\n",
       "      <td>14</td>\n",
       "    </tr>\n",
       "    <tr>\n",
       "      <th>3702</th>\n",
       "      <td>17404</td>\n",
       "      <td>Sweden</td>\n",
       "      <td>13</td>\n",
       "    </tr>\n",
       "    <tr>\n",
       "      <th>304</th>\n",
       "      <td>12712</td>\n",
       "      <td>United Kingdom</td>\n",
       "      <td>13</td>\n",
       "    </tr>\n",
       "    <tr>\n",
       "      <th>74</th>\n",
       "      <td>12431</td>\n",
       "      <td>Australia</td>\n",
       "      <td>13</td>\n",
       "    </tr>\n",
       "    <tr>\n",
       "      <th>342</th>\n",
       "      <td>12757</td>\n",
       "      <td>Portugal</td>\n",
       "      <td>13</td>\n",
       "    </tr>\n",
       "  </tbody>\n",
       "</table>\n",
       "</div>"
      ],
      "text/plain": [
       "     customer_id         country  num_orders\n",
       "1888       14911         Ireland         201\n",
       "1698       14646     Netherlands          73\n",
       "1342       14156         Ireland          55\n",
       "185        12569  United Kingdom          32\n",
       "281        12682          France          31\n",
       "108        12471  United Kingdom          28\n",
       "312        12720  United Kingdom          26\n",
       "280        12681          France          22\n",
       "231        12621  United Kingdom          21\n",
       "57         12415       Australia          20\n",
       "111        12474  United Kingdom          18\n",
       "81         12437          France          18\n",
       "163        12540           Spain          17\n",
       "302        12709  United Kingdom          15\n",
       "197        12583          France          15\n",
       "282        12683          France          14\n",
       "3702       17404          Sweden          13\n",
       "304        12712  United Kingdom          13\n",
       "74         12431       Australia          13\n",
       "342        12757        Portugal          13"
      ]
     },
     "execution_count": 51,
     "metadata": {},
     "output_type": "execute_result"
    }
   ],
   "source": [
    "# Excluding Germany\n",
    "\n",
    "orders_per_customer[orders_per_customer['country']!= 'Germany'].head(20)"
   ]
  },
  {
   "cell_type": "code",
   "execution_count": 348,
   "metadata": {},
   "outputs": [
    {
     "data": {
      "text/plain": [
       "9.34022433"
      ]
     },
     "execution_count": 348,
     "metadata": {},
     "output_type": "execute_result"
    }
   ],
   "source": [
    "merged_table[merged_table['customer_id']== '14911']['total_sale'].sum()/1000000\n",
    "#merged_table[merged_table['customer_id']== '14911']['quantity'].sum()\n",
    "#merged_table[merged_table['customer_id']== '14911']['unit_price'].unique()"
   ]
  },
  {
   "cell_type": "code",
   "execution_count": 349,
   "metadata": {},
   "outputs": [
    {
     "data": {
      "text/plain": [
       "21.664738299999996"
      ]
     },
     "execution_count": 349,
     "metadata": {},
     "output_type": "execute_result"
    }
   ],
   "source": [
    "merged_table[merged_table['customer_id']== '14646']['total_sale'].sum()/1000000\n",
    "#merged_table[merged_table['customer_id']== '14646']['quantity'].sum()\n",
    "\n"
   ]
  },
  {
   "cell_type": "code",
   "execution_count": 50,
   "metadata": {},
   "outputs": [
    {
     "data": {
      "text/html": [
       "<div>\n",
       "<style scoped>\n",
       "    .dataframe tbody tr th:only-of-type {\n",
       "        vertical-align: middle;\n",
       "    }\n",
       "\n",
       "    .dataframe tbody tr th {\n",
       "        vertical-align: top;\n",
       "    }\n",
       "\n",
       "    .dataframe thead th {\n",
       "        text-align: right;\n",
       "    }\n",
       "</style>\n",
       "<table border=\"1\" class=\"dataframe\">\n",
       "  <thead>\n",
       "    <tr style=\"text-align: right;\">\n",
       "      <th></th>\n",
       "      <th>num_orders</th>\n",
       "    </tr>\n",
       "  </thead>\n",
       "  <tbody>\n",
       "    <tr>\n",
       "      <th>count</th>\n",
       "      <td>4347.000000</td>\n",
       "    </tr>\n",
       "    <tr>\n",
       "      <th>mean</th>\n",
       "      <td>4.271912</td>\n",
       "    </tr>\n",
       "    <tr>\n",
       "      <th>std</th>\n",
       "      <td>7.719016</td>\n",
       "    </tr>\n",
       "    <tr>\n",
       "      <th>min</th>\n",
       "      <td>1.000000</td>\n",
       "    </tr>\n",
       "    <tr>\n",
       "      <th>25%</th>\n",
       "      <td>1.000000</td>\n",
       "    </tr>\n",
       "    <tr>\n",
       "      <th>50%</th>\n",
       "      <td>2.000000</td>\n",
       "    </tr>\n",
       "    <tr>\n",
       "      <th>75%</th>\n",
       "      <td>5.000000</td>\n",
       "    </tr>\n",
       "    <tr>\n",
       "      <th>max</th>\n",
       "      <td>211.000000</td>\n",
       "    </tr>\n",
       "  </tbody>\n",
       "</table>\n",
       "</div>"
      ],
      "text/plain": [
       "        num_orders\n",
       "count  4347.000000\n",
       "mean      4.271912\n",
       "std       7.719016\n",
       "min       1.000000\n",
       "25%       1.000000\n",
       "50%       2.000000\n",
       "75%       5.000000\n",
       "max     211.000000"
      ]
     },
     "execution_count": 50,
     "metadata": {},
     "output_type": "execute_result"
    }
   ],
   "source": [
    "orders_per_customer.describe()"
   ]
  },
  {
   "cell_type": "markdown",
   "metadata": {},
   "source": [
    "Median number of orders: 2 <br>\n",
    "Mean: 4.27 <br>\n",
    "Upper quartile: 5 orders or above <br>"
   ]
  },
  {
   "cell_type": "markdown",
   "metadata": {},
   "source": [
    "<h3> Highest revenue customers for 2019 </h3>"
   ]
  },
  {
   "cell_type": "code",
   "execution_count": 405,
   "metadata": {},
   "outputs": [
    {
     "data": {
      "text/plain": [
       "(1062, 3473)"
      ]
     },
     "execution_count": 405,
     "metadata": {},
     "output_type": "execute_result"
    }
   ],
   "source": [
    "top_revenue = merged_table[merged_table['invoice_datetime'].dt.year == 2019].groupby('customer_id')['total_sale'].sum().reset_index().rename(columns = {'total_sale':'total_revenue'})\n",
    "#top_revenue['total_revenue (in m)'] = top_revenue['total_revenue (in m)'] / 1000000\n",
    "top_revenue = top_revenue.sort_values(by = 'total_revenue', ascending = False)\n",
    "top_revenue = top_revenue[top_revenue['customer_id']!= 'Null']\n",
    "\n",
    "# Check how many customers spent more than 100,000:\n",
    "customers_100k = top_revenue[top_revenue['total_revenue']>100000]        # 1062 rows\n",
    "\n",
    "# Check how many customers spent more than 10,000:\n",
    "customers_10k = top_revenue[top_revenue['total_revenue']>10000]       # 3473 rows\n",
    "\n",
    "len(customers_100k), len (customers_10k)"
   ]
  },
  {
   "cell_type": "markdown",
   "metadata": {},
   "source": [
    "Wow. Okay, so around 75% of all customers spent over 10k in 2019 alone. This means a huge number of customers are bulk buyers."
   ]
  },
  {
   "cell_type": "code",
   "execution_count": 416,
   "metadata": {},
   "outputs": [
    {
     "data": {
      "image/png": "[encoded data removed]",
      "text/plain": [
       "<Figure size 504x720 with 4 Axes>"
      ]
     },
     "metadata": {
      "needs_background": "light"
     },
     "output_type": "display_data"
    }
   ],
   "source": [
    "# Provisional division lines: \n",
    "# 0 – 10k\n",
    "# 10k – 100k\n",
    "# 100k or above\n",
    "\n",
    "fig, ax = plt.subplots(4,1, figsize = (7,10), sharey = True)\n",
    "# 0 – 10k\n",
    "sns.histplot(ax = ax[0], x = top_revenue [top_revenue['total_revenue']< 10000]['total_revenue'])\n",
    "ax[0].set_title('total revenue 0 – 10k')\n",
    "# 10k – 100k\n",
    "sns.histplot(ax = ax[1], x = top_revenue [(top_revenue['total_revenue']>= 10000) & (top_revenue['total_revenue']< 100000)]['total_revenue'])\n",
    "ax[1].set_title('total revenue 10k – 100k')\n",
    "\n",
    "# 100k–1m\n",
    "sns.histplot(ax = ax[2], x = top_revenue [(top_revenue['total_revenue']>= 100000) &(top_revenue['total_revenue']< 1000000)]['total_revenue'])\n",
    "ax[2].set_title('total revenue 100k – 1 m')\n",
    "\n",
    "# 1m or above\n",
    "sns.histplot(ax = ax[3], x = top_revenue [(top_revenue['total_revenue']>= 1000000)]['total_revenue'])\n",
    "ax[3].set_title('total revenue 1m or above')\n",
    "\n",
    "plt.tight_layout()\n",
    "plt.show()"
   ]
  },
  {
   "cell_type": "code",
   "execution_count": 426,
   "metadata": {},
   "outputs": [
    {
     "data": {
      "text/plain": [
       "(747, 2411, 1007, 55, 4220)"
      ]
     },
     "execution_count": 426,
     "metadata": {},
     "output_type": "execute_result"
    }
   ],
   "source": [
    "# 0 – 10k -- private customers\n",
    "\n",
    "customers_0_10k = len(top_revenue[(top_revenue['total_revenue']>0)&(top_revenue['total_revenue']<10000)])\n",
    "\n",
    "# 10k – 100k -- small business customers\n",
    "customers_10k_100k = len(top_revenue[(top_revenue['total_revenue']>=10000)&(top_revenue['total_revenue']<100000)])\n",
    "\n",
    "# 100k–1m -- medium business customers\n",
    "customers_100k_1m = len(top_revenue[(top_revenue['total_revenue']>=100000)&(top_revenue['total_revenue']<1000000)])\n",
    "\n",
    "# 1m or above -- big business customers\n",
    "customers_1m_or_above = len(top_revenue[(top_revenue['total_revenue']>=1000000)])\n",
    "\n",
    "customers_0_10k, customers_10k_100k, customers_100k_1m, customers_1m_or_above, customers_0_10k + customers_10k_100k+ customers_100k_1m + customers_1m_or_above"
   ]
  },
  {
   "cell_type": "code",
   "execution_count": 427,
   "metadata": {},
   "outputs": [
    {
     "data": {
      "text/plain": [
       "4340"
      ]
     },
     "execution_count": 427,
     "metadata": {},
     "output_type": "execute_result"
    }
   ],
   "source": [
    "merged_table['customer_id'].nunique()"
   ]
  },
  {
   "cell_type": "markdown",
   "metadata": {},
   "source": [
    "Wait ... where did my 120 customers go???"
   ]
  },
  {
   "cell_type": "markdown",
   "metadata": {},
   "source": [
    "Ok this is interesting: <br>\n",
    "\n",
    "- A rather small number of customers (747 out of 4220) are private users\n",
    "- The majority of customers are business customers, which we have (quit arbitrarily) divided into three classes: small, medium, big\n",
    "- This means we want to cater to the non-private customers as a priority\n",
    "- Find out if there is a difference in the kinds of products private vs business customers tend to buy"
   ]
  },
  {
   "cell_type": "markdown",
   "metadata": {},
   "source": [
    "<h3> Number of units ordered per customer </h3>"
   ]
  },
  {
   "cell_type": "code",
   "execution_count": null,
   "metadata": {},
   "outputs": [],
   "source": []
  },
  {
   "cell_type": "code",
   "execution_count": null,
   "metadata": {},
   "outputs": [],
   "source": []
  },
  {
   "cell_type": "markdown",
   "metadata": {},
   "source": [
    "<h5> For each customer, in each month, see percentage of existing customers who have not ordered in the last X time period </h5>"
   ]
  },
  {
   "cell_type": "code",
   "execution_count": 335,
   "metadata": {},
   "outputs": [],
   "source": [
    "one_month_periods = [('2019-01-01', '2019-01-31'), ('2019-02-01', '2019-02-31'), ('2019-03-01', '2019-03-31'),\n",
    "                    ('2019-04-01', '2019-04-31'), ('2019-05-01', '2019-05-31'), ('2019-06-01', '2019-06-31'), ('2019-07-01', '2019-07-31'),\n",
    "                    ('2019-08-01', '2019-08-31'), ('2019-09-01', '2019-09-31'), ('2019-10-01', '2019-10-31'),('2019-11-01', '2019-11-31'),\n",
    "                    ('2019-12-01', '2019-12-31')]\n",
    "quarterly_periods = [('2019-01-01', '2019-03-31'), ('2019-04-01', '2019-06-30'),('2019-07-01', '2019-09-30'), ('2019-10-01', '2019-12-31') ]\n",
    "six_month_periods = [('2019-01-01', '2019-06-30'), ('2019-07-01', '2019-12-31')]\n",
    "\n",
    "monthly_idle = []\n",
    "quarterly_idle = []\n",
    "six_monthly_idle = []\n",
    "\n",
    "for per in one_month_periods: \n",
    "    monthly_idle.append(idle_customers(per))\n",
    "\n",
    "for per in quarterly_periods: \n",
    "    quarterly_idle.append(idle_customers(per))\n",
    "\n",
    "for per in six_month_periods:\n",
    "    six_monthly_idle.append(idle_customers(per))"
   ]
  },
  {
   "cell_type": "code",
   "execution_count": 331,
   "metadata": {},
   "outputs": [
    {
     "data": {
      "image/png": "[encoded data removed]",
      "text/plain": [
       "<Figure size 720x576 with 2 Axes>"
      ]
     },
     "metadata": {
      "needs_background": "light"
     },
     "output_type": "display_data"
    }
   ],
   "source": [
    "monthly = [elem [2] for elem in monthly_idle]\n",
    "quarterly = [elem [2] for elem in quarterly_idle]\n",
    "bi_annually = [elem [2] for elem in six_monthly_idle]\n",
    "\n",
    "\n",
    "\n",
    "fig, ax = plt.subplots(2,1, figsize = (10,8), sharey = True)\n",
    "\n",
    "ax[0].plot(list(range(1, len(monthly_idle)+1)), monthly, marker = 'o')\n",
    "ax[0].set_title('percentage of idle customers per month')\n",
    "ax[0].set_xticks(list(range(1, len(monthly_idle)+1)))\n",
    "ax[0].set_xlabel('month')\n",
    "\n",
    "ax[1].plot(list(range(1, len(quarterly_idle)+1)), quarterly, marker = 'o')\n",
    "ax[1].set_title('percentage of idle customers per quarter')\n",
    "ax[1].set_xticks(list(range(1, len(quarterly_idle)+1)))\n",
    "ax[1].set_xlabel('quarter')\n",
    "\n",
    "# ax[2].plot(list(range(1, len(six_monthly_idle)+1)), bi_annually, marker = 'o')\n",
    "# ax[2].set_title('percentage of idle customers per six months')\n",
    "# ax[2].set_xticks(list(range(1, len(six_monthly_idle)+1)))\n",
    "# ax[2].set_xlabel('half of year')\n",
    "\n",
    "\n",
    "plt.tight_layout()\n",
    "plt.show()\n"
   ]
  },
  {
   "cell_type": "markdown",
   "metadata": {},
   "source": [
    "<h3> Average number of days since last purchase </h3>"
   ]
  },
  {
   "cell_type": "code",
   "execution_count": 195,
   "metadata": {},
   "outputs": [],
   "source": [
    "def most_recent_order (measure_date):\n",
    "    \"\"\"\n",
    "    Create dataframe showing number of days since last order for each customer\n",
    "\n",
    "    Arguments:\n",
    "    measure_date -- single date, in format 'yyyy-mm-dd'\n",
    "\n",
    "    Returns:\n",
    "    (dataframe, average number of days since last order) \n",
    "    Dataframe ahs columns \"customer_id\", \"last_order\", \"measure_date\", \"days_since_last_order\"\n",
    "    \n",
    "    \"\"\"\n",
    "    \n",
    "    dummy = merged_table.copy(deep = True)\n",
    "    dummy['before_measure_date'] = dummy['invoice_datetime'] < measure_date\n",
    "    dummy = dummy[dummy['before_measure_date'] == True]\n",
    "    dummy = dummy.groupby('customer_id')['invoice_date'].max().reset_index().rename(columns = {'invoice_date': 'last_order'})\n",
    "    dummy['measure_date'] = measure_date\n",
    "    dummy['last_order'] = pd.to_datetime(dummy['last_order'])\n",
    "    dummy['measure_date'] = pd.to_datetime(dummy['measure_date'])\n",
    "    dummy['days_since_last_order'] =  (dummy['measure_date'] - dummy['last_order']).dt.days\n",
    "    return (dummy, round (dummy['days_since_last_order'].mean(),2))\n"
   ]
  },
  {
   "cell_type": "code",
   "execution_count": 196,
   "metadata": {},
   "outputs": [
    {
     "data": {
      "text/plain": [
       "72.02"
      ]
     },
     "execution_count": 196,
     "metadata": {},
     "output_type": "execute_result"
    }
   ],
   "source": [
    "x = most_recent_order('2019-06-30')\n",
    "x[1]"
   ]
  },
  {
   "cell_type": "code",
   "execution_count": 333,
   "metadata": {},
   "outputs": [],
   "source": [
    "measure_dates = ['2019-01-01','2019-02-01','2019-03-01','2019-04-01','2019-05-01','2019-06-01','2019-07-01',\n",
    "                '2019-08-01','2019-09-01','2019-10-01','2019-11-01','2019-12-01', ]\n",
    "days_since_last_order = []\n",
    "for date in measure_dates:\n",
    "    days_since_last_order.append(most_recent_order(date)[1])\n",
    "\n",
    "#days_since_last_order  \n",
    "\n"
   ]
  },
  {
   "cell_type": "code",
   "execution_count": 334,
   "metadata": {},
   "outputs": [
    {
     "data": {
      "image/png": "[encoded data removed]",
      "text/plain": [
       "<Figure size 720x360 with 1 Axes>"
      ]
     },
     "metadata": {
      "needs_background": "light"
     },
     "output_type": "display_data"
    }
   ],
   "source": [
    "fig, ax = plt.subplots(1,1, figsize = (10,5))\n",
    "ax.plot(measure_dates, days_since_last_order, marker = 'o')\n",
    "ax.set_title('Average number of days since last order')\n",
    "ax.set_xticks(measure_dates)\n",
    "ax.set_xticklabels(measure_dates, rotation = 45)\n",
    "plt.show()"
   ]
  },
  {
   "cell_type": "code",
   "execution_count": 242,
   "metadata": {},
   "outputs": [],
   "source": [
    "start_date = datetime.date(2019, 1, 1)\n",
    "number_of_days = 365\n",
    "date_list = [(start_date + datetime.timedelta(days = day)).isoformat() for day in range(0, number_of_days, 15)] # Date every 15 days\n",
    "\n",
    "\n",
    "days_since_last_order = []\n",
    "for date in date_list:\n",
    "    days_since_last_order.append(most_recent_order(date)[1])\n"
   ]
  },
  {
   "cell_type": "code",
   "execution_count": 243,
   "metadata": {},
   "outputs": [
    {
     "data": {
      "image/png": "[encoded data removed]",
      "text/plain": [
       "<Figure size 720x360 with 1 Axes>"
      ]
     },
     "metadata": {
      "needs_background": "light"
     },
     "output_type": "display_data"
    }
   ],
   "source": [
    "fig, ax = plt.subplots(1,1, figsize = (10,5))\n",
    "ax.plot(date_list, days_since_last_order, marker = 'o')\n",
    "ax.set_title('Average number of days since last order')\n",
    "ax.set_xticks(date_list)\n",
    "ax.set_xticklabels(date_list, rotation = 45)\n",
    "plt.show()"
   ]
  },
  {
   "cell_type": "markdown",
   "metadata": {},
   "source": [
    "<h3> Correlation with rating of top selling products </h3>"
   ]
  },
  {
   "cell_type": "markdown",
   "metadata": {},
   "source": [
    "<h3> Identify worst-selling products. Phase out of stock? </h3>"
   ]
  },
  {
   "cell_type": "markdown",
   "metadata": {},
   "source": [
    "<h3> Number of orders per country </h3>"
   ]
  },
  {
   "cell_type": "code",
   "execution_count": 21,
   "metadata": {},
   "outputs": [
    {
     "data": {
      "text/html": [
       "<div>\n",
       "<style scoped>\n",
       "    .dataframe tbody tr th:only-of-type {\n",
       "        vertical-align: middle;\n",
       "    }\n",
       "\n",
       "    .dataframe tbody tr th {\n",
       "        vertical-align: top;\n",
       "    }\n",
       "\n",
       "    .dataframe thead th {\n",
       "        text-align: right;\n",
       "    }\n",
       "</style>\n",
       "<table border=\"1\" class=\"dataframe\">\n",
       "  <thead>\n",
       "    <tr style=\"text-align: right;\">\n",
       "      <th></th>\n",
       "      <th>country</th>\n",
       "      <th>invoice_no</th>\n",
       "    </tr>\n",
       "  </thead>\n",
       "  <tbody>\n",
       "    <tr>\n",
       "      <th>12</th>\n",
       "      <td>Germany</td>\n",
       "      <td>18709</td>\n",
       "    </tr>\n",
       "    <tr>\n",
       "      <th>34</th>\n",
       "      <td>United Kingdom</td>\n",
       "      <td>478</td>\n",
       "    </tr>\n",
       "    <tr>\n",
       "      <th>11</th>\n",
       "      <td>France</td>\n",
       "      <td>389</td>\n",
       "    </tr>\n",
       "    <tr>\n",
       "      <th>16</th>\n",
       "      <td>Ireland</td>\n",
       "      <td>288</td>\n",
       "    </tr>\n",
       "    <tr>\n",
       "      <th>3</th>\n",
       "      <td>Belgium</td>\n",
       "      <td>99</td>\n",
       "    </tr>\n",
       "    <tr>\n",
       "      <th>23</th>\n",
       "      <td>Netherlands</td>\n",
       "      <td>94</td>\n",
       "    </tr>\n",
       "    <tr>\n",
       "      <th>30</th>\n",
       "      <td>Spain</td>\n",
       "      <td>89</td>\n",
       "    </tr>\n",
       "    <tr>\n",
       "      <th>0</th>\n",
       "      <td>Australia</td>\n",
       "      <td>56</td>\n",
       "    </tr>\n",
       "    <tr>\n",
       "      <th>26</th>\n",
       "      <td>Portugal</td>\n",
       "      <td>56</td>\n",
       "    </tr>\n",
       "    <tr>\n",
       "      <th>32</th>\n",
       "      <td>Switzerland</td>\n",
       "      <td>50</td>\n",
       "    </tr>\n",
       "    <tr>\n",
       "      <th>10</th>\n",
       "      <td>Finland</td>\n",
       "      <td>41</td>\n",
       "    </tr>\n",
       "    <tr>\n",
       "      <th>18</th>\n",
       "      <td>Italy</td>\n",
       "      <td>35</td>\n",
       "    </tr>\n",
       "    <tr>\n",
       "      <th>31</th>\n",
       "      <td>Sweden</td>\n",
       "      <td>34</td>\n",
       "    </tr>\n",
       "    <tr>\n",
       "      <th>24</th>\n",
       "      <td>Norway</td>\n",
       "      <td>33</td>\n",
       "    </tr>\n",
       "    <tr>\n",
       "      <th>25</th>\n",
       "      <td>Poland</td>\n",
       "      <td>20</td>\n",
       "    </tr>\n",
       "    <tr>\n",
       "      <th>19</th>\n",
       "      <td>Japan</td>\n",
       "      <td>19</td>\n",
       "    </tr>\n",
       "    <tr>\n",
       "      <th>8</th>\n",
       "      <td>Denmark</td>\n",
       "      <td>18</td>\n",
       "    </tr>\n",
       "    <tr>\n",
       "      <th>1</th>\n",
       "      <td>Austria</td>\n",
       "      <td>17</td>\n",
       "    </tr>\n",
       "    <tr>\n",
       "      <th>6</th>\n",
       "      <td>Cyprus</td>\n",
       "      <td>15</td>\n",
       "    </tr>\n",
       "    <tr>\n",
       "      <th>36</th>\n",
       "      <td>Unknown</td>\n",
       "      <td>13</td>\n",
       "    </tr>\n",
       "    <tr>\n",
       "      <th>14</th>\n",
       "      <td>Hong Kong</td>\n",
       "      <td>10</td>\n",
       "    </tr>\n",
       "    <tr>\n",
       "      <th>17</th>\n",
       "      <td>Israel</td>\n",
       "      <td>8</td>\n",
       "    </tr>\n",
       "    <tr>\n",
       "      <th>28</th>\n",
       "      <td>Singapore</td>\n",
       "      <td>7</td>\n",
       "    </tr>\n",
       "    <tr>\n",
       "      <th>15</th>\n",
       "      <td>Iceland</td>\n",
       "      <td>7</td>\n",
       "    </tr>\n",
       "    <tr>\n",
       "      <th>5</th>\n",
       "      <td>Canada</td>\n",
       "      <td>5</td>\n",
       "    </tr>\n",
       "    <tr>\n",
       "      <th>22</th>\n",
       "      <td>Malta</td>\n",
       "      <td>5</td>\n",
       "    </tr>\n",
       "    <tr>\n",
       "      <th>35</th>\n",
       "      <td>United States</td>\n",
       "      <td>5</td>\n",
       "    </tr>\n",
       "    <tr>\n",
       "      <th>13</th>\n",
       "      <td>Greece</td>\n",
       "      <td>5</td>\n",
       "    </tr>\n",
       "    <tr>\n",
       "      <th>21</th>\n",
       "      <td>Lithuania</td>\n",
       "      <td>4</td>\n",
       "    </tr>\n",
       "    <tr>\n",
       "      <th>2</th>\n",
       "      <td>Bahrain</td>\n",
       "      <td>3</td>\n",
       "    </tr>\n",
       "    <tr>\n",
       "      <th>9</th>\n",
       "      <td>European Community</td>\n",
       "      <td>3</td>\n",
       "    </tr>\n",
       "    <tr>\n",
       "      <th>33</th>\n",
       "      <td>United Arab Emirates</td>\n",
       "      <td>2</td>\n",
       "    </tr>\n",
       "    <tr>\n",
       "      <th>7</th>\n",
       "      <td>Czech Republic</td>\n",
       "      <td>2</td>\n",
       "    </tr>\n",
       "    <tr>\n",
       "      <th>29</th>\n",
       "      <td>South Africa</td>\n",
       "      <td>1</td>\n",
       "    </tr>\n",
       "    <tr>\n",
       "      <th>4</th>\n",
       "      <td>Brazil</td>\n",
       "      <td>1</td>\n",
       "    </tr>\n",
       "    <tr>\n",
       "      <th>27</th>\n",
       "      <td>Saudi Arabia</td>\n",
       "      <td>1</td>\n",
       "    </tr>\n",
       "    <tr>\n",
       "      <th>20</th>\n",
       "      <td>Lebanon</td>\n",
       "      <td>1</td>\n",
       "    </tr>\n",
       "  </tbody>\n",
       "</table>\n",
       "</div>"
      ],
      "text/plain": [
       "                 country  invoice_no\n",
       "12               Germany       18709\n",
       "34        United Kingdom         478\n",
       "11                France         389\n",
       "16               Ireland         288\n",
       "3                Belgium          99\n",
       "23           Netherlands          94\n",
       "30                 Spain          89\n",
       "0              Australia          56\n",
       "26              Portugal          56\n",
       "32           Switzerland          50\n",
       "10               Finland          41\n",
       "18                 Italy          35\n",
       "31                Sweden          34\n",
       "24                Norway          33\n",
       "25                Poland          20\n",
       "19                 Japan          19\n",
       "8                Denmark          18\n",
       "1                Austria          17\n",
       "6                 Cyprus          15\n",
       "36               Unknown          13\n",
       "14             Hong Kong          10\n",
       "17                Israel           8\n",
       "28             Singapore           7\n",
       "15               Iceland           7\n",
       "5                 Canada           5\n",
       "22                 Malta           5\n",
       "35         United States           5\n",
       "13                Greece           5\n",
       "21             Lithuania           4\n",
       "2                Bahrain           3\n",
       "9     European Community           3\n",
       "33  United Arab Emirates           2\n",
       "7         Czech Republic           2\n",
       "29          South Africa           1\n",
       "4                 Brazil           1\n",
       "27          Saudi Arabia           1\n",
       "20               Lebanon           1"
      ]
     },
     "execution_count": 21,
     "metadata": {},
     "output_type": "execute_result"
    }
   ],
   "source": [
    "merged_table.groupby('country')['invoice_no'].nunique().reset_index().sort_values(by = 'invoice_no', ascending = False)"
   ]
  },
  {
   "cell_type": "code",
   "execution_count": null,
   "metadata": {},
   "outputs": [],
   "source": []
  }
 ],
 "metadata": {
  "kernelspec": {
   "display_name": "Python 3.9.7 ('base')",
   "language": "python",
   "name": "python3"
  },
  "language_info": {
   "codemirror_mode": {
    "name": "ipython",
    "version": 3
   },
   "file_extension": ".py",
   "mimetype": "text/x-python",
   "name": "python",
   "nbconvert_exporter": "python",
   "pygments_lexer": "ipython3",
   "version": "3.9.7"
  },
  "orig_nbformat": 4,
  "vscode": {
   "interpreter": {
    "hash": "40d3a090f54c6569ab1632332b64b2c03c39dcf918b08424e98f38b5ae0af88f"
   }
  }
 },
 "nbformat": 4,
 "nbformat_minor": 2
}
